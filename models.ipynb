{
 "cells": [
  {
   "cell_type": "code",
   "execution_count": 6,
   "metadata": {},
   "outputs": [],
   "source": [
    "# imports\n",
    "import numpy as np\n",
    "import pandas as pd\n",
    "import math\n",
    "from sklearn.linear_model import LinearRegression\n",
    "from sklearn import tree \n",
    "from sklearn.svm import SVC\n",
    "from sklearn.neural_network import MLPClassifier\n",
    "from sklearn.impute import SimpleImputer\n",
    "from sklearn.preprocessing import LabelEncoder\n",
    "from sklearn.model_selection import train_test_split\n",
    "from sklearn.metrics import mean_squared_error\n",
    "from sklearn.experimental import enable_iterative_imputer  # noqa\n",
    "from sklearn.impute import IterativeImputer\n",
    "from sklearn.metrics import r2_score\n",
    "from sklearn.tree import DecisionTreeRegressor\n",
    "from sklearn.ensemble import RandomForestRegressor"
   ]
  },
  {
   "cell_type": "code",
   "execution_count": 7,
   "metadata": {},
   "outputs": [],
   "source": [
    "def dropNA(df, top_9=False):\n",
    "    \"\"\"\n",
    "    Prepare the data for training, deal with NaNs. I think we also need to drop the 2014 years?\n",
    "    \"\"\"\n",
    "\n",
    "    # remove commas in numeric columns\n",
    "    for feature in df.columns:\n",
    "        df[feature] = df[feature].apply(lambda x: x.replace(',', '') if isinstance(x, str) else x)\n",
    "\n",
    "    # force numeric \n",
    "    numeric_cols = ['Cost Min Basket', 'Goat Price', 'Goat to Cereal', 'Maize Price', 'Rice Price', 'Sorghum Price', 'Wage Price', 'Arrivals']\n",
    "    df[numeric_cols] = df[numeric_cols].apply(pd.to_numeric)\n",
    "\n",
    "    # make categorical columns\n",
    "    df = df.astype({\"Region\": 'category', \"District\": 'category', \"Month\": 'category'})\n",
    "\n",
    "    # drop columns that arent useful\n",
    "    if top_9:\n",
    "        keep_cols = ['Arrivals', 'Region', 'District', 'Month', 'Year', 'Rainfall', 'Conflict Fatalities', 'Conflict Incidents', 'Water Price', 'Goat Price']\n",
    "        df = df[keep_cols]\n",
    "    \n",
    "    df = df.dropna()\n",
    "\n",
    "    return df\n",
    "\n",
    "def impute(df, top_9=False):\n",
    "    imp = IterativeImputer(max_iter=10, random_state=0)\n",
    "    array_imp = imp.fit_transform(df_imp)\n",
    "    df_imp = pd.DataFrame(array_imp, columns=df.columns) \n",
    "\n",
    "    # drop columns that arent useful\n",
    "    if top_9:\n",
    "        keep_cols = ['Arrivals', 'Region', 'District', 'Month', 'Year', 'Rainfall', 'Conflict Fatalities', 'Conflict Incidents', 'Water Price', 'Goat Price']\n",
    "        df_imp = df_imp[keep_cols]\n",
    "        \n",
    "    return df_imp\n",
    "    "
   ]
  },
  {
   "cell_type": "code",
   "execution_count": null,
   "metadata": {},
   "outputs": [],
   "source": []
  },
  {
   "cell_type": "code",
   "execution_count": 8,
   "metadata": {},
   "outputs": [
    {
     "name": "stderr",
     "output_type": "stream",
     "text": [
      "/var/folders/fv/_v7myjl904983sbb39qbkzw40000gn/T/ipykernel_59973/2305709851.py:7: DtypeWarning: Columns (17,23) have mixed types. Specify dtype option on import or set low_memory=False.\n",
      "  df = pd.read_csv('/Users/mihirsingh/Documents/Middlebury/CSCI451/UNHCR-ml-challenge/data/combined_data.csv')\n",
      "/Users/mihirsingh/anaconda3/envs/ml-0451/lib/python3.9/site-packages/sklearn/impute/_iterative.py:796: ConvergenceWarning: [IterativeImputer] Early stopping criterion not reached.\n",
      "  warnings.warn(\n"
     ]
    }
   ],
   "source": [
    "# create models\n",
    "LR = LinearRegression()\n",
    "DT = DecisionTreeRegressor()\n",
    "RF = RandomForestRegressor()\n",
    "\n",
    "# load data\n",
    "df = pd.read_csv('/Users/mihirsingh/Documents/Middlebury/CSCI451/UNHCR-ml-challenge/data/combined_data.csv')\n",
    "df_imp = df.copy()\n",
    "\n",
    "# encode data that is not numerical\n",
    "encoder = LabelEncoder()\n",
    "encoder.fit(df_imp['Region'])\n",
    "df_imp['Region'] = encoder.transform(df_imp['Region'])\n",
    "encoder.fit(df_imp['District'])\n",
    "df_imp['District'] = encoder.transform(df_imp['District'])\n",
    "encoder.fit(df_imp['Month'])\n",
    "df_imp['Month'] = encoder.transform(df_imp['Month'])\n",
    "\n",
    "# turn string numbers into floats\n",
    "features = ['CDI','Month','Year','NDVI','Rainfall','Water Price',\n",
    "            'Conflict Fatalities','Conflict Incidents','Cholera Deaths',\n",
    "            'Cholera Cases','Malaria','Measles','Cost Min Basket',\n",
    "            'Goat Price','Goat to Cereal','Maize Price','Rice Price',\n",
    "            'Sorghum Price','Wage Price','Wage to Cereal', 'Departures','Arrivals']\n",
    "\n",
    "for feature in features:\n",
    "    df_imp[feature] = df_imp[feature].apply(lambda x: x.replace(',', '') if isinstance(x, str) else x)\n",
    " \n",
    "# impute data\n",
    "imp = IterativeImputer(max_iter=10, random_state=0)\n",
    "array_imp = imp.fit_transform(df_imp)\n",
    "df_imp = pd.DataFrame(array_imp, columns=df.columns)     "
   ]
  },
  {
   "cell_type": "code",
   "execution_count": 9,
   "metadata": {},
   "outputs": [],
   "source": [
    "# split data into training and testing data\n",
    "columns = ['Region', 'District','CDI','Month','Year','NDVI','Rainfall','Water Price',\n",
    "            'Conflict Fatalities','Conflict Incidents','Cholera Deaths',\n",
    "            'Cholera Cases','Malaria','Measles','Cost Min Basket',\n",
    "            'Goat Price','Goat to Cereal','Maize Price','Rice Price',\n",
    "            'Sorghum Price','Wage Price','Wage to Cereal']\n",
    "X_train, X_test, y_train, y_test = train_test_split(df_imp[columns], df_imp['Arrivals'], test_size=0.2)"
   ]
  },
  {
   "cell_type": "code",
   "execution_count": 10,
   "metadata": {},
   "outputs": [
    {
     "name": "stdout",
     "output_type": "stream",
     "text": [
      "R^2:  0.33613121524109\n",
      "rmse: 3569.7298052192264\n",
      "Accuracy:  0.6838776379006264\n"
     ]
    }
   ],
   "source": [
    "# LR\n",
    "\n",
    "# duplicate data\n",
    "LR_xtrain = X_train.copy()\n",
    "LR_ytrain = y_train.copy()\n",
    "LR_xtest = X_test.copy()\n",
    "LR_ytest = y_test.copy()\n",
    "\n",
    "# fit and predict the model\n",
    "LR.fit(LR_xtrain, list(LR_ytrain))\n",
    "LR_pred = LR.predict(LR_xtest)\n",
    "\n",
    "# calculate R^2\n",
    "print(\"R^2: \", LR.score(LR_xtest, list(LR_ytest)))\n",
    "print(f'rmse: {math.sqrt(mean_squared_error(LR_ytest, LR_pred))}') \n",
    "\n",
    "# # bin LR_pred and bin y_test\n",
    "LR_pred = pd.DataFrame(LR_pred, columns=['Arrivals'])\n",
    "LR_pred['bins'] = pd.cut(LR_pred['Arrivals'], bins=[float('-inf'), 1000, 5000, float('inf')], labels=[1,2,3], right = False)\n",
    "ybins = pd.cut(y_test, bins=[float('-inf'), 1000, 5000, float('inf')], labels=[1,2,3], right = False)\n",
    "\n",
    "# evaluate\n",
    "def classification_accuracy(y_true, y_pred):\n",
    "    if len(y_true) != len(y_pred):\n",
    "        raise ValueError(\"Arrays must be of equal length\")\n",
    "    \n",
    "    correct_predictions = np.sum(y_true == y_pred)\n",
    "    total_predictions = len(y_true)\n",
    "    accuracy = correct_predictions / total_predictions\n",
    "    return accuracy\n",
    "\n",
    "print(\"Accuracy: \", classification_accuracy(ybins, list(LR_pred['bins'])))    "
   ]
  },
  {
   "cell_type": "code",
   "execution_count": 11,
   "metadata": {},
   "outputs": [
    {
     "name": "stdout",
     "output_type": "stream",
     "text": [
      "R^2:  0.9202457492981244\n",
      "rmse: 1237.2889680980425\n",
      "Accuracy:  0.9939944049139452\n"
     ]
    }
   ],
   "source": [
    "# duplicate data\n",
    "DT_xtrain = X_train.copy()\n",
    "DT_ytrain = y_train.copy()\n",
    "DT_xtest = X_test.copy()\n",
    "DT_ytest = y_test.copy()\n",
    "\n",
    "# fit and predict the model\n",
    "DT.fit(DT_xtrain, list(DT_ytrain))\n",
    "DT_pred = DT.predict(DT_xtest)\n",
    "\n",
    "# calculate R^2\n",
    "print(\"R^2: \", DT.score(DT_xtest, list(DT_ytest)))\n",
    "print(f'rmse: {math.sqrt(mean_squared_error(DT_ytest, DT_pred))}') \n",
    "\n",
    "# # bin LR_pred and bin y_test\n",
    "DT_pred = pd.DataFrame(DT_pred, columns=['Arrivals'])\n",
    "DT_pred['bins'] = pd.cut(DT_pred['Arrivals'], bins=[float('-inf'), 1000, 5000, float('inf')], labels=[1,2,3], right = False)\n",
    "ybins = pd.cut(y_test, bins=[float('-inf'), 1000, 5000, float('inf')], labels=[1,2,3], right = False)\n",
    "\n",
    "# evaluate\n",
    "print(\"Accuracy: \", classification_accuracy(ybins, list(DT_pred['bins'])))    "
   ]
  }
 ],
 "metadata": {
  "kernelspec": {
   "display_name": "Python 3",
   "language": "python",
   "name": "python3"
  },
  "language_info": {
   "codemirror_mode": {
    "name": "ipython",
    "version": 3
   },
   "file_extension": ".py",
   "mimetype": "text/x-python",
   "name": "python",
   "nbconvert_exporter": "python",
   "pygments_lexer": "ipython3",
   "version": "3.9.18"
  }
 },
 "nbformat": 4,
 "nbformat_minor": 2
}
