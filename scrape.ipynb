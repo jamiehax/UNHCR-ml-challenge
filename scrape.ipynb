{
 "cells": [
  {
   "cell_type": "code",
   "execution_count": 2,
   "metadata": {},
   "outputs": [],
   "source": [
    "import scraper\n",
    "\n",
    "# initialize scraper\n",
    "sc = scraper.FSNAUScraper(2015, 2024)"
   ]
  },
  {
   "cell_type": "code",
   "execution_count": 2,
   "metadata": {},
   "outputs": [
    {
     "name": "stdout",
     "output_type": "stream",
     "text": [
      "Scraped population arrival data with 0 errors.\n",
      "Scraped population departure data with 0 errors.\n"
     ]
    }
   ],
   "source": [
    "# scrape movement data\n",
    "movement_errs = sc.scrape_movement(to_csv=True, return_dfs=False)"
   ]
  },
  {
   "cell_type": "code",
   "execution_count": 3,
   "metadata": {},
   "outputs": [
    {
     "name": "stdout",
     "output_type": "stream",
     "text": [
      "Scraped maize price data with 0 errors.\n",
      "Scraped sorghum price data with 0 errors.\n",
      "Scraped rice price data with 0 errors.\n",
      "Scraped goat price data with 0 errors.\n",
      "Scraped wage price data with 0 errors.\n",
      "Scraped wage to cereal data with 0 errors.\n",
      "Scraped goat to cereal data with 0 errors.\n",
      "Scraped cost of minimum basketn price data with 0 errors.\n"
     ]
    }
   ],
   "source": [
    "# scrape market data\n",
    "market_errs = sc.scrape_market(to_csv=True, return_dfs=False)"
   ]
  },
  {
   "cell_type": "code",
   "execution_count": 3,
   "metadata": {},
   "outputs": [
    {
     "name": "stdout",
     "output_type": "stream",
     "text": [
      "Scraped CDI (drought) data with 0 errors.\n",
      "Scraped NDVI (vegetation) data with 0 errors.\n",
      "Scraped Rainfall data with 0 errors.\n",
      "Scraped Water Price data with 0 errors.\n"
     ]
    }
   ],
   "source": [
    "# scrape all climate data\n",
    "climate_errs = sc.scrape_climate(to_csv=True, return_dfs=False)"
   ]
  },
  {
   "cell_type": "code",
   "execution_count": 4,
   "metadata": {},
   "outputs": [
    {
     "name": "stdout",
     "output_type": "stream",
     "text": [
      "Scraped cholera cases data with 0 errors.\n",
      "Scraped cholera death data with 0 errors.\n",
      "Scraped measles cases data with 0 errors.\n",
      "Scraped malaria cases data with 0 errors.\n"
     ]
    }
   ],
   "source": [
    "# scrape health data\n",
    "health_errs = sc.scrape_health(to_csv=True, return_dfs=False)"
   ]
  },
  {
   "cell_type": "code",
   "execution_count": 5,
   "metadata": {},
   "outputs": [
    {
     "name": "stdout",
     "output_type": "stream",
     "text": [
      "Scraped conflict incident data with 0 errors.\n",
      "Scraped conflict fatality data with 0 errors.\n"
     ]
    }
   ],
   "source": [
    "# scrape conflict data\n",
    "conflict_errs = sc.scrape_conflicts(to_csv=True, return_dfs=False)"
   ]
  }
 ],
 "metadata": {
  "kernelspec": {
   "display_name": "ml-0451",
   "language": "python",
   "name": "python3"
  },
  "language_info": {
   "codemirror_mode": {
    "name": "ipython",
    "version": 3
   },
   "file_extension": ".py",
   "mimetype": "text/x-python",
   "name": "python",
   "nbconvert_exporter": "python",
   "pygments_lexer": "ipython3",
   "version": "3.9.18"
  }
 },
 "nbformat": 4,
 "nbformat_minor": 2
}
