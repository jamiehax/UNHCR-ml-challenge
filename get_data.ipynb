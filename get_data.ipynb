{
 "cells": [
  {
   "cell_type": "markdown",
   "metadata": {},
   "source": [
    "# Scrape Data\n",
    "\n",
    "### Import and Initialize Data Scraper"
   ]
  },
  {
   "cell_type": "code",
   "execution_count": 5,
   "metadata": {},
   "outputs": [],
   "source": [
    "import scraper\n",
    "sc = scraper.FSNAUScraper(2015, 2024)"
   ]
  },
  {
   "cell_type": "markdown",
   "metadata": {},
   "source": [
    "### Scrape Movement Data"
   ]
  },
  {
   "cell_type": "code",
   "execution_count": 6,
   "metadata": {},
   "outputs": [
    {
     "name": "stdout",
     "output_type": "stream",
     "text": [
      "Scraped population arrival data with 0 errors.\n",
      "Scraped population departure data with 0 errors.\n"
     ]
    }
   ],
   "source": [
    "movement_errs = sc.scrape_movement(to_csv=True, return_dfs=False)"
   ]
  },
  {
   "cell_type": "markdown",
   "metadata": {},
   "source": [
    "### Scrape Market Data"
   ]
  },
  {
   "cell_type": "code",
   "execution_count": 3,
   "metadata": {},
   "outputs": [
    {
     "name": "stdout",
     "output_type": "stream",
     "text": [
      "Scraped maize price data with 0 errors.\n",
      "Scraped sorghum price data with 0 errors.\n",
      "Scraped rice price data with 0 errors.\n",
      "Scraped goat price data with 0 errors.\n",
      "Scraped wage price data with 0 errors.\n",
      "Scraped wage to cereal data with 0 errors.\n",
      "Scraped goat to cereal data with 0 errors.\n",
      "Scraped cost of minimum basketn price data with 0 errors.\n"
     ]
    }
   ],
   "source": [
    "market_errs = sc.scrape_market(to_csv=True, return_dfs=False)"
   ]
  },
  {
   "cell_type": "markdown",
   "metadata": {},
   "source": [
    "### Scrape Climate Data"
   ]
  },
  {
   "cell_type": "code",
   "execution_count": 4,
   "metadata": {},
   "outputs": [
    {
     "name": "stdout",
     "output_type": "stream",
     "text": [
      "Scraped CDI (drought) data with 0 errors.\n",
      "Scraped NDVI (vegetation) data with 0 errors.\n",
      "Scraped Rainfall data with 0 errors.\n",
      "Scraped Water Price data with 0 errors.\n"
     ]
    }
   ],
   "source": [
    "climate_errs = sc.scrape_climate(to_csv=True, return_dfs=False)"
   ]
  },
  {
   "cell_type": "markdown",
   "metadata": {},
   "source": [
    "### Scrape Health Data"
   ]
  },
  {
   "cell_type": "code",
   "execution_count": 5,
   "metadata": {},
   "outputs": [
    {
     "name": "stdout",
     "output_type": "stream",
     "text": [
      "Scraped cholera cases data with 0 errors.\n",
      "Scraped cholera death data with 0 errors.\n",
      "Scraped measles cases data with 0 errors.\n",
      "Scraped malaria cases data with 0 errors.\n"
     ]
    }
   ],
   "source": [
    "health_errs = sc.scrape_health(to_csv=True, return_dfs=False)"
   ]
  },
  {
   "cell_type": "markdown",
   "metadata": {},
   "source": [
    "### Scrape Conflict Data"
   ]
  },
  {
   "cell_type": "code",
   "execution_count": 6,
   "metadata": {},
   "outputs": [
    {
     "name": "stdout",
     "output_type": "stream",
     "text": [
      "Scraped conflict incident data with 0 errors.\n",
      "Scraped conflict fatality data with 0 errors.\n"
     ]
    }
   ],
   "source": [
    "conflict_errs = sc.scrape_conflicts(to_csv=True, return_dfs=False)"
   ]
  },
  {
   "cell_type": "markdown",
   "metadata": {},
   "source": [
    "# Combine Data"
   ]
  },
  {
   "cell_type": "code",
   "execution_count": 7,
   "metadata": {},
   "outputs": [
    {
     "name": "stdout",
     "output_type": "stream",
     "text": [
      "merged climate data\n",
      "merged conflict data\n",
      "merged health data\n",
      "merged market data\n",
      "merged movement data\n"
     ]
    },
    {
     "data": {
      "text/html": [
       "<div>\n",
       "<style scoped>\n",
       "    .dataframe tbody tr th:only-of-type {\n",
       "        vertical-align: middle;\n",
       "    }\n",
       "\n",
       "    .dataframe tbody tr th {\n",
       "        vertical-align: top;\n",
       "    }\n",
       "\n",
       "    .dataframe thead th {\n",
       "        text-align: right;\n",
       "    }\n",
       "</style>\n",
       "<table border=\"1\" class=\"dataframe\">\n",
       "  <thead>\n",
       "    <tr style=\"text-align: right;\">\n",
       "      <th></th>\n",
       "      <th>Region</th>\n",
       "      <th>District</th>\n",
       "      <th>CDI</th>\n",
       "      <th>Month</th>\n",
       "      <th>Year</th>\n",
       "      <th>NDVI</th>\n",
       "      <th>Rainfall</th>\n",
       "      <th>Water Price</th>\n",
       "      <th>Conflict Fatalities</th>\n",
       "      <th>Conflict Incidents</th>\n",
       "      <th>...</th>\n",
       "      <th>Cost Min Basket</th>\n",
       "      <th>Goat Price</th>\n",
       "      <th>Goat to Cereal</th>\n",
       "      <th>Maize Price</th>\n",
       "      <th>Rice Price</th>\n",
       "      <th>Sorghum Price</th>\n",
       "      <th>Wage Price</th>\n",
       "      <th>Wage to Cereal</th>\n",
       "      <th>Departures</th>\n",
       "      <th>Arrivals</th>\n",
       "    </tr>\n",
       "  </thead>\n",
       "  <tbody>\n",
       "    <tr>\n",
       "      <th>0</th>\n",
       "      <td>Awdal</td>\n",
       "      <td>Borama</td>\n",
       "      <td>1.05</td>\n",
       "      <td>Jan</td>\n",
       "      <td>2018</td>\n",
       "      <td>0.168</td>\n",
       "      <td>4.342</td>\n",
       "      <td>4000.0</td>\n",
       "      <td>0.0</td>\n",
       "      <td>1.0</td>\n",
       "      <td>...</td>\n",
       "      <td>1,090,175.0</td>\n",
       "      <td>297,750</td>\n",
       "      <td>57.0</td>\n",
       "      <td>4,000</td>\n",
       "      <td>5,200</td>\n",
       "      <td>3,200</td>\n",
       "      <td>57,400</td>\n",
       "      <td>11.0</td>\n",
       "      <td>6.0</td>\n",
       "      <td>199.0</td>\n",
       "    </tr>\n",
       "    <tr>\n",
       "      <th>1</th>\n",
       "      <td>Awdal</td>\n",
       "      <td>Baki</td>\n",
       "      <td>0.62</td>\n",
       "      <td>Jan</td>\n",
       "      <td>2018</td>\n",
       "      <td>0.132</td>\n",
       "      <td>6.065</td>\n",
       "      <td>NaN</td>\n",
       "      <td>0.0</td>\n",
       "      <td>0.0</td>\n",
       "      <td>...</td>\n",
       "      <td>NaN</td>\n",
       "      <td>NaN</td>\n",
       "      <td>NaN</td>\n",
       "      <td>NaN</td>\n",
       "      <td>NaN</td>\n",
       "      <td>NaN</td>\n",
       "      <td>NaN</td>\n",
       "      <td>NaN</td>\n",
       "      <td>NaN</td>\n",
       "      <td>69.0</td>\n",
       "    </tr>\n",
       "  </tbody>\n",
       "</table>\n",
       "<p>2 rows × 24 columns</p>\n",
       "</div>"
      ],
      "text/plain": [
       "  Region District   CDI Month  Year   NDVI  Rainfall  Water Price  \\\n",
       "0  Awdal   Borama  1.05   Jan  2018  0.168     4.342       4000.0   \n",
       "1  Awdal     Baki  0.62   Jan  2018  0.132     6.065          NaN   \n",
       "\n",
       "   Conflict Fatalities  Conflict Incidents  ...  Cost Min Basket  Goat Price  \\\n",
       "0                  0.0                 1.0  ...      1,090,175.0     297,750   \n",
       "1                  0.0                 0.0  ...              NaN         NaN   \n",
       "\n",
       "   Goat to Cereal  Maize Price Rice Price Sorghum Price Wage Price  \\\n",
       "0            57.0        4,000      5,200         3,200     57,400   \n",
       "1             NaN          NaN        NaN           NaN        NaN   \n",
       "\n",
       "  Wage to Cereal Departures Arrivals  \n",
       "0           11.0        6.0    199.0  \n",
       "1            NaN        NaN     69.0  \n",
       "\n",
       "[2 rows x 24 columns]"
      ]
     },
     "execution_count": 7,
     "metadata": {},
     "output_type": "execute_result"
    }
   ],
   "source": [
    "import aggregator as ag\n",
    "\n",
    "aggregator = ag.Aggregator(join_method='outer')\n",
    "df = aggregator.merge_data()\n",
    "df.to_csv('data/combined_data.csv')\n",
    "\n",
    "df.head(2)"
   ]
  }
 ],
 "metadata": {
  "kernelspec": {
   "display_name": "ml-0451",
   "language": "python",
   "name": "python3"
  },
  "language_info": {
   "codemirror_mode": {
    "name": "ipython",
    "version": 3
   },
   "file_extension": ".py",
   "mimetype": "text/x-python",
   "name": "python",
   "nbconvert_exporter": "python",
   "pygments_lexer": "ipython3",
   "version": "3.9.18"
  }
 },
 "nbformat": 4,
 "nbformat_minor": 2
}
