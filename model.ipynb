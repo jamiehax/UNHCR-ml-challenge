{
 "cells": [
  {
   "cell_type": "code",
   "execution_count": 18,
   "metadata": {},
   "outputs": [
    {
     "name": "stderr",
     "output_type": "stream",
     "text": [
      "/var/folders/fv/_v7myjl904983sbb39qbkzw40000gn/T/ipykernel_6764/3098905114.py:41: DtypeWarning: Columns (17,23) have mixed types. Specify dtype option on import or set low_memory=False.\n",
      "  df = pd.read_csv('data/combined_data.csv')\n"
     ]
    }
   ],
   "source": [
    "import pandas as pd\n",
    "from sklearn.linear_model import LinearRegression\n",
    "from sklearn.ensemble import RandomForestRegressor\n",
    "from sklearn.tree import DecisionTreeRegressor\n",
    "from sklearn.svm import SVR\n",
    "from sklearn.model_selection import cross_val_score\n",
    "from sklearn.model_selection import train_test_split\n",
    "from sklearn.experimental import enable_iterative_imputer\n",
    "from sklearn.impute import IterativeImputer\n",
    "from sklearn.metrics import mean_squared_error\n",
    "import math\n",
    "import numpy as np\n",
    "\n",
    "\n",
    "dtypes = {\n",
    "  'Region':                  object,\n",
    "  'District':                object,\n",
    "  'CDI':                     float,\n",
    "  'Month':                   object,\n",
    "  'Year':                    int,\n",
    "  'NDVI':                    float,\n",
    "  'Rainfall':                float,\n",
    "  'Water Price':             float,\n",
    "  'Conflict Fatalities':    float,\n",
    "  'Conflict Incidents':      float,\n",
    "  'Cholera Deaths':          float,\n",
    "  'Cholera Cases':           float,\n",
    "  'Malaria':                 float,\n",
    "  'Measles':                 float,\n",
    "  'Cost Min Basket':         float,\n",
    "  'Goat Price':              float,\n",
    "  'Goat to Cereal':          float,\n",
    "  'Maize Price':             float,\n",
    "  'Rice Price':              float,\n",
    "  'Sorghum Price':           float,\n",
    "  'Wage Price':              float,\n",
    "  'Wage to Cereal':          float,\n",
    "  'Arrivals':                int,\n",
    "  'Departures':              int,\n",
    "}\n",
    "df = pd.read_csv('data/combined_data.csv')\n",
    "\n",
    "def prepare_data(df):\n",
    "  \"\"\"\n",
    "  Prepare the data for training, deal with NaNs. I think we also need to drop the 2014 years?\n",
    "  \"\"\"\n",
    "\n",
    "  # remove commas in numeric columns\n",
    "  for feature in df.columns:\n",
    "    df[feature] = df[feature].apply(lambda x: x.replace(',', '') if isinstance(x, str) else x)\n",
    "\n",
    "  # force numeric \n",
    "  numeric_cols = ['Cost Min Basket', 'Goat Price', 'Goat to Cereal', 'Maize Price', 'Rice Price', 'Sorghum Price', 'Wage Price', 'Arrivals']\n",
    "  df[numeric_cols] = df[numeric_cols].apply(pd.to_numeric)\n",
    "\n",
    "  # make categorical columns\n",
    "  df = df.astype({\"Region\": 'category', \"District\": 'category', \"Month\": 'category'})\n",
    "\n",
    "  # drop columns that arent useful\n",
    "  keep_cols = ['Arrivals', 'Region', 'District', 'Month', 'Year', 'Rainfall', 'Conflict Fatalities', 'Conflict Incidents', 'Water Price', 'Goat Price']\n",
    "  df = df[keep_cols]\n",
    "  df = df.dropna()\n",
    "\n",
    "  return df\n",
    "\n",
    "df = prepare_data(df)\n",
    "train, test = train_test_split(df, test_size=0.2)\n",
    "\n",
    "X_train = train.drop('Arrivals', axis=1)\n",
    "y_train = train[['Arrivals']]\n",
    "\n",
    "X_test = test.drop('Arrivals', axis=1)\n",
    "y_test = test[['Arrivals']]"
   ]
  },
  {
   "cell_type": "code",
   "execution_count": 19,
   "metadata": {},
   "outputs": [
    {
     "data": {
      "text/html": [
       "<div>\n",
       "<style scoped>\n",
       "    .dataframe tbody tr th:only-of-type {\n",
       "        vertical-align: middle;\n",
       "    }\n",
       "\n",
       "    .dataframe tbody tr th {\n",
       "        vertical-align: top;\n",
       "    }\n",
       "\n",
       "    .dataframe thead th {\n",
       "        text-align: right;\n",
       "    }\n",
       "</style>\n",
       "<table border=\"1\" class=\"dataframe\">\n",
       "  <thead>\n",
       "    <tr style=\"text-align: right;\">\n",
       "      <th></th>\n",
       "      <th>Region</th>\n",
       "      <th>District</th>\n",
       "      <th>Month</th>\n",
       "      <th>Year</th>\n",
       "      <th>Rainfall</th>\n",
       "      <th>Conflict Fatalities</th>\n",
       "      <th>Conflict Incidents</th>\n",
       "      <th>Water Price</th>\n",
       "      <th>Goat Price</th>\n",
       "    </tr>\n",
       "  </thead>\n",
       "  <tbody>\n",
       "    <tr>\n",
       "      <th>82499</th>\n",
       "      <td>Bari</td>\n",
       "      <td>Bandarbeyla</td>\n",
       "      <td>Jun</td>\n",
       "      <td>2021</td>\n",
       "      <td>1.026</td>\n",
       "      <td>0.0</td>\n",
       "      <td>0.0</td>\n",
       "      <td>35000.0</td>\n",
       "      <td>2025000.0</td>\n",
       "    </tr>\n",
       "    <tr>\n",
       "      <th>291729</th>\n",
       "      <td>Woqooyi Galbeed</td>\n",
       "      <td>Hargeysa</td>\n",
       "      <td>Jun</td>\n",
       "      <td>2016</td>\n",
       "      <td>15.101</td>\n",
       "      <td>0.0</td>\n",
       "      <td>2.0</td>\n",
       "      <td>9000.0</td>\n",
       "      <td>300000.0</td>\n",
       "    </tr>\n",
       "  </tbody>\n",
       "</table>\n",
       "</div>"
      ],
      "text/plain": [
       "                 Region     District Month  Year  Rainfall  \\\n",
       "82499              Bari  Bandarbeyla   Jun  2021     1.026   \n",
       "291729  Woqooyi Galbeed     Hargeysa   Jun  2016    15.101   \n",
       "\n",
       "        Conflict Fatalities  Conflict Incidents  Water Price  Goat Price  \n",
       "82499                   0.0                 0.0      35000.0   2025000.0  \n",
       "291729                  0.0                 2.0       9000.0    300000.0  "
      ]
     },
     "execution_count": 19,
     "metadata": {},
     "output_type": "execute_result"
    }
   ],
   "source": [
    "X_train.head(2)"
   ]
  },
  {
   "cell_type": "code",
   "execution_count": 20,
   "metadata": {},
   "outputs": [
    {
     "data": {
      "text/html": [
       "<div>\n",
       "<style scoped>\n",
       "    .dataframe tbody tr th:only-of-type {\n",
       "        vertical-align: middle;\n",
       "    }\n",
       "\n",
       "    .dataframe tbody tr th {\n",
       "        vertical-align: top;\n",
       "    }\n",
       "\n",
       "    .dataframe thead th {\n",
       "        text-align: right;\n",
       "    }\n",
       "</style>\n",
       "<table border=\"1\" class=\"dataframe\">\n",
       "  <thead>\n",
       "    <tr style=\"text-align: right;\">\n",
       "      <th></th>\n",
       "      <th>Arrivals</th>\n",
       "    </tr>\n",
       "  </thead>\n",
       "  <tbody>\n",
       "    <tr>\n",
       "      <th>82499</th>\n",
       "      <td>31.0</td>\n",
       "    </tr>\n",
       "    <tr>\n",
       "      <th>291729</th>\n",
       "      <td>224.0</td>\n",
       "    </tr>\n",
       "  </tbody>\n",
       "</table>\n",
       "</div>"
      ],
      "text/plain": [
       "        Arrivals\n",
       "82499       31.0\n",
       "291729     224.0"
      ]
     },
     "execution_count": 20,
     "metadata": {},
     "output_type": "execute_result"
    }
   ],
   "source": [
    "y_train.head(2)"
   ]
  },
  {
   "cell_type": "code",
   "execution_count": 21,
   "metadata": {},
   "outputs": [],
   "source": [
    "# encode dataframe\n",
    "encoded_df = pd.get_dummies(df, columns=['Region', 'District', 'Month'], drop_first=True)\n",
    "train, test = train_test_split(encoded_df, test_size=0.2)\n",
    "\n",
    "# create train and test split\n",
    "X_train = train.drop('Arrivals', axis=1)\n",
    "y_train = train[['Arrivals']]\n",
    "\n",
    "X_test = test.drop('Arrivals', axis=1)\n",
    "y_test = test[['Arrivals']]"
   ]
  },
  {
   "cell_type": "code",
   "execution_count": 22,
   "metadata": {},
   "outputs": [
    {
     "data": {
      "text/plain": [
       "0.1532049839386861"
      ]
     },
     "execution_count": 22,
     "metadata": {},
     "output_type": "execute_result"
    }
   ],
   "source": [
    "LR = LinearRegression()\n",
    "LR.fit(X_train, y_train)\n",
    "LR.score(X_test, y_test)"
   ]
  },
  {
   "cell_type": "code",
   "execution_count": 23,
   "metadata": {},
   "outputs": [],
   "source": [
    "# SVM = SVR()\n",
    "# SVM.fit(X_train, y_train)\n",
    "# SVM.score(X_test, y_test)"
   ]
  },
  {
   "cell_type": "code",
   "execution_count": 24,
   "metadata": {},
   "outputs": [
    {
     "name": "stdout",
     "output_type": "stream",
     "text": [
      "[1.60000000e+01 3.41703163e+01 3.60044469e+01 8.80000000e+01\n",
      " 9.60000000e+01 1.00495098e+02 1.04000000e+02 1.37427621e+02\n",
      " 1.56037736e+02 1.75000000e+02 1.97081731e+02 2.13000000e+02\n",
      " 2.15333333e+02 2.25111111e+02 2.28076190e+02 2.33000000e+02\n",
      " 2.40000000e+02 2.54000000e+02 2.56113324e+02 2.60000000e+02\n",
      " 3.28842105e+02 3.70500000e+02 3.91000000e+02 4.02000000e+02\n",
      " 4.30554016e+02 4.37000000e+02 4.89403580e+02 5.46000000e+02\n",
      " 5.58000000e+02 6.12000000e+02 6.12676906e+02 6.30000000e+02\n",
      " 6.77000000e+02 6.98271704e+02 7.11953052e+02 7.80000000e+02\n",
      " 7.91172414e+02 1.05200000e+03 1.19510550e+03 1.24100000e+03\n",
      " 1.25688424e+03 1.56000000e+03 1.59012114e+03 1.62804717e+03\n",
      " 2.11200000e+03 2.34745424e+03 2.37200000e+03 2.81600000e+03\n",
      " 2.91691928e+03 3.00300000e+03 3.32330928e+03 3.66000000e+03\n",
      " 3.67148558e+03 3.93500000e+03 5.09900000e+03 5.48700000e+03\n",
      " 5.53032353e+03 5.91800000e+03 5.97332000e+03 6.36586364e+03\n",
      " 6.56850000e+03 7.34700000e+03 1.06500000e+04 1.16870000e+04\n",
      " 1.58080000e+04 2.25260000e+04 2.28550000e+04 2.32020000e+04\n",
      " 2.70720000e+04 3.93140000e+04 4.89320000e+04 8.18260000e+04]\n"
     ]
    }
   ],
   "source": [
    "DT = DecisionTreeRegressor(max_depth=11)\n",
    "DT.fit(X_train, y_train)\n",
    "DT.score(X_test, y_test)\n",
    "print(np.unique(DT.predict(X_test)))\n",
    "# print(f'rmse: {math.sqrt(mean_squared_error(DT.predict(X_train), y_train))}')"
   ]
  },
  {
   "cell_type": "code",
   "execution_count": 26,
   "metadata": {},
   "outputs": [
    {
     "name": "stderr",
     "output_type": "stream",
     "text": [
      "/Users/mihirsingh/anaconda3/envs/ml-0451/lib/python3.9/site-packages/sklearn/base.py:1151: DataConversionWarning: A column-vector y was passed when a 1d array was expected. Please change the shape of y to (n_samples,), for example using ravel().\n",
      "  return fit_method(estimator, *args, **kwargs)\n"
     ]
    },
    {
     "name": "stdout",
     "output_type": "stream",
     "text": [
      "rmse: 1448.3473571944742\n"
     ]
    }
   ],
   "source": [
    "from sklearn.tree import DecisionTreeRegressor\n",
    "\n",
    "RF = RandomForestRegressor()\n",
    "RF.fit(X_train, y_train)\n",
    "RF.score(X_test, y_test)\n",
    "print(f'rmse: {math.sqrt(mean_squared_error(RF.predict(X_test), y_test))}')"
   ]
  },
  {
   "cell_type": "code",
   "execution_count": 27,
   "metadata": {},
   "outputs": [
    {
     "name": "stdout",
     "output_type": "stream",
     "text": [
      "rmse: 5486.473180688849\n"
     ]
    }
   ],
   "source": [
    "from sklearn.linear_model import Lasso\n",
    "\n",
    "RF = Lasso()\n",
    "RF.fit(X_train, y_train)\n",
    "RF.score(X_test, y_test)\n",
    "print(f'rmse: {math.sqrt(mean_squared_error(RF.predict(X_test), y_test))}')"
   ]
  }
 ],
 "metadata": {
  "kernelspec": {
   "display_name": "ml-0451",
   "language": "python",
   "name": "python3"
  },
  "language_info": {
   "codemirror_mode": {
    "name": "ipython",
    "version": 3
   },
   "file_extension": ".py",
   "mimetype": "text/x-python",
   "name": "python",
   "nbconvert_exporter": "python",
   "pygments_lexer": "ipython3",
   "version": "3.9.18"
  }
 },
 "nbformat": 4,
 "nbformat_minor": 2
}
