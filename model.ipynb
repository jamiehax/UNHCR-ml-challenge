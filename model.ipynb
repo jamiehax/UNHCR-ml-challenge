{
 "cells": [
  {
   "cell_type": "code",
   "execution_count": 19,
   "metadata": {},
   "outputs": [
    {
     "name": "stderr",
     "output_type": "stream",
     "text": [
      "/var/folders/rt/d3s5hnhn7sb9m39n0ky1cyrc0000gn/T/ipykernel_69161/3270117141.py:44: DtypeWarning: Columns (17,23) have mixed types. Specify dtype option on import or set low_memory=False.\n",
      "  df = pd.read_csv('data/combined_data.csv')\n"
     ]
    },
    {
     "name": "stdout",
     "output_type": "stream",
     "text": [
      "90th percentile: 1677.0\n",
      "count    191416.000000\n",
      "mean       1226.451807\n",
      "std        5534.244627\n",
      "min           1.000000\n",
      "25%          49.000000\n",
      "50%         194.000000\n",
      "75%         614.000000\n",
      "max      259678.000000\n",
      "Name: Arrivals, dtype: float64\n"
     ]
    }
   ],
   "source": [
    "import pandas as pd\n",
    "import numpy as np\n",
    "from sklearn.linear_model import LinearRegression\n",
    "from sklearn.ensemble import RandomForestRegressor\n",
    "from sklearn.tree import DecisionTreeRegressor\n",
    "from sklearn.svm import SVR\n",
    "from sklearn.model_selection import cross_val_score\n",
    "from sklearn.model_selection import train_test_split\n",
    "from sklearn.experimental import enable_iterative_imputer\n",
    "from sklearn.impute import IterativeImputer\n",
    "from sklearn.metrics import mean_squared_error\n",
    "from sklearn.decomposition import PCA\n",
    "import math\n",
    "from sklearn.preprocessing import LabelEncoder\n",
    "import torch\n",
    "import matplotlib as plt\n",
    "\n",
    "\n",
    "dtypes = {\n",
    "  'Region':                  object,\n",
    "  'District':                object,\n",
    "  'CDI':                     float,\n",
    "  'Month':                   object,\n",
    "  'Year':                    int,\n",
    "  'NDVI':                    float,\n",
    "  'Rainfall':                float,\n",
    "  'Water Price':             float,\n",
    "  'Conflict Fatalities':     float,\n",
    "  'Conflict Incidents':      float,\n",
    "  'Cholera Deaths':          float,\n",
    "  'Cholera Cases':           float,\n",
    "  'Malaria':                 float,\n",
    "  'Measles':                 float,\n",
    "  'Cost Min Basket':         float,\n",
    "  'Goat Price':              float,\n",
    "  'Goat to Cereal':          float,\n",
    "  'Maize Price':             float,\n",
    "  'Rice Price':              float,\n",
    "  'Sorghum Price':           float,\n",
    "  'Wage Price':              float,\n",
    "  'Wage to Cereal':          float,\n",
    "  'Arrivals':                int,\n",
    "  'Departures':              int,\n",
    "}\n",
    "df = pd.read_csv('data/combined_data.csv')\n",
    "print(f'90th percentile: {df[\"Arrivals\"].quantile(q=0.90)}')\n",
    "print(df[\"Arrivals\"].describe())\n",
    "\n",
    "\n",
    "def prepare_data(df):\n",
    "  \"\"\"\n",
    "  Prepare the data for training, deal with NaNs. I think we also need to drop the 2014 years?\n",
    "  \"\"\"\n",
    "\n",
    "  # remove commas in numeric columns\n",
    "  for feature in df.columns:\n",
    "    df[feature] = df[feature].apply(lambda x: x.replace(',', '') if isinstance(x, str) else x)\n",
    "\n",
    "  # force numeric \n",
    "  numeric_cols = ['Cost Min Basket', 'Goat Price', 'Goat to Cereal', 'Maize Price', 'Rice Price', 'Sorghum Price', 'Wage Price', 'Arrivals']\n",
    "  df[numeric_cols] = df[numeric_cols].apply(pd.to_numeric)\n",
    "\n",
    "  # make categorical columns\n",
    "  df = df.astype({\"Region\": 'category', \"District\": 'category', \"Month\": 'category'})\n",
    "\n",
    "  # drop columns that arent useful\n",
    "  keep_cols = ['Arrivals', 'Region', 'District', 'Month', 'Rainfall', 'Conflict Fatalities', 'Conflict Incidents', 'Water Price', 'Goat Price']\n",
    "  df = df[keep_cols]\n",
    "  df = df.dropna()\n",
    "\n",
    "  # print(f'arrivals described: \\n {df[\"Arrivals\"].describe()} \\n ')\n",
    "  # print(f'10 largest arrivals: \\n {df.nlargest(10, \"Arrivals\")[\"Arrivals\"]}')\n",
    "\n",
    "  return df\n",
    "\n",
    "\n",
    "df = prepare_data(df)"
   ]
  },
  {
   "cell_type": "code",
   "execution_count": 14,
   "metadata": {},
   "outputs": [],
   "source": [
    "# encode dataframe\n",
    "# encoded_df = pd.get_dummies(df, columns=['Region', 'District', 'Month'], drop_first=True)\n",
    "\n",
    "# encode categorical columns in dataframe\n",
    "encoder = LabelEncoder()\n",
    "encoder.fit(df['Region'])\n",
    "df['Region'] = encoder.transform(df['Region'])\n",
    "encoder.fit(df['District'])\n",
    "df['District'] = encoder.transform(df['District'])\n",
    "encoder.fit(df['Month'])\n",
    "df['Month'] = encoder.transform(df['Month'])\n",
    "train, test = train_test_split(df, test_size=0.2)\n",
    "\n",
    "train, test = train_test_split(df, test_size=0.2)\n",
    "\n",
    "# create train and test split\n",
    "X_train = train.drop(['Arrivals'], axis=1)\n",
    "y_train = train[['Arrivals']]\n",
    "\n",
    "X_test = test.drop(['Arrivals'], axis=1)\n",
    "y_test = test[['Arrivals']]"
   ]
  },
  {
   "cell_type": "code",
   "execution_count": 3,
   "metadata": {},
   "outputs": [],
   "source": [
    "def classification_accuracy(y_true, y_pred):\n",
    "    \"\"\"\n",
    "    Return the classification accuracy of the predicted labels.\n",
    "    \"\"\"\n",
    "    if len(y_true) != len(y_pred):\n",
    "        raise ValueError(\"Arrays must be of equal length\")\n",
    "\n",
    "    accuracy = np.sum(y_true == y_pred) / len(y_true)\n",
    "    return accuracy"
   ]
  },
  {
   "cell_type": "code",
   "execution_count": 15,
   "metadata": {},
   "outputs": [
    {
     "name": "stdout",
     "output_type": "stream",
     "text": [
      "score: 0.017764458355284063\n",
      "rmse: 6004.753515497336\n",
      "classification accuracy: 0.4253840809078978\n"
     ]
    }
   ],
   "source": [
    "# fit the model\n",
    "LR = LinearRegression()\n",
    "LR.fit(X_train, y_train)\n",
    "\n",
    "# evaluate model based on bins\n",
    "true_bins = pd.cut(y_test['Arrivals'], bins=[0, 1000, 5000, float('inf')], labels=[1, 2, 3], right=False)\n",
    "preds_bin = np.digitize(LR.predict(X_test), bins=[0, 1000, 5000, float('inf')], right=False).flatten()\n",
    "\n",
    "print(f'score: {LR.score(X_test, y_test)}')\n",
    "print(f'rmse: {math.sqrt(mean_squared_error(LR.predict(X_test), y_test))}')\n",
    "print(f'classification accuracy: {classification_accuracy(true_bins, preds_bin)}')"
   ]
  },
  {
   "cell_type": "code",
   "execution_count": 6,
   "metadata": {},
   "outputs": [
    {
     "name": "stderr",
     "output_type": "stream",
     "text": [
      "/Users/jakegilbert/anaconda3/envs/ml-0451/lib/python3.9/site-packages/sklearn/utils/validation.py:1184: DataConversionWarning: A column-vector y was passed when a 1d array was expected. Please change the shape of y to (n_samples, ), for example using ravel().\n",
      "  y = column_or_1d(y, warn=True)\n"
     ]
    }
   ],
   "source": [
    "# fit the model\n",
    "SVR = SVR()\n",
    "SVR.fit(X_train, y_train)\n",
    "\n",
    "# evaluate model based on bins\n",
    "true_bins = pd.cut(y_test['Arrivals'], bins=[0, 1000, 5000, float('inf')], labels=[1, 2, 3], right=False)\n",
    "preds_bin = np.digitize(SVR.predict(X_test), bins=[0, 1000, 5000, float('inf')], right=False).flatten()\n",
    "\n",
    "print(f'score: {SVR.score(X_test, y_test)}')\n",
    "print(f'rmse: {math.sqrt(mean_squared_error(SVR.predict(X_test), y_test))}')\n",
    "print(f'classification accuracy: {classification_accuracy(true_bins, preds_bin)}')"
   ]
  },
  {
   "cell_type": "code",
   "execution_count": 5,
   "metadata": {},
   "outputs": [
    {
     "name": "stdout",
     "output_type": "stream",
     "text": [
      "score: 0.6045116727452025\n",
      "rmse: 3846.5967131140856\n",
      "classification accuracy: 0.9719756041071567\n"
     ]
    }
   ],
   "source": [
    "# fit the model\n",
    "DT = DecisionTreeRegressor(max_depth=11)\n",
    "DT.fit(X_train, y_train)\n",
    "\n",
    "# evaluate model based on bins\n",
    "true_bins = pd.cut(y_test['Arrivals'], bins=[0, 1000, 5000, float('inf')], labels=[1, 2, 3], right=False)\n",
    "preds_bin = np.digitize(DT.predict(X_test), bins=[0, 1000, 5000, float('inf')], right=False).flatten()\n",
    "\n",
    "print(f'score: {DT.score(X_test, y_test)}')\n",
    "print(f'rmse: {math.sqrt(mean_squared_error(DT.predict(X_test), y_test))}')\n",
    "print(f'classification accuracy: {classification_accuracy(true_bins, preds_bin)}')"
   ]
  },
  {
   "cell_type": "code",
   "execution_count": 6,
   "metadata": {},
   "outputs": [
    {
     "name": "stderr",
     "output_type": "stream",
     "text": [
      "/var/folders/rt/d3s5hnhn7sb9m39n0ky1cyrc0000gn/T/ipykernel_69161/2206423192.py:3: DataConversionWarning: A column-vector y was passed when a 1d array was expected. Please change the shape of y to (n_samples,), for example using ravel().\n",
      "  RF.fit(X_train, y_train)\n"
     ]
    },
    {
     "name": "stdout",
     "output_type": "stream",
     "text": [
      "score: 0.8726278694200728\n",
      "rmse: 2182.966283202876\n",
      "classification accuracy: 0.9902725237396742\n"
     ]
    }
   ],
   "source": [
    "# fit the model\n",
    "RF = RandomForestRegressor()\n",
    "RF.fit(X_train, y_train)\n",
    "\n",
    "# evaluate model based on bins\n",
    "true_bins = pd.cut(y_test['Arrivals'], bins=[0, 1000, 5000, float('inf')], labels=[1, 2, 3], right=False)\n",
    "preds_bin = np.digitize(RF.predict(X_test), bins=[0, 1000, 5000, float('inf')], right=False).flatten()\n",
    "\n",
    "print(f'score: {RF.score(X_test, y_test)}')\n",
    "print(f'rmse: {math.sqrt(mean_squared_error(RF.predict(X_test), y_test))}')\n",
    "print(f'classification accuracy: {classification_accuracy(true_bins, preds_bin)}')"
   ]
  },
  {
   "cell_type": "code",
   "execution_count": 53,
   "metadata": {},
   "outputs": [
    {
     "name": "stdout",
     "output_type": "stream",
     "text": [
      "percent of perfect predictions: 0.9793870145912144\n"
     ]
    }
   ],
   "source": [
    "preds = RF.predict((X_test))\n",
    "y_true = y_test.values.flatten()\n",
    "diffs = preds - y_true\n",
    "\n",
    "print(f'percent of perfect predictions: {(np.count_nonzero(diffs == 0) / len(diffs))}')"
   ]
  },
  {
   "cell_type": "code",
   "execution_count": 65,
   "metadata": {},
   "outputs": [
    {
     "data": {
      "text/plain": [
       "[<matplotlib.lines.Line2D at 0x7fa5e33c91f0>]"
      ]
     },
     "execution_count": 65,
     "metadata": {},
     "output_type": "execute_result"
    },
    {
     "data": {
      "image/png": "[encoded data removed]",
      "text/plain": [
       "<Figure size 640x480 with 1 Axes>"
      ]
     },
     "metadata": {},
     "output_type": "display_data"
    }
   ],
   "source": [
    "# plot of differences\n",
    "plt.plot(np.sort(diffs))\n"
   ]
  },
  {
   "cell_type": "code",
   "execution_count": 62,
   "metadata": {},
   "outputs": [
    {
     "data": {
      "image/png": "[encoded data removed]",
      "text/plain": [
       "<Figure size 640x480 with 1 Axes>"
      ]
     },
     "metadata": {},
     "output_type": "display_data"
    }
   ],
   "source": [
    "# plot only the differences greater than 1000\n",
    "preds = RF.predict((X_test))\n",
    "\n",
    "bins = np.arange(0, max(diffs), 10000)\n",
    "plt.hist(diffs[diffs > 1000], bins=bins, edgecolor='black')\n",
    "\n",
    "# Add labels and title\n",
    "plt.xlabel('Difference')\n",
    "plt.ylabel('Frequency')\n",
    "plt.title('Histogram of Differences')\n",
    "\n",
    "plt.show()"
   ]
  },
  {
   "cell_type": "code",
   "execution_count": 9,
   "metadata": {},
   "outputs": [],
   "source": [
    "class NeuralNetwork(torch.nn.Module):\n",
    "\n",
    "    def __init__(self, input_dim):\n",
    "        super().__init__()\n",
    "\n",
    "        self.loss_fn = torch.nn.L1Loss()\n",
    "\n",
    "        self.pipeline = torch.nn.Sequential(\n",
    "                torch.nn.Linear(input_dim, 512),\n",
    "                torch.nn.Sigmoid(),\n",
    "                torch.nn.Linear(512, 128),\n",
    "                torch.nn.Sigmoid(),\n",
    "                torch.nn.Linear(128, 32),\n",
    "                torch.nn.Sigmoid(),\n",
    "                torch.nn.Linear(32, 1)\n",
    "        )\n",
    "\n",
    "\n",
    "    def forward(self, x):\n",
    "        return self.pipeline(x)\n",
    "    \n",
    "\n",
    "    def train(self, X, y, learning_rate, num_epochs):\n",
    "\n",
    "        for epoch in range(num_epochs):\n",
    "            optimizer = torch.optim.Adam(self.parameters(), lr=learning_rate)\n",
    "\n",
    "            pred = self.forward(torch.tensor(X.values, dtype=torch.float32))\n",
    "\n",
    "            # evaluate loss on prediction\n",
    "            loss = self.loss_fn(pred, torch.tensor(y.values, dtype=torch.float32))\n",
    "\n",
    "            # compute gradient\n",
    "            loss.backward()\n",
    "\n",
    "            # take an optimization step\n",
    "            optimizer.step()\n",
    "\n",
    "\n",
    "    def evaluate(self, X, y):\n",
    "        true_bins = pd.cut(y['Arrivals'], bins=[0, 1000, 5000, float('inf')], labels=[1, 2, 3], right=False)\n",
    "        preds = self.forward(torch.Tensor(X.values)).detach()\n",
    "        preds_bins = np.digitize(preds, bins=[0, 1000, 5000, float('inf')], right=False).flatten()\n",
    "\n",
    "        print(f'rmse: {math.sqrt(mean_squared_error(preds, y))}')\n",
    "        print(f'classification accuracy: {classification_accuracy(true_bins, preds_bins)}')\n",
    "\n",
    "\n",
    "NN = NeuralNetwork(len(list(X_train.columns)))"
   ]
  },
  {
   "cell_type": "code",
   "execution_count": 10,
   "metadata": {},
   "outputs": [],
   "source": [
    "learning_rate = 0.01\n",
    "num_epochs = 10\n",
    "NN.train(X_train, y_train, learning_rate, num_epochs)"
   ]
  },
  {
   "cell_type": "code",
   "execution_count": 11,
   "metadata": {},
   "outputs": [
    {
     "name": "stdout",
     "output_type": "stream",
     "text": [
      "rmse: 6180.975084770626\n",
      "classification accuracy: 0.8090017756504285\n"
     ]
    }
   ],
   "source": [
    "NN.evaluate(X_test, y_test)"
   ]
  }
 ],
 "metadata": {
  "kernelspec": {
   "display_name": "ml-0451",
   "language": "python",
   "name": "python3"
  },
  "language_info": {
   "codemirror_mode": {
    "name": "ipython",
    "version": 3
   },
   "file_extension": ".py",
   "mimetype": "text/x-python",
   "name": "python",
   "nbconvert_exporter": "python",
   "pygments_lexer": "ipython3",
   "version": "3.9.18"
  }
 },
 "nbformat": 4,
 "nbformat_minor": 2
}
