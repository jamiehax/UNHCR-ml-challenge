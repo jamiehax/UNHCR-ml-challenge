{
 "cells": [
  {
   "cell_type": "code",
   "execution_count": 1,
   "metadata": {},
   "outputs": [
    {
     "name": "stderr",
     "output_type": "stream",
     "text": [
      "/var/folders/rf/hmt47tp17pl4jqh6zddf3vnh0000gn/T/ipykernel_65571/4045241720.py:38: DtypeWarning: Columns (17,23) have mixed types. Specify dtype option on import or set low_memory=False.\n",
      "  df = pd.read_csv('data/combined_data.csv')\n"
     ]
    }
   ],
   "source": [
    "import pandas as pd\n",
    "from sklearn.linear_model import LinearRegression\n",
    "from sklearn.ensemble import RandomForestRegressor\n",
    "from sklearn.tree import DecisionTreeRegressor\n",
    "from sklearn.svm import SVR\n",
    "from sklearn.model_selection import cross_val_score\n",
    "from sklearn.model_selection import train_test_split\n",
    "from sklearn.experimental import enable_iterative_imputer\n",
    "from sklearn.impute import IterativeImputer\n",
    "\n",
    "\n",
    "dtypes = {\n",
    "  'Region':                  object,\n",
    "  'District':                object,\n",
    "  'CDI':                     float,\n",
    "  'Month':                   object,\n",
    "  'Year':                    int,\n",
    "  'NDVI':                    float,\n",
    "  'Rainfall':                float,\n",
    "  'Water Price':             float,\n",
    "  'Conflict Fatalities':    float,\n",
    "  'Conflict Incidents':      float,\n",
    "  'Cholera Deaths':          float,\n",
    "  'Cholera Cases':           float,\n",
    "  'Malaria':                 float,\n",
    "  'Measles':                 float,\n",
    "  'Cost Min Basket':         float,\n",
    "  'Goat Price':              float,\n",
    "  'Goat to Cereal':          float,\n",
    "  'Maize Price':             float,\n",
    "  'Rice Price':              float,\n",
    "  'Sorghum Price':           float,\n",
    "  'Wage Price':              float,\n",
    "  'Wage to Cereal':          float,\n",
    "  'Arrivals':                int,\n",
    "  'Departures':              int,\n",
    "}\n",
    "df = pd.read_csv('data/combined_data.csv')\n",
    "\n",
    "def prepare_data(df):\n",
    "  \"\"\"\n",
    "  Prepare the data for training, deal with NaNs. I think we also need to drop the 2014 years?\n",
    "  \"\"\"\n",
    "\n",
    "  # remove commas in numeric columns\n",
    "  for feature in df.columns:\n",
    "    df[feature] = df[feature].apply(lambda x: x.replace(',', '') if isinstance(x, str) else x)\n",
    "\n",
    "  # force numeric \n",
    "  numeric_cols = ['Cost Min Basket', 'Goat Price', 'Goat to Cereal', 'Maize Price', 'Rice Price', 'Sorghum Price', 'Wage Price', 'Arrivals']\n",
    "  df[numeric_cols] = df[numeric_cols].apply(pd.to_numeric)\n",
    "\n",
    "  # make categorical columns\n",
    "  df = df.astype({\"Region\": 'category', \"District\": 'category', \"Month\": 'category'})\n",
    "\n",
    "  # drop columns that arent useful\n",
    "  keep_cols = ['Arrivals', 'Region', 'District', 'Month', 'Year', 'Rainfall', 'Conflict Fatalities', 'Conflict Incidents', 'Water Price', 'Goat Price']\n",
    "  df = df[keep_cols]\n",
    "  df = df.dropna()\n",
    "\n",
    "  return df\n",
    "\n",
    "df = prepare_data(df)\n",
    "train, test = train_test_split(df, test_size=0.2)\n",
    "\n",
    "X_train = train.drop('Arrivals', axis=1)\n",
    "y_train = train[['Arrivals']]\n",
    "\n",
    "X_test = test.drop('Arrivals', axis=1)\n",
    "y_test = test[['Arrivals']]"
   ]
  },
  {
   "cell_type": "code",
   "execution_count": 2,
   "metadata": {},
   "outputs": [
    {
     "data": {
      "text/html": [
       "<div>\n",
       "<style scoped>\n",
       "    .dataframe tbody tr th:only-of-type {\n",
       "        vertical-align: middle;\n",
       "    }\n",
       "\n",
       "    .dataframe tbody tr th {\n",
       "        vertical-align: top;\n",
       "    }\n",
       "\n",
       "    .dataframe thead th {\n",
       "        text-align: right;\n",
       "    }\n",
       "</style>\n",
       "<table border=\"1\" class=\"dataframe\">\n",
       "  <thead>\n",
       "    <tr style=\"text-align: right;\">\n",
       "      <th></th>\n",
       "      <th>Region</th>\n",
       "      <th>District</th>\n",
       "      <th>Month</th>\n",
       "      <th>Year</th>\n",
       "      <th>Rainfall</th>\n",
       "      <th>Conflict Fatalities</th>\n",
       "      <th>Conflict Incidents</th>\n",
       "      <th>Water Price</th>\n",
       "      <th>Goat Price</th>\n",
       "    </tr>\n",
       "  </thead>\n",
       "  <tbody>\n",
       "    <tr>\n",
       "      <th>307451</th>\n",
       "      <td>Gedo</td>\n",
       "      <td>Luuq</td>\n",
       "      <td>Jun</td>\n",
       "      <td>2016</td>\n",
       "      <td>3.485</td>\n",
       "      <td>0.0</td>\n",
       "      <td>2.0</td>\n",
       "      <td>15000.0</td>\n",
       "      <td>797500.0</td>\n",
       "    </tr>\n",
       "    <tr>\n",
       "      <th>47435</th>\n",
       "      <td>Galgaduud</td>\n",
       "      <td>Dhuusamarreeb</td>\n",
       "      <td>Jun</td>\n",
       "      <td>2022</td>\n",
       "      <td>1.114</td>\n",
       "      <td>0.0</td>\n",
       "      <td>3.0</td>\n",
       "      <td>15000.0</td>\n",
       "      <td>1247500.0</td>\n",
       "    </tr>\n",
       "  </tbody>\n",
       "</table>\n",
       "</div>"
      ],
      "text/plain": [
       "           Region       District Month  Year  Rainfall  Conflict Fatalities  \\\n",
       "307451       Gedo           Luuq   Jun  2016     3.485                  0.0   \n",
       "47435   Galgaduud  Dhuusamarreeb   Jun  2022     1.114                  0.0   \n",
       "\n",
       "        Conflict Incidents  Water Price  Goat Price  \n",
       "307451                 2.0      15000.0    797500.0  \n",
       "47435                  3.0      15000.0   1247500.0  "
      ]
     },
     "execution_count": 2,
     "metadata": {},
     "output_type": "execute_result"
    }
   ],
   "source": [
    "X_train.head(2)"
   ]
  },
  {
   "cell_type": "code",
   "execution_count": 3,
   "metadata": {},
   "outputs": [
    {
     "data": {
      "text/html": [
       "<div>\n",
       "<style scoped>\n",
       "    .dataframe tbody tr th:only-of-type {\n",
       "        vertical-align: middle;\n",
       "    }\n",
       "\n",
       "    .dataframe tbody tr th {\n",
       "        vertical-align: top;\n",
       "    }\n",
       "\n",
       "    .dataframe thead th {\n",
       "        text-align: right;\n",
       "    }\n",
       "</style>\n",
       "<table border=\"1\" class=\"dataframe\">\n",
       "  <thead>\n",
       "    <tr style=\"text-align: right;\">\n",
       "      <th></th>\n",
       "      <th>Arrivals</th>\n",
       "    </tr>\n",
       "  </thead>\n",
       "  <tbody>\n",
       "    <tr>\n",
       "      <th>307451</th>\n",
       "      <td>38.0</td>\n",
       "    </tr>\n",
       "    <tr>\n",
       "      <th>47435</th>\n",
       "      <td>1366.0</td>\n",
       "    </tr>\n",
       "  </tbody>\n",
       "</table>\n",
       "</div>"
      ],
      "text/plain": [
       "        Arrivals\n",
       "307451      38.0\n",
       "47435     1366.0"
      ]
     },
     "execution_count": 3,
     "metadata": {},
     "output_type": "execute_result"
    }
   ],
   "source": [
    "y_train.head(2)"
   ]
  },
  {
   "cell_type": "code",
   "execution_count": 4,
   "metadata": {},
   "outputs": [],
   "source": [
    "# encode dataframe\n",
    "encoded_df = pd.get_dummies(df, columns=['Region', 'District', 'Month'], drop_first=True)\n",
    "train, test = train_test_split(encoded_df, test_size=0.2)\n",
    "\n",
    "# create train and test split\n",
    "X_train = train.drop('Arrivals', axis=1)\n",
    "y_train = train[['Arrivals']]\n",
    "\n",
    "X_test = test.drop('Arrivals', axis=1)\n",
    "y_test = test[['Arrivals']]"
   ]
  },
  {
   "cell_type": "code",
   "execution_count": 5,
   "metadata": {},
   "outputs": [
    {
     "data": {
      "text/plain": [
       "0.15328036560983038"
      ]
     },
     "execution_count": 5,
     "metadata": {},
     "output_type": "execute_result"
    }
   ],
   "source": [
    "LR = LinearRegression()\n",
    "LR.fit(X_train, y_train)\n",
    "LR.score(X_test, y_test)"
   ]
  },
  {
   "cell_type": "code",
   "execution_count": 6,
   "metadata": {},
   "outputs": [
    {
     "name": "stderr",
     "output_type": "stream",
     "text": [
      "/Users/jakegilbert/anaconda3/envs/ml-0451/lib/python3.9/site-packages/sklearn/utils/validation.py:1184: DataConversionWarning: A column-vector y was passed when a 1d array was expected. Please change the shape of y to (n_samples, ), for example using ravel().\n",
      "  y = column_or_1d(y, warn=True)\n"
     ]
    }
   ],
   "source": [
    "SVM = SVR()\n",
    "SVM.fit(X_train, y_train)\n",
    "SVM.score(X_test, y_test)"
   ]
  },
  {
   "cell_type": "code",
   "execution_count": null,
   "metadata": {},
   "outputs": [
    {
     "data": {
      "text/plain": [
       "0.7919669238234"
      ]
     },
     "execution_count": 6,
     "metadata": {},
     "output_type": "execute_result"
    }
   ],
   "source": [
    "DT = DecisionTreeRegressor(max_depth=2)\n",
    "DT.fit(X_train, y_train)\n",
    "DT.score(X_test, y_test)"
   ]
  },
  {
   "cell_type": "code",
   "execution_count": null,
   "metadata": {},
   "outputs": [
    {
     "name": "stderr",
     "output_type": "stream",
     "text": [
      "/var/folders/rt/d3s5hnhn7sb9m39n0ky1cyrc0000gn/T/ipykernel_16528/983307818.py:2: DataConversionWarning: A column-vector y was passed when a 1d array was expected. Please change the shape of y to (n_samples,), for example using ravel().\n",
      "  RF.fit(X_train, y_train)\n"
     ]
    },
    {
     "data": {
      "text/plain": [
       "0.9446294049969509"
      ]
     },
     "execution_count": 7,
     "metadata": {},
     "output_type": "execute_result"
    }
   ],
   "source": [
    "RF = RandomForestRegressor()\n",
    "RF.fit(X_train, y_train)\n",
    "RF.score(X_test, y_test)"
   ]
  }
 ],
 "metadata": {
  "kernelspec": {
   "display_name": "ml-0451",
   "language": "python",
   "name": "python3"
  },
  "language_info": {
   "codemirror_mode": {
    "name": "ipython",
    "version": 3
   },
   "file_extension": ".py",
   "mimetype": "text/x-python",
   "name": "python",
   "nbconvert_exporter": "python",
   "pygments_lexer": "ipython3",
   "version": "3.9.18"
  }
 },
 "nbformat": 4,
 "nbformat_minor": 2
}
