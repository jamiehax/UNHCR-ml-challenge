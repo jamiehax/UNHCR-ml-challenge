{
 "cells": [
  {
   "cell_type": "code",
   "execution_count": 3,
   "metadata": {},
   "outputs": [
    {
     "name": "stderr",
     "output_type": "stream",
     "text": [
      "/var/folders/rf/hmt47tp17pl4jqh6zddf3vnh0000gn/T/ipykernel_6395/3725688222.py:44: DtypeWarning: Columns (17,23) have mixed types. Specify dtype option on import or set low_memory=False.\n",
      "  df = pd.read_csv('data/combined_data.csv')\n"
     ]
    }
   ],
   "source": [
    "import pandas as pd\n",
    "import numpy as np\n",
    "from sklearn.linear_model import LinearRegression\n",
    "from sklearn.ensemble import RandomForestRegressor\n",
    "from sklearn.tree import DecisionTreeRegressor\n",
    "from sklearn.svm import SVR\n",
    "from sklearn.model_selection import cross_val_score\n",
    "from sklearn.model_selection import train_test_split\n",
    "from sklearn.experimental import enable_iterative_imputer\n",
    "from sklearn.impute import IterativeImputer\n",
    "from sklearn.metrics import mean_squared_error\n",
    "from sklearn.decomposition import PCA\n",
    "import math\n",
    "from sklearn.preprocessing import LabelEncoder\n",
    "import torch\n",
    "\n",
    "\n",
    "dtypes = {\n",
    "  'Region':                  object,\n",
    "  'District':                object,\n",
    "  'CDI':                     float,\n",
    "  'Month':                   object,\n",
    "  'Year':                    int,\n",
    "  'NDVI':                    float,\n",
    "  'Rainfall':                float,\n",
    "  'Water Price':             float,\n",
    "  'Conflict Fatalities':     float,\n",
    "  'Conflict Incidents':      float,\n",
    "  'Cholera Deaths':          float,\n",
    "  'Cholera Cases':           float,\n",
    "  'Malaria':                 float,\n",
    "  'Measles':                 float,\n",
    "  'Cost Min Basket':         float,\n",
    "  'Goat Price':              float,\n",
    "  'Goat to Cereal':          float,\n",
    "  'Maize Price':             float,\n",
    "  'Rice Price':              float,\n",
    "  'Sorghum Price':           float,\n",
    "  'Wage Price':              float,\n",
    "  'Wage to Cereal':          float,\n",
    "  'Arrivals':                int,\n",
    "  'Departures':              int,\n",
    "}\n",
    "df = pd.read_csv('data/combined_data.csv')\n",
    "\n",
    "\n",
    "def prepare_data(df):\n",
    "  \"\"\"\n",
    "  Prepare the data for training, deal with NaNs. I think we also need to drop the 2014 years?\n",
    "  \"\"\"\n",
    "\n",
    "  # remove commas in numeric columns\n",
    "  for feature in df.columns:\n",
    "    df[feature] = df[feature].apply(lambda x: x.replace(',', '') if isinstance(x, str) else x)\n",
    "\n",
    "  # force numeric \n",
    "  numeric_cols = ['Cost Min Basket', 'Goat Price', 'Goat to Cereal', 'Maize Price', 'Rice Price', 'Sorghum Price', 'Wage Price', 'Arrivals']\n",
    "  df[numeric_cols] = df[numeric_cols].apply(pd.to_numeric)\n",
    "\n",
    "  # make categorical columns\n",
    "  df = df.astype({\"Region\": 'category', \"District\": 'category', \"Month\": 'category'})\n",
    "\n",
    "  # drop columns that arent useful\n",
    "  keep_cols = ['Arrivals', 'Region', 'District', 'Month', 'Rainfall', 'Conflict Fatalities', 'Conflict Incidents', 'Water Price', 'Goat Price']\n",
    "  df = df[keep_cols]\n",
    "  df = df.dropna()\n",
    "\n",
    "  # print(f'arrivals described: \\n {df[\"Arrivals\"].describe()} \\n ')\n",
    "  # print(f'10 largest arrivals: \\n {df.nlargest(10, \"Arrivals\")[\"Arrivals\"]}')\n",
    "\n",
    "  return df\n",
    "\n",
    "\n",
    "df = prepare_data(df)"
   ]
  },
  {
   "cell_type": "code",
   "execution_count": 4,
   "metadata": {},
   "outputs": [],
   "source": [
    "# encode dataframe\n",
    "# encoded_df = pd.get_dummies(df, columns=['Region', 'District', 'Month'], drop_first=True)\n",
    "\n",
    "# encode categorical columns in dataframe\n",
    "encoder = LabelEncoder()\n",
    "encoder.fit(df['Region'])\n",
    "df['Region'] = encoder.transform(df['Region'])\n",
    "encoder.fit(df['District'])\n",
    "df['District'] = encoder.transform(df['District'])\n",
    "encoder.fit(df['Month'])\n",
    "df['Month'] = encoder.transform(df['Month'])\n",
    "train, test = train_test_split(df, test_size=0.2)\n",
    "\n",
    "train, test = train_test_split(df, test_size=0.2)\n",
    "\n",
    "# create train and test split\n",
    "X_train = train.drop(['Arrivals'], axis=1)\n",
    "y_train = train[['Arrivals']]\n",
    "\n",
    "X_test = test.drop(['Arrivals'], axis=1)\n",
    "y_test = test[['Arrivals']]"
   ]
  },
  {
   "cell_type": "code",
   "execution_count": 5,
   "metadata": {},
   "outputs": [],
   "source": [
    "def classification_accuracy(y_true, y_pred):\n",
    "    \"\"\"\n",
    "    Return the classification accuracy of the predicted labels.\n",
    "    \"\"\"\n",
    "    if len(y_true) != len(y_pred):\n",
    "        raise ValueError(\"Arrays must be of equal length\")\n",
    "\n",
    "    accuracy = np.sum(y_true == y_pred) / len(y_true)\n",
    "    return accuracy"
   ]
  },
  {
   "cell_type": "code",
   "execution_count": 6,
   "metadata": {},
   "outputs": [
    {
     "name": "stdout",
     "output_type": "stream",
     "text": [
      "score: 0.018070448990905486\n",
      "rmse: 6000.03080981807\n",
      "classification accuracy: 0.4173550528835019\n"
     ]
    }
   ],
   "source": [
    "# fit the model\n",
    "LR = LinearRegression()\n",
    "LR.fit(X_train, y_train)\n",
    "\n",
    "# evaluate model based on bins\n",
    "true_bins = pd.cut(y_test['Arrivals'], bins=[0, 1000, 5000, float('inf')], labels=[1, 2, 3], right=False)\n",
    "preds_bin = np.digitize(LR.predict(X_test), bins=[0, 1000, 5000, float('inf')], right=False).flatten()\n",
    "\n",
    "print(f'score: {LR.score(X_test, y_test)}')\n",
    "print(f'rmse: {math.sqrt(mean_squared_error(LR.predict(X_test), y_test))}')\n",
    "print(f'classification accuracy: {classification_accuracy(true_bins, preds_bin)}')"
   ]
  },
  {
   "cell_type": "code",
   "execution_count": 6,
   "metadata": {},
   "outputs": [
    {
     "name": "stderr",
     "output_type": "stream",
     "text": [
      "/Users/jakegilbert/anaconda3/envs/ml-0451/lib/python3.9/site-packages/sklearn/utils/validation.py:1184: DataConversionWarning: A column-vector y was passed when a 1d array was expected. Please change the shape of y to (n_samples, ), for example using ravel().\n",
      "  y = column_or_1d(y, warn=True)\n"
     ]
    }
   ],
   "source": [
    "# fit the model\n",
    "SVR = SVR()\n",
    "SVR.fit(X_train, y_train)\n",
    "\n",
    "# evaluate model based on bins\n",
    "true_bins = pd.cut(y_test['Arrivals'], bins=[0, 1000, 5000, float('inf')], labels=[1, 2, 3], right=False)\n",
    "preds_bin = np.digitize(SVR.predict(X_test), bins=[0, 1000, 5000, float('inf')], right=False).flatten()\n",
    "\n",
    "print(f'score: {SVR.score(X_test, y_test)}')\n",
    "print(f'rmse: {math.sqrt(mean_squared_error(SVR.predict(X_test), y_test))}')\n",
    "print(f'classification accuracy: {classification_accuracy(true_bins, preds_bin)}')"
   ]
  },
  {
   "cell_type": "code",
   "execution_count": 7,
   "metadata": {},
   "outputs": [
    {
     "name": "stdout",
     "output_type": "stream",
     "text": [
      "score: 0.9615640234900281\n",
      "rmse: 1187.0862510982797\n",
      "classification accuracy: 0.9727476260325794\n"
     ]
    }
   ],
   "source": [
    "# fit the model\n",
    "DT = DecisionTreeRegressor(max_depth=11)\n",
    "DT.fit(X_train, y_train)\n",
    "\n",
    "# evaluate model based on bins\n",
    "true_bins = pd.cut(y_test['Arrivals'], bins=[0, 1000, 5000, float('inf')], labels=[1, 2, 3], right=False)\n",
    "preds_bin = np.digitize(DT.predict(X_test), bins=[0, 1000, 5000, float('inf')], right=False).flatten()\n",
    "\n",
    "print(f'score: {DT.score(X_test, y_test)}')\n",
    "print(f'rmse: {math.sqrt(mean_squared_error(DT.predict(X_test), y_test))}')\n",
    "print(f'classification accuracy: {classification_accuracy(true_bins, preds_bin)}')"
   ]
  },
  {
   "cell_type": "code",
   "execution_count": 8,
   "metadata": {},
   "outputs": [
    {
     "name": "stderr",
     "output_type": "stream",
     "text": [
      "/Users/jakegilbert/anaconda3/envs/ml-0451/lib/python3.9/site-packages/sklearn/base.py:1151: DataConversionWarning: A column-vector y was passed when a 1d array was expected. Please change the shape of y to (n_samples,), for example using ravel().\n",
      "  return fit_method(estimator, *args, **kwargs)\n"
     ]
    },
    {
     "name": "stdout",
     "output_type": "stream",
     "text": [
      "score: 0.9588915914216269\n",
      "rmse: 1227.6615314542425\n",
      "classification accuracy: 0.9918937697830619\n"
     ]
    }
   ],
   "source": [
    "# fit the model\n",
    "RF = RandomForestRegressor()\n",
    "RF.fit(X_train, y_train)\n",
    "\n",
    "# evaluate model based on bins\n",
    "true_bins = pd.cut(y_test['Arrivals'], bins=[0, 1000, 5000, float('inf')], labels=[1, 2, 3], right=False)\n",
    "preds_bin = np.digitize(RF.predict(X_test), bins=[0, 1000, 5000, float('inf')], right=False).flatten()\n",
    "\n",
    "print(f'score: {RF.score(X_test, y_test)}')\n",
    "print(f'rmse: {math.sqrt(mean_squared_error(RF.predict(X_test), y_test))}')\n",
    "print(f'classification accuracy: {classification_accuracy(true_bins, preds_bin)}')"
   ]
  },
  {
   "cell_type": "code",
   "execution_count": 9,
   "metadata": {},
   "outputs": [],
   "source": [
    "class NeuralNetwork(torch.nn.Module):\n",
    "\n",
    "    def __init__(self, input_dim):\n",
    "        super().__init__()\n",
    "\n",
    "        self.loss_fn = torch.nn.L1Loss()\n",
    "\n",
    "        self.pipeline = torch.nn.Sequential(\n",
    "                torch.nn.Linear(input_dim, 512),\n",
    "                torch.nn.Sigmoid(),\n",
    "                torch.nn.Linear(512, 128),\n",
    "                torch.nn.Sigmoid(),\n",
    "                torch.nn.Linear(128, 32),\n",
    "                torch.nn.Sigmoid(),\n",
    "                torch.nn.Linear(32, 1)\n",
    "        )\n",
    "\n",
    "\n",
    "    def forward(self, x):\n",
    "        return self.pipeline(x)\n",
    "    \n",
    "\n",
    "    def train(self, X, y, learning_rate, num_epochs):\n",
    "\n",
    "        for epoch in range(num_epochs):\n",
    "            optimizer = torch.optim.Adam(self.parameters(), lr=learning_rate)\n",
    "\n",
    "            pred = self.forward(torch.tensor(X.values, dtype=torch.float32))\n",
    "\n",
    "            # evaluate loss on prediction\n",
    "            loss = self.loss_fn(pred, torch.tensor(y.values, dtype=torch.float32))\n",
    "\n",
    "            # compute gradient\n",
    "            loss.backward()\n",
    "\n",
    "            # take an optimization step\n",
    "            optimizer.step()\n",
    "\n",
    "\n",
    "    def evaluate(self, X, y):\n",
    "        true_bins = pd.cut(y['Arrivals'], bins=[0, 1000, 5000, float('inf')], labels=[1, 2, 3], right=False)\n",
    "        preds = self.forward(torch.Tensor(X.values)).detach()\n",
    "        preds_bins = np.digitize(preds, bins=[0, 1000, 5000, float('inf')], right=False).flatten()\n",
    "\n",
    "        print(f'rmse: {math.sqrt(mean_squared_error(preds, y))}')\n",
    "        print(f'classification accuracy: {classification_accuracy(true_bins, preds_bins)}')\n",
    "\n",
    "\n",
    "NN = NeuralNetwork(len(list(X_train.columns)))"
   ]
  },
  {
   "cell_type": "code",
   "execution_count": 10,
   "metadata": {},
   "outputs": [],
   "source": [
    "learning_rate = 0.01\n",
    "num_epochs = 10\n",
    "NN.train(X_train, y_train, learning_rate, num_epochs)"
   ]
  },
  {
   "cell_type": "code",
   "execution_count": 11,
   "metadata": {},
   "outputs": [
    {
     "name": "stdout",
     "output_type": "stream",
     "text": [
      "rmse: 6180.975084770626\n",
      "classification accuracy: 0.8090017756504285\n"
     ]
    }
   ],
   "source": [
    "NN.evaluate(X_test, y_test)"
   ]
  }
 ],
 "metadata": {
  "kernelspec": {
   "display_name": "ml-0451",
   "language": "python",
   "name": "python3"
  },
  "language_info": {
   "codemirror_mode": {
    "name": "ipython",
    "version": 3
   },
   "file_extension": ".py",
   "mimetype": "text/x-python",
   "name": "python",
   "nbconvert_exporter": "python",
   "pygments_lexer": "ipython3",
   "version": "3.9.18"
  }
 },
 "nbformat": 4,
 "nbformat_minor": 2
}
