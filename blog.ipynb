{
 "cells": [
  {
   "cell_type": "markdown",
   "metadata": {},
   "source": [
    "# CSCI451 Project: UNHCR ML Challenge\n",
    "Jamie Hackney, Mihir Singh, Jake Gilbert"
   ]
  },
  {
   "cell_type": "code",
   "execution_count": 21,
   "metadata": {},
   "outputs": [
    {
     "name": "stderr",
     "output_type": "stream",
     "text": [
      "/var/folders/fv/_v7myjl904983sbb39qbkzw40000gn/T/ipykernel_71569/3274633012.py:20: DtypeWarning: Columns (17,23) have mixed types. Specify dtype option on import or set low_memory=False.\n",
      "  df = pd.read_csv('/Users/mihirsingh/Documents/Middlebury/CSCI451/UNHCR-ml-challenge/data/combined_data.csv')\n"
     ]
    }
   ],
   "source": [
    "# imports\n",
    "import pandas as pd\n",
    "import numpy as np\n",
    "\n",
    "# imports for models\n",
    "from sklearn.linear_model import LinearRegression\n",
    "from sklearn import tree \n",
    "from sklearn.svm import SVC\n",
    "from sklearn.neural_network import MLPClassifier\n",
    "from sklearn.impute import SimpleImputer\n",
    "from sklearn.model_selection import train_test_split\n",
    "\n",
    "# create models\n",
    "LR = LinearRegression()\n",
    "Svc = SVC()\n",
    "Tree = tree.DecisionTreeClassifier()\n",
    "NN = MLPClassifier()\n",
    "\n",
    "# load the data\n",
    "df = pd.read_csv('/Users/mihirsingh/Documents/Middlebury/CSCI451/UNHCR-ml-challenge/data/combined_data.csv')\n",
    "\n",
    "# impute data\n",
    "imp = SimpleImputer(missing_values=np.nan, strategy='most_frequent')\n",
    "array_imp = imp.fit_transform(df)\n",
    "df_imp = pd.DataFrame(array_imp, columns=df.columns)\n",
    "\n",
    "# departures is weirdly a string and has commas so we need to fix that\n",
    "df_imp['Departures'] = df_imp['Departures'].str.replace(',', '')\n",
    "df_imp['Departures'] = df_imp['Departures'].astype(float)\n",
    "\n",
    "# create target column\n",
    "df_imp['movement_score'] = df_imp['Arrivals'] - df_imp['Departures']\n",
    "\n",
    "# split data into training and testing data\n",
    "X_train, X_test, y_train, y_test = train_test_split(df_imp, df_imp['movement_score'], test_size=0.25)"
   ]
  }
 ],
 "metadata": {
  "kernelspec": {
   "display_name": "Python 3",
   "language": "python",
   "name": "python3"
  },
  "language_info": {
   "codemirror_mode": {
    "name": "ipython",
    "version": 3
   },
   "file_extension": ".py",
   "mimetype": "text/x-python",
   "name": "python",
   "nbconvert_exporter": "python",
   "pygments_lexer": "ipython3",
   "version": "3.9.18"
  }
 },
 "nbformat": 4,
 "nbformat_minor": 2
}
