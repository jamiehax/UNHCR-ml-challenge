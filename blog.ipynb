{
 "cells": [
  {
   "cell_type": "markdown",
   "metadata": {},
   "source": [
    "# CSCI451 Project: UNHCR ML Challenge\n",
    "Jamie Hackney, Mihir Singh, Jake Gilbert"
   ]
  },
  {
   "cell_type": "code",
   "execution_count": 129,
   "metadata": {},
   "outputs": [
    {
     "name": "stderr",
     "output_type": "stream",
     "text": [
      "/var/folders/rf/hmt47tp17pl4jqh6zddf3vnh0000gn/T/ipykernel_56936/2429708286.py:24: DtypeWarning: Columns (17,23) have mixed types. Specify dtype option on import or set low_memory=False.\n",
      "  df = pd.read_csv('data/combined_data.csv')\n"
     ]
    }
   ],
   "source": [
    "# imports\n",
    "import numpy as np\n",
    "import pandas as pd\n",
    "# imports for models\n",
    "from sklearn.linear_model import LinearRegression\n",
    "from sklearn import tree \n",
    "from sklearn.svm import SVC\n",
    "from sklearn.neural_network import MLPClassifier\n",
    "from sklearn.impute import SimpleImputer\n",
    "from sklearn.preprocessing import LabelEncoder\n",
    "from sklearn.model_selection import train_test_split\n",
    "from sklearn.metrics import mean_squared_error\n",
    "from sklearn.experimental import enable_iterative_imputer  # noqa\n",
    "from sklearn.impute import IterativeImputer\n",
    "from sklearn.metrics import r2_score\n",
    "\n",
    "# create models\n",
    "LR = LinearRegression()\n",
    "Svc = SVC()\n",
    "Tree = tree.DecisionTreeClassifier()\n",
    "NN = MLPClassifier()\n",
    "\n",
    "# load the data\n",
    "df = pd.read_csv('data/combined_data.csv')\n",
    "df_imp = df.copy()\n",
    "\n",
    "# encode data that is not numerical\n",
    "encoder = LabelEncoder()\n",
    "encoder.fit(df_imp['Region'])\n",
    "df_imp['Region'] = encoder.transform(df_imp['Region'])\n",
    "encoder.fit(df_imp['District'])\n",
    "df_imp['District'] = encoder.transform(df_imp['District'])\n",
    "encoder.fit(df_imp['Month'])\n",
    "df_imp['Month'] = encoder.transform(df_imp['Month'])\n",
    "\n",
    "# turn string numbers into floats\n",
    "features = ['CDI','Month','Year','NDVI','Rainfall','Water Price',\n",
    "            'Conflict Fatalities','Conflict Incidents','Cholera Deaths',\n",
    "            'Cholera Cases','Malaria','Measles','Cost Min Basket',\n",
    "            'Goat Price','Goat to Cereal','Maize Price','Rice Price',\n",
    "            'Sorghum Price','Wage Price','Wage to Cereal', 'Departures','Arrivals']\n",
    "\n",
    "for feature in features:\n",
    "    df_imp[feature] = df_imp[feature].apply(lambda x: x.replace(',', '') if isinstance(x, str) else x)\n",
    "\n",
    "#ALTERNATE DATAFRAME\n",
    "df_new = df_imp.copy()\n"
   ]
  },
  {
   "cell_type": "code",
   "execution_count": 149,
   "metadata": {},
   "outputs": [
    {
     "data": {
      "text/plain": [
       "CDI                    0\n",
       "Month                  0\n",
       "Year                   0\n",
       "NDVI                   0\n",
       "Rainfall               0\n",
       "Water Price            0\n",
       "Conflict Fatalities    0\n",
       "Conflict Incidents     0\n",
       "Cholera Deaths         0\n",
       "Cholera Cases          0\n",
       "Malaria                0\n",
       "Measles                0\n",
       "Cost Min Basket        0\n",
       "Goat Price             0\n",
       "Goat to Cereal         0\n",
       "Maize Price            0\n",
       "Rice Price             0\n",
       "Sorghum Price          0\n",
       "Wage Price             0\n",
       "Wage to Cereal         0\n",
       "Departures             0\n",
       "Arrivals               0\n",
       "dtype: int64"
      ]
     },
     "execution_count": 149,
     "metadata": {},
     "output_type": "execute_result"
    }
   ],
   "source": [
    "df_imp[features].isna().sum()\n"
   ]
  },
  {
   "cell_type": "markdown",
   "metadata": {},
   "source": [
    "Based on the amount of data marked NaN, we need to impute our data"
   ]
  },
  {
   "cell_type": "code",
   "execution_count": 148,
   "metadata": {},
   "outputs": [
    {
     "name": "stderr",
     "output_type": "stream",
     "text": [
      "/Users/jakegilbert/anaconda3/envs/ml-0451/lib/python3.9/site-packages/sklearn/impute/_iterative.py:796: ConvergenceWarning: [IterativeImputer] Early stopping criterion not reached.\n",
      "  warnings.warn(\n"
     ]
    }
   ],
   "source": [
    "# impute data\n",
    "# imp = SimpleImputer(missing_values=np.nan, strategy='median')\n",
    "# array_imp = imp.fit_transform(df_imp)\n",
    "# df_imp = pd.DataFrame(array_imp, columns=df.columns)\n",
    "\n",
    "imp = IterativeImputer(max_iter=10, random_state=0)\n",
    "array_imp = imp.fit_transform(df_imp)\n",
    "df_imp = pd.DataFrame(array_imp, columns=df.columns)   "
   ]
  },
  {
   "cell_type": "code",
   "execution_count": 151,
   "metadata": {},
   "outputs": [
    {
     "data": {
      "text/html": [
       "<div>\n",
       "<style scoped>\n",
       "    .dataframe tbody tr th:only-of-type {\n",
       "        vertical-align: middle;\n",
       "    }\n",
       "\n",
       "    .dataframe tbody tr th {\n",
       "        vertical-align: top;\n",
       "    }\n",
       "\n",
       "    .dataframe thead th {\n",
       "        text-align: right;\n",
       "    }\n",
       "</style>\n",
       "<table border=\"1\" class=\"dataframe\">\n",
       "  <thead>\n",
       "    <tr style=\"text-align: right;\">\n",
       "      <th></th>\n",
       "      <th>Unnamed: 0</th>\n",
       "      <th>Region</th>\n",
       "      <th>District</th>\n",
       "      <th>CDI</th>\n",
       "      <th>Month</th>\n",
       "      <th>Year</th>\n",
       "      <th>NDVI</th>\n",
       "      <th>Rainfall</th>\n",
       "      <th>Water Price</th>\n",
       "      <th>Conflict Fatalities</th>\n",
       "      <th>...</th>\n",
       "      <th>Cost Min Basket</th>\n",
       "      <th>Goat Price</th>\n",
       "      <th>Goat to Cereal</th>\n",
       "      <th>Maize Price</th>\n",
       "      <th>Rice Price</th>\n",
       "      <th>Sorghum Price</th>\n",
       "      <th>Wage Price</th>\n",
       "      <th>Wage to Cereal</th>\n",
       "      <th>Departures</th>\n",
       "      <th>Arrivals</th>\n",
       "    </tr>\n",
       "  </thead>\n",
       "  <tbody>\n",
       "    <tr>\n",
       "      <th>0</th>\n",
       "      <td>0.0</td>\n",
       "      <td>0.0</td>\n",
       "      <td>13.0</td>\n",
       "      <td>1.05</td>\n",
       "      <td>4.0</td>\n",
       "      <td>2018.0</td>\n",
       "      <td>0.168</td>\n",
       "      <td>4.342</td>\n",
       "      <td>4000.000000</td>\n",
       "      <td>0.0</td>\n",
       "      <td>...</td>\n",
       "      <td>1.090175e+06</td>\n",
       "      <td>2.977500e+05</td>\n",
       "      <td>57.000000</td>\n",
       "      <td>4000.000000</td>\n",
       "      <td>5200.000000</td>\n",
       "      <td>3200.000000</td>\n",
       "      <td>57400.000000</td>\n",
       "      <td>11.000000</td>\n",
       "      <td>6.000000</td>\n",
       "      <td>199.0</td>\n",
       "    </tr>\n",
       "    <tr>\n",
       "      <th>1</th>\n",
       "      <td>1.0</td>\n",
       "      <td>0.0</td>\n",
       "      <td>5.0</td>\n",
       "      <td>0.62</td>\n",
       "      <td>4.0</td>\n",
       "      <td>2018.0</td>\n",
       "      <td>0.132</td>\n",
       "      <td>6.065</td>\n",
       "      <td>8816.146932</td>\n",
       "      <td>0.0</td>\n",
       "      <td>...</td>\n",
       "      <td>3.221842e+06</td>\n",
       "      <td>1.034149e+06</td>\n",
       "      <td>96.505868</td>\n",
       "      <td>12674.026322</td>\n",
       "      <td>20302.198169</td>\n",
       "      <td>15778.178913</td>\n",
       "      <td>103823.463756</td>\n",
       "      <td>9.562667</td>\n",
       "      <td>415.870257</td>\n",
       "      <td>69.0</td>\n",
       "    </tr>\n",
       "    <tr>\n",
       "      <th>2</th>\n",
       "      <td>2.0</td>\n",
       "      <td>0.0</td>\n",
       "      <td>53.0</td>\n",
       "      <td>0.63</td>\n",
       "      <td>4.0</td>\n",
       "      <td>2018.0</td>\n",
       "      <td>0.047</td>\n",
       "      <td>7.915</td>\n",
       "      <td>15724.612735</td>\n",
       "      <td>0.0</td>\n",
       "      <td>...</td>\n",
       "      <td>1.674934e+06</td>\n",
       "      <td>3.000000e+05</td>\n",
       "      <td>50.000000</td>\n",
       "      <td>4729.703777</td>\n",
       "      <td>7000.000000</td>\n",
       "      <td>6000.000000</td>\n",
       "      <td>90000.000000</td>\n",
       "      <td>15.000000</td>\n",
       "      <td>253.000000</td>\n",
       "      <td>24.0</td>\n",
       "    </tr>\n",
       "    <tr>\n",
       "      <th>3</th>\n",
       "      <td>3.0</td>\n",
       "      <td>0.0</td>\n",
       "      <td>73.0</td>\n",
       "      <td>1.10</td>\n",
       "      <td>4.0</td>\n",
       "      <td>2018.0</td>\n",
       "      <td>0.052</td>\n",
       "      <td>8.121</td>\n",
       "      <td>6000.000000</td>\n",
       "      <td>0.0</td>\n",
       "      <td>...</td>\n",
       "      <td>1.160475e+06</td>\n",
       "      <td>4.100000e+05</td>\n",
       "      <td>59.000000</td>\n",
       "      <td>6000.000000</td>\n",
       "      <td>7000.000000</td>\n",
       "      <td>5500.000000</td>\n",
       "      <td>100000.000000</td>\n",
       "      <td>14.000000</td>\n",
       "      <td>-32.184029</td>\n",
       "      <td>68.0</td>\n",
       "    </tr>\n",
       "    <tr>\n",
       "      <th>4</th>\n",
       "      <td>4.0</td>\n",
       "      <td>17.0</td>\n",
       "      <td>41.0</td>\n",
       "      <td>0.78</td>\n",
       "      <td>4.0</td>\n",
       "      <td>2018.0</td>\n",
       "      <td>0.000</td>\n",
       "      <td>2.247</td>\n",
       "      <td>11000.000000</td>\n",
       "      <td>0.0</td>\n",
       "      <td>...</td>\n",
       "      <td>1.366665e+06</td>\n",
       "      <td>4.600000e+05</td>\n",
       "      <td>92.000000</td>\n",
       "      <td>6000.000000</td>\n",
       "      <td>5000.000000</td>\n",
       "      <td>5000.000000</td>\n",
       "      <td>70000.000000</td>\n",
       "      <td>14.000000</td>\n",
       "      <td>400.000000</td>\n",
       "      <td>663.0</td>\n",
       "    </tr>\n",
       "  </tbody>\n",
       "</table>\n",
       "<p>5 rows × 25 columns</p>\n",
       "</div>"
      ],
      "text/plain": [
       "   Unnamed: 0  Region  District   CDI  Month    Year   NDVI  Rainfall  \\\n",
       "0         0.0     0.0      13.0  1.05    4.0  2018.0  0.168     4.342   \n",
       "1         1.0     0.0       5.0  0.62    4.0  2018.0  0.132     6.065   \n",
       "2         2.0     0.0      53.0  0.63    4.0  2018.0  0.047     7.915   \n",
       "3         3.0     0.0      73.0  1.10    4.0  2018.0  0.052     8.121   \n",
       "4         4.0    17.0      41.0  0.78    4.0  2018.0  0.000     2.247   \n",
       "\n",
       "    Water Price  Conflict Fatalities  ...  Cost Min Basket    Goat Price  \\\n",
       "0   4000.000000                  0.0  ...     1.090175e+06  2.977500e+05   \n",
       "1   8816.146932                  0.0  ...     3.221842e+06  1.034149e+06   \n",
       "2  15724.612735                  0.0  ...     1.674934e+06  3.000000e+05   \n",
       "3   6000.000000                  0.0  ...     1.160475e+06  4.100000e+05   \n",
       "4  11000.000000                  0.0  ...     1.366665e+06  4.600000e+05   \n",
       "\n",
       "   Goat to Cereal   Maize Price    Rice Price  Sorghum Price     Wage Price  \\\n",
       "0       57.000000   4000.000000   5200.000000    3200.000000   57400.000000   \n",
       "1       96.505868  12674.026322  20302.198169   15778.178913  103823.463756   \n",
       "2       50.000000   4729.703777   7000.000000    6000.000000   90000.000000   \n",
       "3       59.000000   6000.000000   7000.000000    5500.000000  100000.000000   \n",
       "4       92.000000   6000.000000   5000.000000    5000.000000   70000.000000   \n",
       "\n",
       "   Wage to Cereal  Departures  Arrivals  \n",
       "0       11.000000    6.000000     199.0  \n",
       "1        9.562667  415.870257      69.0  \n",
       "2       15.000000  253.000000      24.0  \n",
       "3       14.000000  -32.184029      68.0  \n",
       "4       14.000000  400.000000     663.0  \n",
       "\n",
       "[5 rows x 25 columns]"
      ]
     },
     "execution_count": 151,
     "metadata": {},
     "output_type": "execute_result"
    }
   ],
   "source": [
    "df_imp.head()"
   ]
  },
  {
   "cell_type": "code",
   "execution_count": 155,
   "metadata": {},
   "outputs": [],
   "source": [
    "important_features = [\"Region\", \"District\", \"Month\", \"Year\", \"Conflict Fatalities\", \"Conflict Incidents\", \"Goat Price\", \"Water Price\", \"Rainfall\", \"Arrivals\"]\n",
    "important_features_no_arrivals = [\"Region\", \"District\", \"Month\", \"Year\", \"Conflict Fatalities\", \"Conflict Incidents\", \"Goat Price\", \"Water Price\", \"Rainfall\"]  \n"
   ]
  },
  {
   "cell_type": "code",
   "execution_count": 157,
   "metadata": {},
   "outputs": [],
   "source": [
    "# split data into training and testing data\n",
    "columns = ['CDI','Month','Year','NDVI','Rainfall','Water Price',\n",
    "            'Conflict Fatalities','Conflict Incidents','Cholera Deaths',\n",
    "            'Cholera Cases','Malaria','Measles','Cost Min Basket',\n",
    "            'Goat Price','Goat to Cereal','Maize Price','Rice Price',\n",
    "            'Sorghum Price','Wage Price','Wage to Cereal']\n",
    "\n",
    "\n",
    "X_train, X_test, y_train, y_test = train_test_split(df_imp[important_features_no_arrivals], df_imp['Arrivals'], test_size=0.15)"
   ]
  },
  {
   "cell_type": "markdown",
   "metadata": {},
   "source": [
    "With the data processed, we can now build some models."
   ]
  },
  {
   "cell_type": "code",
   "execution_count": 153,
   "metadata": {},
   "outputs": [
    {
     "data": {
      "text/plain": [
       "(279527, 10)"
      ]
     },
     "execution_count": 153,
     "metadata": {},
     "output_type": "execute_result"
    }
   ],
   "source": [
    "def has_negative(values):\n",
    "    for value in values:\n",
    "        if value < 0:\n",
    "            return True\n",
    "    return False\n",
    "\n",
    "\n",
    "X_train.head()\n",
    "X_train.shape\n"
   ]
  },
  {
   "cell_type": "code",
   "execution_count": 158,
   "metadata": {},
   "outputs": [
    {
     "name": "stdout",
     "output_type": "stream",
     "text": [
      "on training data:  4211.42870495444\n"
     ]
    },
    {
     "data": {
      "text/plain": [
       "0.08496562756341985"
      ]
     },
     "execution_count": 158,
     "metadata": {},
     "output_type": "execute_result"
    }
   ],
   "source": [
    "# fitting models\n",
    "LR.fit(X_train, list(y_train))\n",
    "\n",
    "# predicting\n",
    "LR_pred = LR.predict(X_test)\n",
    "# evaluate\n",
    "print(\"on training data: \", mean_squared_error(list(y_test), LR_pred, squared=False))\n",
    "\n",
    "# caluclate R^2\n",
    "r2_score(list(y_test), LR_pred)\n",
    "\n",
    "LR.score(X_test, y_test)\n"
   ]
  },
  {
   "cell_type": "markdown",
   "metadata": {},
   "source": [
    "Studies that try to explain human behavior generally have R^2 values lower than 50%"
   ]
  }
 ],
 "metadata": {
  "kernelspec": {
   "display_name": "Python 3",
   "language": "python",
   "name": "python3"
  },
  "language_info": {
   "codemirror_mode": {
    "name": "ipython",
    "version": 3
   },
   "file_extension": ".py",
   "mimetype": "text/x-python",
   "name": "python",
   "nbconvert_exporter": "python",
   "pygments_lexer": "ipython3",
   "version": "3.9.18"
  }
 },
 "nbformat": 4,
 "nbformat_minor": 2
}
