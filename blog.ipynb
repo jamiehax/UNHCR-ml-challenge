{
 "cells": [
  {
   "cell_type": "markdown",
   "metadata": {},
   "source": [
    "# CSCI451 Project: UNHCR ML Challenge\n",
    "Jamie Hackney, Mihir Singh, Jake Gilbert"
   ]
  },
  {
   "cell_type": "code",
   "execution_count": null,
   "metadata": {},
   "outputs": [],
   "source": [
    "# imports\n",
    "import pandas as pd\n",
    "import numpy as np\n",
    "\n",
    "# imports for models\n",
    "from sklearn.linear_model import LinearRegression\n",
    "from sklearn import tree \n",
    "from sklearn.svm import SVC\n",
    "from sklearn.neural_network import MLPClassifier\n",
    "\n",
    "# create models\n",
    "LR = LinearRegression()\n",
    "Svc = SVC()\n",
    "Tree = tree.DecisionTreeClassifier()\n",
    "NN = MLPClassifier()\n",
    "\n",
    "# load the data\n",
    "df = pd.read_csv('DATA.csv')\n",
    "\n"
   ]
  }
 ],
 "metadata": {
  "kernelspec": {
   "display_name": "Python 3",
   "language": "python",
   "name": "python3"
  },
  "language_info": {
   "name": "python",
   "version": "3.9.18"
  }
 },
 "nbformat": 4,
 "nbformat_minor": 2
}
