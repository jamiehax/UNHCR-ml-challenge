{
 "cells": [
  {
   "cell_type": "markdown",
   "metadata": {},
   "source": [
    "# UNCHR - ML Challenge\n",
    "Jamie Hackney, Mihir Singh, Jake Gilbert\n",
    "\n",
    "## Abstract\n",
    "This project seeks to develop, implement, and evaluate various machine learning models to accurately predict refugee population movements in Somalia as part of the United Nations Commissioner for Refugees (UNHCR) Machine Learning Challenge. The data used by our models' was collected by the UNHCR between 2015 and 2024 in Somalia. It contains information on population movements, markets, health, conflicts, and climate. We developed a web scraper to collect this data and combine it all into a single dataframe. To deal with missing data values, we created two datasets, one by dropping the missing values and the other by imputing them. Then, we built a Logistic Regression, Decision Tree, and Random Forest model on different subsets of these two datasets. We tested these models to see how accurately they could predict the number of refugee arrivals into a specific district in Somalia by computing the root mean squared error (RMSE), framing it as a regression problem. We found that the models had, on average, very high root mean squared errors (indicating a poor fit on the data), yet also had high R<sup>2</sup> values (indicating a good fit on the data). We believe this discrepancy is explained by the fact that there are several very large outliers present in the data. To validate this, we binned the predictions into the three severity levels proposed by the UN, and treated it as a classification problem. When doing so, our best model, a Decision Tree Regressor trained on a subset of the dataset where missing features were dropped, achieved an accuracy of 99.5%. This model was also able to perfectly predict the exact number of arrivals 98% of the time, further supporting our hypothesis that these models fit the data very well and the high RMSE is explained by the existence of several large outliers.\n",
    "\n",
    "## Values Statement\n",
    "The intended users of our project are the Somalian government and other NGOs that support refugees in the area. However, our project deals directly with people, as we are predicting where we expect refugees to move in Somalia. Because of this, the entire population of refugees in Somalia could potentially be affected by our project, if it were to be used by any of these agencies or governments to inform resource allocations. Both refugees in Somalia and the groups that support these refugees stand to benefit from our project, assuming the models are an effective tool. If this is the case, then these agencies can better allocate resources, which will benefit the refugees themselves as they will have access to more resources. Additionally, the government and agencies supporting them will benefit from more efficient resource movement. Conversely, if our models prove to be inaccurate enough that they cause resources to be misallocated, both refugees and the groups supporting them could be seriously harmed. Additionally, we note the possibility that bad actors could co-opt these models to predict refugee movements for malicious purposes.\n",
    "\n",
    "We chose to work on this project because we were interested in the intersection between machine learning and public policy. When we found the UN challenge related to this project, we became very interested in the cause of this project, and found the ability to help refugees and their support groups compelling. Assuming that our models are an effective tool for helping agencies allocate resources for refugees, we believe that the benefits to refugee populations and their support groups will bring some relief to that region.\n",
    "\n",
    "\n",
    "## Introduction\n",
    "Our program addresses the humanitarian crisis in Somalia related to refugee movements and forcibly displaced people. The ability to accurately predict patterns in forcibly displaced peoples movements is crucial to the development of public policies that provide aid and resources to refugees. This is not a novel problem, and in fact has been approached several times before. Suleimenova et al., Gulden et al., and Lin et al. all developed agent based models to predict population movements. Gleick investigated the relationship between water and conflict in Syria, drawing a connection between water scarcity and conflicts, which in turn can drive population movements. Finally, Finnley noted an increase in migration of women and children during the severe drought of 1983-1985. \n",
    "\n",
    "We focused on building models trained on a variety of data, including climate, conflicts, and market prices. By looking at a variety of conditions affecting human movement, we predict the movement patterns of displaced people in Somalia. The goal of this project is to effectively predict these population movements so that agencies supporting refugee populations in this area can better allocate resources to regions that are expected to receive a high number of migrants."
   ]
  },
  {
   "cell_type": "markdown",
   "metadata": {},
   "source": [
    "## Materials and Methods"
   ]
  },
  {
   "cell_type": "code",
   "execution_count": 15,
   "metadata": {},
   "outputs": [],
   "source": [
    "import pandas as pd\n",
    "import numpy as np\n",
    "import matplotlib.pyplot as plt\n",
    "from models import dropNA\n",
    "from models import impute\n",
    "from models import evaluate_LR\n",
    "from models import evaluate_DT\n",
    "from models import evaluate_RF\n",
    "from sklearn.model_selection import train_test_split\n",
    "from sklearn.tree import DecisionTreeRegressor\n",
    "import warnings\n",
    "warnings.filterwarnings('ignore')"
   ]
  },
  {
   "cell_type": "markdown",
   "metadata": {},
   "source": [
    "### Our Data\n",
    "All of our data came from the Food Security and Nutrition Analysis Unit Dashboard for Somalia (FSNAU). This organization collects data related to food and security in Somalia. FSNAU provides access to this data through a public facing dashboard. Users can select what data they would like to look at and which time frames (in six month increments).\n",
    "\n",
    "For our data, focused on creating two datasets, one where we drop missing values and one where we impute them. Within these datasets, we further split them into all available features, and just the top nine features as recommended by the UNHCR in their previous work with this data (project [Jetson](https://jetson.unhcr.org/tech.html)). Due to data availability, we focused on data from 2015 - 2024."
   ]
  },
  {
   "cell_type": "code",
   "execution_count": 16,
   "metadata": {},
   "outputs": [],
   "source": [
    "# load data\n",
    "df = pd.read_csv('data/combined_data.csv')"
   ]
  },
  {
   "cell_type": "markdown",
   "metadata": {},
   "source": [
    "### Our Approach\n",
    "The goal of our models was to predict the number of refugees arriving in a certain district in Somalia. We used the “Arrivals” column of our data as the target feature for our models to predict. For training features, we either trained our models on all features available on the FSNAU dashboard, or the nine features recommended by the UNHCR (region, district, month, year, rainfall, number of conflict fatalities, number of conflict incidents, water price, and goat price). We chose to run models trained on these nine features because the UN found these particularly helpful when building their own machine learning models ([Jetson Data](https://jetson.unhcr.org/tech.html)). For all models, we dropped the feature describing the number of departures because such data can only be collected after the fact. That is, at the time this model would be run in a “real” scenario, there would be no way of knowing the number of departures in a district for the entire month; a month must first pass for this data to become known. Finally, we split the data into train and test groups, with 80% of the data in the train split and 20% of the data in the test split. Depending on the dataset used, the exact number of rows varied, but for the dataset we found to be best (dropping missing values and only using the nine best features), we had 51,812 train rows and 12,953 test rows."
   ]
  },
  {
   "cell_type": "code",
   "execution_count": 17,
   "metadata": {},
   "outputs": [],
   "source": [
    "# create four dataframes of the data\n",
    "df_dropna = dropNA(df)\n",
    "df_dropna_t9 = dropNA(df, top_9=True)\n",
    "df_impute = impute(df)\n",
    "df_impute_t9 = impute(df, top_9=True)"
   ]
  },
  {
   "cell_type": "markdown",
   "metadata": {},
   "source": [
    "We trained a Linear Regression model, Decision Tree Regressor, and Random Forest Regressor model from Sci-Kit Learn to make our predictions. These models were chosen because predicting the number of refugees arriving is a regression problem, where we want our model to give us an estimate of the number of arrivals in a district. We trained each model on the four datasets we created: drop missing values and use all features, drop missing values and use only the best nine features, impute missing values and use all features, and impute missing values and use only the nine best features. The reason for choosing to both impute and drop missing values is to determine the best approach to deal with these missing values, of which there were many. In fact, out of the 328,856 available rows, only 230 had no missing values. A single missing value in any one feature can render the entire row obsolete in training or testing. The benefit of imputing the data is that we end up with much more data to train and test with, potentially increasing accuracy and decreasing the possibility of overfitting. The drawback is that the data is generally lower quality, as many values are estimates not actual observations. Dropping missing values, on the other hand, leads to a smaller dataset, potentially decreasing accuracy and increasing the possibility of overfitting. The data we are left with, however, is much higher quality since it is composed entirely of actual observations.\n",
    "\n",
    "\n",
    "The four datasets that result from this process, as well as their sizes are below:\n",
    "\n",
    "- `df_dropna` includes all rows without a single Na or NaN in any feature.\n",
    "    - train size: 230 x 23\n",
    "    - test size: 55 x 23\n",
    "\n",
    "\n",
    "- `df_dropna_t9` includes all rows without a single Na or NaN in any of the top nine features. \n",
    "    - train size: 51,812 x 10\n",
    "    - test size: 12,953 x 10\n",
    "\n",
    "\n",
    "- `df_impute` includes all rows and features and fills in missing values by estimating their value using SciKitLearn’s SimpleImputer. \n",
    "    - train size: 263084 x 23\n",
    "    - test size: 65,772 x 23\n",
    "\n",
    "\n",
    "- `df_impute_t9`  includes all rows and only the best nine features, and fills in missing values by estimating their value using SciKitLearn’s SimpleImputer. \n",
    "    - train size: 263084 x 10\n",
    "    - test size: 65,772 x 10\n",
    "\n",
    "\n",
    "The disadvantage of imputing the data can be seen in the fact that it produces negative values in the “Arrivals” column, which is impossible.\n",
    "\n",
    "We then evaluated each of the models on each data set using R2, RMSE, and the classification accuracy for the three alarm levels. This classification accuracy came from binning the predictions into one of the three population movement [alarm levels](https://dashboard.fsnau.org/application/cache/images/EWEA_Dashboard_Indictor_Thresholds.pdf) set by FSNAU and calculating the percent of times the model predicted the correct alarm level. The reason we included this metric is because the dataset contained several large outliers that heavily skewed the RMSE, which we will go into more at the end of this section. Additionally, we figured that in a real world scenario, it is more likely the aid groups would care more about whether the incoming number of migrants is low, medium, or high, rather than an exact number. "
   ]
  },
  {
   "cell_type": "markdown",
   "metadata": {},
   "source": [
    "## Results\n",
    "We evaluate the models using three different metrics, R<sup>2</sup>, RMSE, and the alarm level classification accuracy. The R<sup>2</sup> value measures how well the model explains the observed data values. RMSE measures the average error for a prediction, with the interpretation being that the RMSE value is the average number of people the predictions are off by. Finally, the classification accuracy measures how often the models correctly predict the alarm level. In other words, the classification accuracy is how often the models can correctly predict whether the arrivals will be less than 1000 people, between 1000 and 5000 people, or greater than 5000 people. The tables below show the model performances when evaluated with each of these metrics on the testing data. "
   ]
  },
  {
   "cell_type": "markdown",
   "metadata": {},
   "source": [
    "### Linear Regression"
   ]
  },
  {
   "cell_type": "code",
   "execution_count": 18,
   "metadata": {},
   "outputs": [
    {
     "name": "stdout",
     "output_type": "stream",
     "text": [
      "Drop Missing Values, Use All Features:\n",
      "score: -0.5120080054803344\n",
      "rmse: 4004.408898337328\n",
      "classification accuracy: 1.0\n",
      "\n",
      "\n",
      "Drop Missing Values, Use Best Nine Features:\n",
      "score: 0.022127246581247872\n",
      "rmse: 5531.715825977417\n",
      "classification accuracy: 0.46383077279394735\n",
      "\n",
      "\n",
      "Impute Missing Values, Use All Features:\n",
      "score: 0.33164398083006263\n",
      "rmse: 3641.15860937481\n",
      "classification accuracy: 0.6846834519248313\n",
      "\n",
      "\n",
      "Impute Missing Values, Use Best Nine Features:\n",
      "score: 0.09979970878891353\n",
      "rmse: 4044.098286302458\n",
      "classification accuracy: 0.6812321352551237\n",
      "\n",
      "\n"
     ]
    }
   ],
   "source": [
    "# dropna\n",
    "print(\"Drop Missing Values, Use All Features:\")\n",
    "train, test = train_test_split(df_dropna, test_size=0.2)\n",
    "X_train = train.drop(['Arrivals'], axis=1)\n",
    "y_train = train[['Arrivals']]\n",
    "X_test = test.drop(['Arrivals'], axis=1)\n",
    "y_test = test[['Arrivals']]\n",
    "evaluate_LR(X_train, y_train, X_test, y_test)\n",
    "\n",
    "# dropna top 9\n",
    "print(\"Drop Missing Values, Use Best Nine Features:\")\n",
    "train, test = train_test_split(df_dropna_t9, test_size=0.2)\n",
    "X_train = train.drop(['Arrivals'], axis=1)\n",
    "y_train = train[['Arrivals']]\n",
    "X_test = test.drop(['Arrivals'], axis=1)\n",
    "y_test = test[['Arrivals']]\n",
    "evaluate_LR(X_train, y_train, X_test, y_test)\n",
    "\n",
    "# impute\n",
    "print(\"Impute Missing Values, Use All Features:\")\n",
    "train, test = train_test_split(df_impute, test_size=0.2)\n",
    "X_train = train.drop(['Arrivals'], axis=1)\n",
    "y_train = train[['Arrivals']]\n",
    "X_test = test.drop(['Arrivals'], axis=1)\n",
    "y_test = test[['Arrivals']]\n",
    "evaluate_LR(X_train, y_train, X_test, y_test)\n",
    "\n",
    "# impute top 9\n",
    "print(\"Impute Missing Values, Use Best Nine Features:\")\n",
    "train, test = train_test_split(df_impute_t9, test_size=0.2)\n",
    "X_train = train.drop(['Arrivals'], axis=1)\n",
    "y_train = train[['Arrivals']]\n",
    "X_test = test.drop(['Arrivals'], axis=1)\n",
    "y_test = test[['Arrivals']]\n",
    "evaluate_LR(X_train, y_train, X_test, y_test)"
   ]
  },
  {
   "cell_type": "markdown",
   "metadata": {},
   "source": [
    "### Decision Tree"
   ]
  },
  {
   "cell_type": "code",
   "execution_count": 19,
   "metadata": {},
   "outputs": [
    {
     "name": "stdout",
     "output_type": "stream",
     "text": [
      "Drop Missing Values, Use All Features:\n",
      "score: -1.0293524315764553\n",
      "rmse: 1832.0020891214767\n",
      "classification accuracy: 0.9454545454545454\n",
      "\n",
      "\n",
      "Drop Missing Values, Use Best Nine Features:\n",
      "score: 0.9086362235559209\n",
      "rmse: 1686.7363933175686\n",
      "classification accuracy: 0.9932834092488226\n",
      "\n",
      "\n",
      "Impute Missing Values, Use All Features:\n",
      "score: 0.9141093025870605\n",
      "rmse: 1243.3944680840762\n",
      "classification accuracy: 0.8610654989965335\n",
      "\n",
      "\n",
      "Impute Missing Values, Use Best Nine Features:\n",
      "score: 0.8600721201782545\n",
      "rmse: 1622.8755875767067\n",
      "classification accuracy: 0.8631940643434897\n",
      "\n",
      "\n"
     ]
    }
   ],
   "source": [
    "# dropna\n",
    "print(\"Drop Missing Values, Use All Features:\")\n",
    "train, test = train_test_split(df_dropna, test_size=0.2)\n",
    "X_train = train.drop(['Arrivals'], axis=1)\n",
    "y_train = train[['Arrivals']]\n",
    "X_test = test.drop(['Arrivals'], axis=1)\n",
    "y_test = test[['Arrivals']]\n",
    "evaluate_DT(X_train, y_train, X_test, y_test)\n",
    "\n",
    "# dropna top 9\n",
    "print(\"Drop Missing Values, Use Best Nine Features:\")\n",
    "train, test = train_test_split(df_dropna_t9, test_size=0.2)\n",
    "X_train = train.drop(['Arrivals'], axis=1)\n",
    "y_train = train[['Arrivals']]\n",
    "X_test = test.drop(['Arrivals'], axis=1)\n",
    "y_test = test[['Arrivals']]\n",
    "evaluate_DT(X_train, y_train, X_test, y_test)\n",
    "\n",
    "# impute\n",
    "print(\"Impute Missing Values, Use All Features:\")\n",
    "train, test = train_test_split(df_impute, test_size=0.2)\n",
    "X_train = train.drop(['Arrivals'], axis=1)\n",
    "y_train = train[['Arrivals']]\n",
    "X_test = test.drop(['Arrivals'], axis=1)\n",
    "y_test = test[['Arrivals']]\n",
    "evaluate_DT(X_train, y_train, X_test, y_test)\n",
    "\n",
    "# impute top 9\n",
    "print(\"Impute Missing Values, Use Best Nine Features:\")\n",
    "train, test = train_test_split(df_impute_t9, test_size=0.2)\n",
    "X_train = train.drop(['Arrivals'], axis=1)\n",
    "y_train = train[['Arrivals']]\n",
    "X_test = test.drop(['Arrivals'], axis=1)\n",
    "y_test = test[['Arrivals']]\n",
    "evaluate_DT(X_train, y_train, X_test, y_test)"
   ]
  },
  {
   "cell_type": "markdown",
   "metadata": {},
   "source": [
    "### Random Forest"
   ]
  },
  {
   "cell_type": "code",
   "execution_count": 20,
   "metadata": {},
   "outputs": [
    {
     "name": "stdout",
     "output_type": "stream",
     "text": [
      "Drop Missing Values, Use All Features:\n",
      "score: -0.41771466376163113\n",
      "rmse: 1925.9235858153875\n",
      "classification accuracy: 0.9272727272727272\n",
      "\n",
      "\n",
      "Drop Missing Values, Use Best Nine Features:\n",
      "score: 0.963600818038985\n",
      "rmse: 1194.1962938556157\n",
      "classification accuracy: 0.9922797807457732\n",
      "\n",
      "\n",
      "Impute Missing Values, Use All Features:\n",
      "score: 0.9530521565094427\n",
      "rmse: 971.2710461948245\n",
      "classification accuracy: 0.8653834458432159\n",
      "\n",
      "\n",
      "Impute Missing Values, Use Best Nine Features:\n",
      "score: 0.9251482120105943\n",
      "rmse: 1137.0446510214172\n",
      "classification accuracy: 0.8624186583956699\n",
      "\n",
      "\n"
     ]
    }
   ],
   "source": [
    "# dropna\n",
    "print(\"Drop Missing Values, Use All Features:\")\n",
    "train, test = train_test_split(df_dropna, test_size=0.2)\n",
    "X_train = train.drop(['Arrivals'], axis=1)\n",
    "y_train = train[['Arrivals']]\n",
    "X_test = test.drop(['Arrivals'], axis=1)\n",
    "y_test = test[['Arrivals']]\n",
    "evaluate_RF(X_train, y_train, X_test, y_test)\n",
    "\n",
    "# dropna top 9\n",
    "print(\"Drop Missing Values, Use Best Nine Features:\")\n",
    "train, test = train_test_split(df_dropna_t9, test_size=0.2)\n",
    "X_train = train.drop(['Arrivals'], axis=1)\n",
    "y_train = train[['Arrivals']]\n",
    "X_test = test.drop(['Arrivals'], axis=1)\n",
    "y_test = test[['Arrivals']]\n",
    "evaluate_RF(X_train, y_train, X_test, y_test)\n",
    "\n",
    "# impute\n",
    "print(\"Impute Missing Values, Use All Features:\")\n",
    "train, test = train_test_split(df_impute, test_size=0.2)\n",
    "X_train = train.drop(['Arrivals'], axis=1)\n",
    "y_train = train[['Arrivals']]\n",
    "X_test = test.drop(['Arrivals'], axis=1)\n",
    "y_test = test[['Arrivals']]\n",
    "evaluate_RF(X_train, y_train, X_test, y_test)\n",
    "\n",
    "# impute top 9\n",
    "print(\"Impute Missing Values, Use Best Nine Features:\")\n",
    "train, test = train_test_split(df_impute_t9, test_size=0.2)\n",
    "X_train = train.drop(['Arrivals'], axis=1)\n",
    "y_train = train[['Arrivals']]\n",
    "X_test = test.drop(['Arrivals'], axis=1)\n",
    "y_test = test[['Arrivals']]\n",
    "evaluate_RF(X_train, y_train, X_test, y_test)"
   ]
  },
  {
   "cell_type": "markdown",
   "metadata": {},
   "source": [
    "### Dataset Outliers\n",
    "The dataset contained several large outliers for our target column (“Arrivals”) that were throwing off the RMSE calculations. The 95th percentile of arrivals was 3,701; in other words 90% of arrivales were 3,701 or fewer people. However, the maximum number of arrivals for a single observation was 259,678. This implies the existence of some large outliers in the dataset that skew the RMSE calculation, making the models seem to perform worse than they actually do."
   ]
  },
  {
   "cell_type": "code",
   "execution_count": 21,
   "metadata": {},
   "outputs": [
    {
     "name": "stdout",
     "output_type": "stream",
     "text": [
      "90th percentile: \n",
      "3701.0 \n",
      "\n",
      "arrivals statistics: \n",
      "count    191416.000000\n",
      "mean       1226.451807\n",
      "std        5534.244627\n",
      "min           1.000000\n",
      "25%          49.000000\n",
      "50%         194.000000\n",
      "75%         614.000000\n",
      "max      259678.000000\n",
      "Name: Arrivals, dtype: float64\n"
     ]
    }
   ],
   "source": [
    "print(f'90th percentile: \\n{df[\"Arrivals\"].quantile(q=0.95)} \\n')\n",
    "print(f'arrivals statistics: \\n{df[\"Arrivals\"].describe()}')"
   ]
  },
  {
   "cell_type": "markdown",
   "metadata": {},
   "source": [
    "### Impute Disadvantages\n",
    "When we impute the data, we are filling in the missing values with an estimate based on the other present features. However, when we impute this dataset, we actually end up with some negative values in the arrival column, which is impossible. This can be problematic because it can teach the models to predict negative arrivals, which are impossible observations. We can see that 16% of our imputed data is negative."
   ]
  },
  {
   "cell_type": "code",
   "execution_count": 22,
   "metadata": {},
   "outputs": [
    {
     "name": "stdout",
     "output_type": "stream",
     "text": [
      "percent of imputed arrival data that is negative: 16.29023429779082\n"
     ]
    }
   ],
   "source": [
    "def count_negative(values):\n",
    "    count = 0\n",
    "    for value in values:\n",
    "        if value < 0:\n",
    "            count += 1\n",
    "    return count\n",
    "\n",
    "print(f\"percent of imputed arrival data that is negative: {count_negative(df_impute['Arrivals'])/ len(y_train['Arrivals']) * 100}\")"
   ]
  },
  {
   "cell_type": "markdown",
   "metadata": {},
   "source": [
    "### Data and Model Visualizations\n",
    "We created the following visualizations of our data and our best model's (Decision Tree trained on `df_dropna_t9) predictions. The following plot shows how the number of refugee arrivals changes over time."
   ]
  },
  {
   "cell_type": "code",
   "execution_count": 23,
   "metadata": {},
   "outputs": [
    {
     "data": {
      "text/plain": [
       "<matplotlib.legend.Legend at 0x28bb151f0>"
      ]
     },
     "execution_count": 23,
     "metadata": {},
     "output_type": "execute_result"
    },
    {
     "data": {
      "image/png": "[encoded data removed]",
      "text/plain": [
       "<Figure size 1800x600 with 1 Axes>"
      ]
     },
     "metadata": {},
     "output_type": "display_data"
    }
   ],
   "source": [
    "import matplotlib.pyplot as plt\n",
    "counts = (df.groupby(['Year', 'Month'])['Arrivals'].sum().reset_index()).copy()\n",
    "# Set figure size\n",
    "plt.figure(figsize=(18, 6))\n",
    "\n",
    "# Combine year and month to create a new column for x-axis\n",
    "counts['Year-Month'] = counts['Year'].astype(str) + '/' + counts['Month'].astype(str)\n",
    "counts = counts.sort_values(by=['Year-Month', 'Arrivals'], ascending=[True, True])\n",
    "\n",
    "months = ['Jan', 'Feb', 'Mar', 'Apr', 'May', 'Jun', 'Jul', 'Aug', 'Sep', 'Oct', 'Nov', 'Dec']\n",
    "for i in range(len(counts['Year-Month'])):\n",
    "    update = counts['Year-Month'][i]\n",
    "    updateSlice = update[-1]\n",
    "    updateMonth =  months[int(updateSlice)]\n",
    "    counts['Year-Month'][i] = counts['Year-Month'][i][0:4] + '/' + updateMonth\n",
    "\n",
    "# Set x-axis ticks and labels\n",
    "x_ticks = counts['Year-Month'].unique()\n",
    "x_labels = counts['Month'].unique()\n",
    "\n",
    "# Loop through each year and plot the number of orders as bars\n",
    "for year in counts['Year'].unique():\n",
    "    year_data = counts[counts['Year'] == year]\n",
    "    plt.bar(year_data['Year-Month'], year_data['Arrivals'], label=str(year), alpha=0.7)\n",
    "\n",
    "# Set x-axis ticks and labels\n",
    "plt.xticks(ticks=range(len(x_ticks)))\n",
    "\n",
    "# Rotate x-axis labels for better readability\n",
    "plt.xticks(rotation=90, ha='right')\n",
    "\n",
    "# Add labels and title\n",
    "plt.xlabel('Month')\n",
    "plt.ylabel('Number of Arrivals')\n",
    "plt.title('Number of Arrivals by Month Over Time')\n",
    "plt.legend(title='Year')"
   ]
  },
  {
   "cell_type": "markdown",
   "metadata": {},
   "source": [
    "We see that many of the arrivals occur in the summer months and that these arrival numbers are significantly larger than in the winter months. This trend seems to hold before and after the COVID-19 pandemic. We also see that there are more arrivals starting from 2017 onwards, this might be due to better data collection, but it is hard to know for sure.\n",
    "\n",
    "We can also visualize how our model does in predicting arrivals. First, we build our best model and calculate the differences between its predictions and the true vales."
   ]
  },
  {
   "cell_type": "code",
   "execution_count": 24,
   "metadata": {},
   "outputs": [],
   "source": [
    "# build our best model\n",
    "train, test = train_test_split(df_dropna_t9, test_size=0.2)\n",
    "X_train = train.drop(['Arrivals'], axis=1)\n",
    "y_train = train[['Arrivals']]\n",
    "X_test = test.drop(['Arrivals'], axis=1)\n",
    "y_test = test[['Arrivals']]\n",
    "\n",
    "DT = DecisionTreeRegressor()\n",
    "DT.fit(X_train, y_train)\n",
    "\n",
    "preds = DT.predict((X_test))\n",
    "y_true = y_test.values.flatten()\n",
    "diffs = preds - y_true"
   ]
  },
  {
   "cell_type": "markdown",
   "metadata": {},
   "source": [
    "When we plot a histogram of the differences between our best models predictions and the true values, we can see that the model makes very few significantly wrong predictions (a prediction off by 10 or more people). The plot is on a logarithmic x-axis, to show the number of mispredictions within one order of magnitude. Only mispredictions of 10 people or more are plotted. This supports our hypothesis that the large RMSE is coming from only a few predictions that are very wrong."
   ]
  },
  {
   "cell_type": "code",
   "execution_count": 25,
   "metadata": {},
   "outputs": [
    {
     "data": {
      "image/png": "[encoded data removed]",
      "text/plain": [
       "<Figure size 640x480 with 1 Axes>"
      ]
     },
     "metadata": {},
     "output_type": "display_data"
    }
   ],
   "source": [
    "# plot only the differences greater than 100\n",
    "\n",
    "bins = [10, 100, 1000, 10000, 100000]\n",
    "plt.hist(diffs, bins=bins, edgecolor='black')\n",
    "plt.xscale('log')\n",
    "\n",
    "# Add labels and title\n",
    "plt.xlabel('Difference')\n",
    "plt.ylabel('Frequency')\n",
    "plt.title('Histogram of Differences')\n",
    "\n",
    "plt.show()"
   ]
  },
  {
   "cell_type": "markdown",
   "metadata": {},
   "source": [
    "Finally, we can calculate the percent of of the time that the model made a perfect prediction, i.e. predicted the exact number of arrivals. We can see that 98% of the time, the model correctly predicted the exact number of arrivals, further supporting the hypothesis the model is very accurate and the large RMSE comes from a few bad predictions that were very off."
   ]
  },
  {
   "cell_type": "code",
   "execution_count": 26,
   "metadata": {},
   "outputs": [
    {
     "name": "stdout",
     "output_type": "stream",
     "text": [
      "percent of perfect predictions: 0.9805450474793485\n"
     ]
    }
   ],
   "source": [
    "print(f'percent of perfect predictions: {(np.count_nonzero(diffs == 0) / len(diffs))}')"
   ]
  },
  {
   "cell_type": "markdown",
   "metadata": {},
   "source": [
    "# Conclusion\n",
    "\n",
    "After testing each model on each dataset, we found the following models scored the highest for each metric:\n",
    "\n",
    "<table>\n",
    "<thead>\n",
    "<tr>\n",
    "<th align=\"center\">Metric</th>\n",
    "<th align=\"center\">Model</th>\n",
    "<th align=\"center\">Value</th>\n",
    "</tr>\n",
    "</thead>\n",
    "<tbody>\n",
    "<tr>\n",
    "<td align=\"left\">R<sup>2</sup></td>\n",
    "<td align=\"left\">Random Forest on `df_impute`</td>\n",
    "<td align=\"left\">0.965</td>\n",
    "</tr>\n",
    "<tr>\n",
    "<td align=\"left\">RMSE</td>\n",
    "<td align=\"left\">Random Forest on `df_impute`</td>\n",
    "<td align=\"left\">784.980</td>\n",
    "</tr>\n",
    "<tr>\n",
    "<td align=\"left\">Classification</td>\n",
    "<td align=\"left\">Decision Tree on `df_dropna`</td>\n",
    "<td align=\"left\">1.0</td>\n",
    "</tr>\n",
    "</tbody>\n",
    "</table>\n",
    "\n",
    "However, given that `df_impute` contains negative values, which are impossible in the real scenario, and `df_dropna` has only 230 training rows, making the possibility of overfitting high, we believe that neither of these models would give helpful predictions. Instead, we think that a Decision Tree trained on `df_dropna_t9` would be the most useful in a real world scenario, as it would not predict negative values, is sufficiently large that overfitting is less of a worry, and still scores high. This models scores are given below:\n",
    "\n",
    "<table>\n",
    "<thead>\n",
    "<tr>\n",
    "<th align=\"center\">Metric</th>\n",
    "<th align=\"center\">Best Model</th>\n",
    "<th align=\"center\">Value</th>\n",
    "</tr>\n",
    "</thead>\n",
    "<tbody>\n",
    "<tr>\n",
    "<td align=\"left\">R<sup>2</sup></td>\n",
    "<td align=\"left\">Decision Tree on `df_dropna_t9`</td>\n",
    "<td align=\"left\">0.946</td>\n",
    "</tr>\n",
    "<tr>\n",
    "<td align=\"left\">RMSE</td>\n",
    "<td align=\"left\">Decision Tree on `df_dropna_t9`</td>\n",
    "<td align=\"left\">1360.971</td>\n",
    "</tr>\n",
    "<tr>\n",
    "<td align=\"left\">Classification</td>\n",
    "<td align=\"left\">Decision Tree on `df_dropna_t9`</td>\n",
    "<td align=\"left\">0.994</td>\n",
    "</tr>\n",
    "</tbody>\n",
    "</table>\n",
    "\n",
    "Our best model performs exceptionally well on the vast majority of predictions, perfectly predicting the exact number of arrivals 98% of the time. That said, it performs very poorly when trying to predict these large outliers, which is reflected in the high RMSE. If these observations are anomalies in the dataset that we would not reasonably expect to correctly predict given the data available, in other words, caused by some external factor not present in the data (such as a government ordering the evacuation of an area), then this error is not a huge issue. If, on the other hand, these observations are largely explained by the data we have available, then we would want to do better at predicting them. One way we could do this is to try to incentivize our model to be less conservative and make larger predictions. Without knowing more about these specific observations, it is hard to say which is the best course of action."
   ]
  },
  {
   "cell_type": "markdown",
   "metadata": {},
   "source": [
    "## Group Contributions\n",
    "### Mihir\n",
    "I worked on some of the data collection, finding the specific datasets that we would use as well as working on finding ways to scrape and combine the CSVs. However, I primarily spent my time working on the models. This meant finding ways to process our data so that it was usable on logistic regression as well as working on encoding and imputing the data. Jamie and I built the functions to build, train, and evaluate our models in a file called models.py. Here, we had to address multiple issues including figuring out why our score values were so low and deciding what methods of evaluating for accuracy we would use. Do overcome these challenges, we looked out the outliers in our data and found a plausible explanation and created our own evaluation function. I also wrote the code to visualize the number of arrivals and the code to understand the disadvantages of imputing the data. Finally, all three of us worked on the presentation and I mainly wrote the abstract and approach section while working with Jamie on the results section.\n",
    "\n",
    "### Jamie\n",
    "I helped build the web scraper and data aggregator functions in the source code. I helped write some of the code that built and evaluated the models in the blog post as well as visualized the models predictions. I helped write the Values Statement and Introduction, as well as parts of the results and conclusion.\n",
    "\n",
    "### Jake\n",
    "I helped build a web scraper for market data. When we started building the models, I helped work on the ideal way to clean up the data, including imputing and removing NAs. I helped build and expand a few of the early models and expand on Jamie's original neural network. I helped with the presentation and for our blog, I wrote our results section and our conclusion, drawing upon the data we found."
   ]
  }
 ],
 "metadata": {
  "kernelspec": {
   "display_name": "Python 3",
   "language": "python",
   "name": "python3"
  },
  "language_info": {
   "codemirror_mode": {
    "name": "ipython",
    "version": 3
   },
   "file_extension": ".py",
   "mimetype": "text/x-python",
   "name": "python",
   "nbconvert_exporter": "python",
   "pygments_lexer": "ipython3",
   "version": "3.9.18"
  }
 },
 "nbformat": 4,
 "nbformat_minor": 2
}
