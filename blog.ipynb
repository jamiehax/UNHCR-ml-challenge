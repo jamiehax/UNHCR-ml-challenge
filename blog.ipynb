{
 "cells": [
  {
   "cell_type": "markdown",
   "metadata": {},
   "source": [
    "# CSCI451 Project: UNHCR ML Challenge\n",
    "Jamie Hackney, Mihir Singh, Jake Gilbert"
   ]
  },
  {
   "cell_type": "code",
   "execution_count": 26,
   "metadata": {},
   "outputs": [
    {
     "name": "stderr",
     "output_type": "stream",
     "text": [
      "/var/folders/fv/_v7myjl904983sbb39qbkzw40000gn/T/ipykernel_79068/387164376.py:21: DtypeWarning: Columns (17,23) have mixed types. Specify dtype option on import or set low_memory=False.\n",
      "  df = pd.read_csv('/Users/mihirsingh/Documents/Middlebury/CSCI451/UNHCR-ml-challenge/data/combined_data.csv')\n"
     ]
    },
    {
     "data": {
      "text/plain": [
       "<bound method NDFrame.head of        Unnamed: 0  Region  District   CDI  Month  Year   NDVI Rainfall  \\\n",
       "0               0       0        13  1.05      4  2018  0.168    4.342   \n",
       "1               1       0         5  0.62      4  2018  0.132    6.065   \n",
       "2               2       0        53  0.63      4  2018  0.047    7.915   \n",
       "3               3       0        73   1.1      4  2018  0.052    8.121   \n",
       "4               4      17        41  0.78      4  2018    0.0    2.247   \n",
       "...           ...     ...       ...   ...    ...   ...    ...      ...   \n",
       "328851     328851      10        63  1.15      2  2014  0.179    2.117   \n",
       "328852     328852       8        49  1.15      2  2014  0.179    2.117   \n",
       "328853     328853       8         2  1.15      2  2014  0.179    2.117   \n",
       "328854     328854       8         4  1.15      2  2014  0.179    2.117   \n",
       "328855     328855       8        45  1.15      2  2014  0.179    2.117   \n",
       "\n",
       "       Water Price Conflict Fatalities  ... Cost Min Basket Goat Price  \\\n",
       "0           4000.0                 0.0  ...     1,090,175.0    297,750   \n",
       "1          30000.0                 0.0  ...             0.0    850,000   \n",
       "2          30000.0                 0.0  ...             0.0    300,000   \n",
       "3           6000.0                 0.0  ...     1,160,475.0    410,000   \n",
       "4          11000.0                 0.0  ...     1,366,665.0    460,000   \n",
       "...            ...                 ...  ...             ...        ...   \n",
       "328851     30000.0                 0.0  ...     2,382,650.0    670,000   \n",
       "328852     30000.0                 0.0  ...     2,420,900.0    921,000   \n",
       "328853     30000.0                 0.0  ...     2,281,766.7    786,800   \n",
       "328854     30000.0                 0.0  ...             0.0    850,000   \n",
       "328855     30000.0                 0.0  ...     2,220,950.0    823,000   \n",
       "\n",
       "       Goat to Cereal Maize Price Rice Price Sorghum Price Wage Price  \\\n",
       "0                57.0       4,000      5,200         3,200     57,400   \n",
       "1                63.0      10,000     16,000         8,000    100,000   \n",
       "2                50.0      10,000      7,000         6,000     90,000   \n",
       "3                59.0       6,000      7,000         5,500    100,000   \n",
       "4                92.0       6,000      5,000         5,000     70,000   \n",
       "...               ...         ...        ...           ...        ...   \n",
       "328851           85.0       7,900     16,000         8,000     79,250   \n",
       "328852          132.0       7,000     14,000         8,000    120,000   \n",
       "328853           66.0      12,000     16,000         9,000     80,000   \n",
       "328854           63.0      10,000     16,000         8,000    100,000   \n",
       "328855          125.0       6,600     15,800         8,000     73,400   \n",
       "\n",
       "       Wage to Cereal Departures Arrivals  \n",
       "0                11.0        6.0    199.0  \n",
       "1                 7.0       24.0     69.0  \n",
       "2                15.0      253.0     24.0  \n",
       "3                14.0       24.0     68.0  \n",
       "4                14.0      400.0    663.0  \n",
       "...               ...        ...      ...  \n",
       "328851           10.0       24.0      6.0  \n",
       "328852           17.0       24.0      6.0  \n",
       "328853            7.0       24.0      6.0  \n",
       "328854            7.0       24.0      6.0  \n",
       "328855           11.0       24.0      6.0  \n",
       "\n",
       "[328856 rows x 25 columns]>"
      ]
     },
     "execution_count": 26,
     "metadata": {},
     "output_type": "execute_result"
    }
   ],
   "source": [
    "# imports\n",
    "import pandas as pd\n",
    "import numpy as np\n",
    "\n",
    "# imports for models\n",
    "from sklearn.linear_model import LinearRegression\n",
    "from sklearn import tree \n",
    "from sklearn.svm import SVC\n",
    "from sklearn.neural_network import MLPClassifier\n",
    "from sklearn.impute import SimpleImputer\n",
    "from sklearn.preprocessing import LabelEncoder\n",
    "from sklearn.model_selection import train_test_split\n",
    "\n",
    "# create models\n",
    "LR = LinearRegression()\n",
    "Svc = SVC()\n",
    "Tree = tree.DecisionTreeClassifier()\n",
    "NN = MLPClassifier()\n",
    "\n",
    "# load the data\n",
    "df = pd.read_csv('/Users/mihirsingh/Documents/Middlebury/CSCI451/UNHCR-ml-challenge/data/combined_data.csv')\n",
    "\n",
    "# impute data\n",
    "imp = SimpleImputer(missing_values=np.nan, strategy='most_frequent')\n",
    "array_imp = imp.fit_transform(df)\n",
    "df_imp = pd.DataFrame(array_imp, columns=df.columns)\n",
    "\n",
    "# encode data that is not numerical\n",
    "encoder = LabelEncoder()\n",
    "encoder.fit(df_imp['Region'])\n",
    "df_imp['Region'] = encoder.transform(df_imp['Region'])\n",
    "encoder.fit(df_imp['District'])\n",
    "df_imp['District'] = encoder.transform(df_imp['District'])\n",
    "encoder.fit(df_imp['Month'])\n",
    "df_imp['Month'] = encoder.transform(df_imp['Month'])\n",
    "\n",
    "df_imp.head"
   ]
  },
  {
   "cell_type": "code",
   "execution_count": 32,
   "metadata": {},
   "outputs": [
    {
     "ename": "ValueError",
     "evalue": "The truth value of a Series is ambiguous. Use a.empty, a.bool(), a.item(), a.any() or a.all().",
     "output_type": "error",
     "traceback": [
      "\u001b[0;31m---------------------------------------------------------------------------\u001b[0m",
      "\u001b[0;31mValueError\u001b[0m                                Traceback (most recent call last)",
      "\u001b[0;32m/var/folders/fv/_v7myjl904983sbb39qbkzw40000gn/T/ipykernel_79068/4217111969.py\u001b[0m in \u001b[0;36m?\u001b[0;34m()\u001b[0m\n\u001b[1;32m      9\u001b[0m \u001b[0;31m# turn string numbers into floats\u001b[0m\u001b[0;34m\u001b[0m\u001b[0;34m\u001b[0m\u001b[0m\n\u001b[1;32m     10\u001b[0m features = ['CDI','Month','Year','NDVI','Rainfall','Water Price',\n\u001b[0;32m---> 11\u001b[0;31m             \u001b[0;34m'Conflict Fatalities'\u001b[0m\u001b[0;34m,\u001b[0m\u001b[0;34m'Conflict Incidents'\u001b[0m\u001b[0;34m,\u001b[0m\u001b[0;34m'Cholera Deaths'\u001b[0m\u001b[0;34m,\u001b[0m\u001b[0;34m\u001b[0m\u001b[0;34m\u001b[0m\u001b[0m\n\u001b[0m\u001b[1;32m     12\u001b[0m             \u001b[0;34m'Cholera Cases'\u001b[0m\u001b[0;34m,\u001b[0m\u001b[0;34m'Malaria'\u001b[0m\u001b[0;34m,\u001b[0m\u001b[0;34m'Measles'\u001b[0m\u001b[0;34m,\u001b[0m\u001b[0;34m'Cost Min Basket'\u001b[0m\u001b[0;34m,\u001b[0m\u001b[0;34m\u001b[0m\u001b[0;34m\u001b[0m\u001b[0m\n\u001b[1;32m     13\u001b[0m             \u001b[0;34m'Goat Price'\u001b[0m\u001b[0;34m,\u001b[0m\u001b[0;34m'Goat to Cereal'\u001b[0m\u001b[0;34m,\u001b[0m\u001b[0;34m'Maize Price'\u001b[0m\u001b[0;34m,\u001b[0m\u001b[0;34m'Rice Price'\u001b[0m\u001b[0;34m,\u001b[0m\u001b[0;34m\u001b[0m\u001b[0;34m\u001b[0m\u001b[0m\n\u001b[1;32m     14\u001b[0m             'Sorghum Price','Wage Price','Wage to Cereal']\n",
      "\u001b[0;32m~/anaconda3/envs/ml-0451/lib/python3.9/site-packages/pandas/core/generic.py\u001b[0m in \u001b[0;36m?\u001b[0;34m(self)\u001b[0m\n\u001b[1;32m   1517\u001b[0m     \u001b[0;34m@\u001b[0m\u001b[0mfinal\u001b[0m\u001b[0;34m\u001b[0m\u001b[0;34m\u001b[0m\u001b[0m\n\u001b[1;32m   1518\u001b[0m     \u001b[0;32mdef\u001b[0m \u001b[0m__nonzero__\u001b[0m\u001b[0;34m(\u001b[0m\u001b[0mself\u001b[0m\u001b[0;34m)\u001b[0m \u001b[0;34m->\u001b[0m \u001b[0mNoReturn\u001b[0m\u001b[0;34m:\u001b[0m\u001b[0;34m\u001b[0m\u001b[0;34m\u001b[0m\u001b[0m\n\u001b[0;32m-> 1519\u001b[0;31m         raise ValueError(\n\u001b[0m\u001b[1;32m   1520\u001b[0m             \u001b[0;34mf\"The truth value of a {type(self).__name__} is ambiguous. \"\u001b[0m\u001b[0;34m\u001b[0m\u001b[0;34m\u001b[0m\u001b[0m\n\u001b[1;32m   1521\u001b[0m             \u001b[0;34m\"Use a.empty, a.bool(), a.item(), a.any() or a.all().\"\u001b[0m\u001b[0;34m\u001b[0m\u001b[0;34m\u001b[0m\u001b[0m\n\u001b[1;32m   1522\u001b[0m         )\n",
      "\u001b[0;31mValueError\u001b[0m: The truth value of a Series is ambiguous. Use a.empty, a.bool(), a.item(), a.any() or a.all()."
     ]
    }
   ],
   "source": [
    "\n",
    "# turn string numbers into floats\n",
    "features = ['CDI','Month','Year','NDVI','Rainfall','Water Price',\n",
    "            'Conflict Fatalities','Conflict Incidents','Cholera Deaths',\n",
    "            'Cholera Cases','Malaria','Measles','Cost Min Basket',\n",
    "            'Goat Price','Goat to Cereal','Maize Price','Rice Price',\n",
    "            'Sorghum Price','Wage Price','Wage to Cereal']\n",
    "\n",
    "\n",
    "for feature in features:\n",
    "    # print(df_imp[feature].iloc[0])\n",
    "    if(df[feature].apply(lambda x: isinstance(x, str)).any()):   \n",
    "        print(feature)\n",
    "        df_imp[feature] = df_imp[feature].str.replace(',', '')\n",
    "        df_imp[feature] = df_imp[feature].astype(float)\n",
    "        #print(feature == 'Goat to Cereal')\n",
    "        if(feature == 'Goat to Cereal'):\n",
    "            print(\"here\")\n",
    "            print(df_imp[feature][155233])\n",
    "\n",
    "# departures is also weirdly a string and has commas so we need to fix that\n",
    "df_imp['Departures'] = df_imp['Departures'].str.replace(',', '')\n",
    "df_imp['Departures'] = df_imp['Departures'].astype(float)\n",
    "\n",
    "# create target column\n",
    "df_imp['movement_score'] = df_imp['Arrivals'] - df_imp['Departures']\n",
    "\n",
    "# split data into training and testing data\n",
    "X_train, X_test, y_train, y_test = train_test_split(df_imp, df_imp['movement_score'], test_size=0.25)\n",
    "\n"
   ]
  },
  {
   "cell_type": "markdown",
   "metadata": {},
   "source": [
    "With the data processed, we can now build some models."
   ]
  },
  {
   "cell_type": "code",
   "execution_count": 21,
   "metadata": {},
   "outputs": [
    {
     "name": "stdout",
     "output_type": "stream",
     "text": [
      "Locations (row index and column name) of the value:\n",
      "(155233, 'Goat to Cereal')\n"
     ]
    }
   ],
   "source": [
    "# fitting models\n",
    "#LR.fit(X_train, y_train)\n",
    "# Svc.fit(X_train, y_train)\n",
    "# Tree.fit(X_train, y_train)\n",
    "# NN.fit(X_train, y_train)\n",
    "\n",
    "# predictions\n",
    "indices = np.where(df_imp == \"1,124\")\n",
    "locations = list(zip(indices[0],df_imp.columns[indices[1]]))\n",
    "print(\"Locations (row index and column name) of the value:\")\n",
    "for location in locations:\n",
    "    print(location)\n",
    "# LR_pred = LR.predict(X_test)\n"
   ]
  }
 ],
 "metadata": {
  "kernelspec": {
   "display_name": "Python 3",
   "language": "python",
   "name": "python3"
  },
  "language_info": {
   "codemirror_mode": {
    "name": "ipython",
    "version": 3
   },
   "file_extension": ".py",
   "mimetype": "text/x-python",
   "name": "python",
   "nbconvert_exporter": "python",
   "pygments_lexer": "ipython3",
   "version": "3.9.18"
  }
 },
 "nbformat": 4,
 "nbformat_minor": 2
}
