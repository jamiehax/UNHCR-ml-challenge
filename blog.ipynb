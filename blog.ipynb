{
 "cells": [
  {
   "cell_type": "markdown",
   "metadata": {},
   "source": [
    "# CSCI451 Project: UNHCR ML Challenge\n",
    "Jamie Hackney, Mihir Singh, Jake Gilbert"
   ]
  },
  {
   "cell_type": "code",
   "execution_count": 44,
   "metadata": {},
   "outputs": [
    {
     "name": "stderr",
     "output_type": "stream",
     "text": [
      "/var/folders/rf/hmt47tp17pl4jqh6zddf3vnh0000gn/T/ipykernel_56936/2429708286.py:24: DtypeWarning: Columns (17,23) have mixed types. Specify dtype option on import or set low_memory=False.\n",
      "  df = pd.read_csv('data/combined_data.csv')\n"
     ]
    }
   ],
   "source": [
    "# imports\n",
    "import numpy as np\n",
    "import pandas as pd\n",
    "# imports for models\n",
    "from sklearn.linear_model import LinearRegression\n",
    "from sklearn import tree \n",
    "from sklearn.svm import SVC\n",
    "from sklearn.neural_network import MLPClassifier\n",
    "from sklearn.impute import SimpleImputer\n",
    "from sklearn.preprocessing import LabelEncoder\n",
    "from sklearn.model_selection import train_test_split\n",
    "from sklearn.metrics import mean_squared_error\n",
    "from sklearn.experimental import enable_iterative_imputer  # noqa\n",
    "from sklearn.impute import IterativeImputer\n",
    "from sklearn.metrics import r2_score\n",
    "\n",
    "# create models\n",
    "LR = LinearRegression()\n",
    "Svc = SVC()\n",
    "Tree = tree.DecisionTreeClassifier()\n",
    "NN = MLPClassifier()\n",
    "\n",
    "# load the data\n",
    "df = pd.read_csv('data/combined_data.csv')\n",
    "df_imp = df.copy()\n",
    "\n",
    "# encode data that is not numerical\n",
    "encoder = LabelEncoder()\n",
    "encoder.fit(df_imp['Region'])\n",
    "df_imp['Region'] = encoder.transform(df_imp['Region'])\n",
    "encoder.fit(df_imp['District'])\n",
    "df_imp['District'] = encoder.transform(df_imp['District'])\n",
    "encoder.fit(df_imp['Month'])\n",
    "df_imp['Month'] = encoder.transform(df_imp['Month'])\n",
    "\n",
    "# turn string numbers into floats\n",
    "features = ['CDI','Month','Year','NDVI','Rainfall','Water Price',\n",
    "            'Conflict Fatalities','Conflict Incidents','Cholera Deaths',\n",
    "            'Cholera Cases','Malaria','Measles','Cost Min Basket',\n",
    "            'Goat Price','Goat to Cereal','Maize Price','Rice Price',\n",
    "            'Sorghum Price','Wage Price','Wage to Cereal', 'Departures','Arrivals']\n",
    "\n",
    "for feature in features:\n",
    "    df_imp[feature] = df_imp[feature].apply(lambda x: x.replace(',', '') if isinstance(x, str) else x)\n",
    "\n",
    "\n",
    "df_new = df_imp.copy()\n"
   ]
  },
  {
   "cell_type": "code",
   "execution_count": 46,
   "metadata": {},
   "outputs": [
    {
     "data": {
      "text/plain": [
       "CDI                      3992\n",
       "Month                       0\n",
       "Year                        0\n",
       "NDVI                     2951\n",
       "Rainfall                   75\n",
       "Water Price            138636\n",
       "Conflict Fatalities    155030\n",
       "Conflict Incidents     155030\n",
       "Cholera Deaths         326472\n",
       "Cholera Cases          238536\n",
       "Malaria                187613\n",
       "Measles                197325\n",
       "Cost Min Basket        146660\n",
       "Goat Price              82937\n",
       "Goat to Cereal         107508\n",
       "Maize Price            149816\n",
       "Rice Price              81109\n",
       "Sorghum Price          144088\n",
       "Wage Price              82700\n",
       "Wage to Cereal         107266\n",
       "Departures              88573\n",
       "Arrivals               137440\n",
       "dtype: int64"
      ]
     },
     "execution_count": 46,
     "metadata": {},
     "output_type": "execute_result"
    }
   ],
   "source": [
    "df_new[features].isna().sum()\n"
   ]
  },
  {
   "cell_type": "markdown",
   "metadata": {},
   "source": [
    "Based on the amount of data marked NaN, we need to impute our data"
   ]
  },
  {
   "cell_type": "code",
   "execution_count": null,
   "metadata": {},
   "outputs": [],
   "source": [
    "# impute data\n",
    "# imp = SimpleImputer(missing_values=np.nan, strategy='median')\n",
    "# array_imp = imp.fit_transform(df_imp)\n",
    "# df_imp = pd.DataFrame(array_imp, columns=df.columns)\n",
    "\n",
    "imp = IterativeImputer(max_iter=10, random_state=0)\n",
    "array_imp = imp.fit_transform(df_imp)\n",
    "df_imp = pd.DataFrame(array_imp, columns=df.columns)   \n",
    "\n",
    "df_imp.head()"
   ]
  },
  {
   "cell_type": "code",
   "execution_count": 116,
   "metadata": {},
   "outputs": [
    {
     "data": {
      "text/html": [
       "<div>\n",
       "<style scoped>\n",
       "    .dataframe tbody tr th:only-of-type {\n",
       "        vertical-align: middle;\n",
       "    }\n",
       "\n",
       "    .dataframe tbody tr th {\n",
       "        vertical-align: top;\n",
       "    }\n",
       "\n",
       "    .dataframe thead th {\n",
       "        text-align: right;\n",
       "    }\n",
       "</style>\n",
       "<table border=\"1\" class=\"dataframe\">\n",
       "  <thead>\n",
       "    <tr style=\"text-align: right;\">\n",
       "      <th></th>\n",
       "      <th>Goat Price</th>\n",
       "      <th>Water Price</th>\n",
       "      <th>Rainfall</th>\n",
       "      <th>Arrivals</th>\n",
       "    </tr>\n",
       "  </thead>\n",
       "  <tbody>\n",
       "    <tr>\n",
       "      <th>0</th>\n",
       "      <td>297750</td>\n",
       "      <td>4000.0</td>\n",
       "      <td>4.342</td>\n",
       "      <td>199.0</td>\n",
       "    </tr>\n",
       "    <tr>\n",
       "      <th>3</th>\n",
       "      <td>410000</td>\n",
       "      <td>6000.0</td>\n",
       "      <td>8.121</td>\n",
       "      <td>68.0</td>\n",
       "    </tr>\n",
       "    <tr>\n",
       "      <th>4</th>\n",
       "      <td>460000</td>\n",
       "      <td>11000.0</td>\n",
       "      <td>2.247</td>\n",
       "      <td>663.0</td>\n",
       "    </tr>\n",
       "    <tr>\n",
       "      <th>6</th>\n",
       "      <td>378600</td>\n",
       "      <td>13000.0</td>\n",
       "      <td>2.106</td>\n",
       "      <td>110.0</td>\n",
       "    </tr>\n",
       "    <tr>\n",
       "      <th>7</th>\n",
       "      <td>450000</td>\n",
       "      <td>10000.0</td>\n",
       "      <td>2.120</td>\n",
       "      <td>816.0</td>\n",
       "    </tr>\n",
       "    <tr>\n",
       "      <th>...</th>\n",
       "      <td>...</td>\n",
       "      <td>...</td>\n",
       "      <td>...</td>\n",
       "      <td>...</td>\n",
       "    </tr>\n",
       "    <tr>\n",
       "      <th>328777</th>\n",
       "      <td>914000</td>\n",
       "      <td>10000.0</td>\n",
       "      <td>61.321</td>\n",
       "      <td>82.0</td>\n",
       "    </tr>\n",
       "    <tr>\n",
       "      <th>328778</th>\n",
       "      <td>914000</td>\n",
       "      <td>10000.0</td>\n",
       "      <td>61.321</td>\n",
       "      <td>82.0</td>\n",
       "    </tr>\n",
       "    <tr>\n",
       "      <th>328779</th>\n",
       "      <td>914000</td>\n",
       "      <td>10000.0</td>\n",
       "      <td>61.321</td>\n",
       "      <td>82.0</td>\n",
       "    </tr>\n",
       "    <tr>\n",
       "      <th>328780</th>\n",
       "      <td>914000</td>\n",
       "      <td>10000.0</td>\n",
       "      <td>61.321</td>\n",
       "      <td>82.0</td>\n",
       "    </tr>\n",
       "    <tr>\n",
       "      <th>328781</th>\n",
       "      <td>914000</td>\n",
       "      <td>10000.0</td>\n",
       "      <td>61.321</td>\n",
       "      <td>82.0</td>\n",
       "    </tr>\n",
       "  </tbody>\n",
       "</table>\n",
       "<p>117783 rows × 4 columns</p>\n",
       "</div>"
      ],
      "text/plain": [
       "       Goat Price  Water Price  Rainfall  Arrivals\n",
       "0          297750       4000.0     4.342     199.0\n",
       "3          410000       6000.0     8.121      68.0\n",
       "4          460000      11000.0     2.247     663.0\n",
       "6          378600      13000.0     2.106     110.0\n",
       "7          450000      10000.0     2.120     816.0\n",
       "...           ...          ...       ...       ...\n",
       "328777     914000      10000.0    61.321      82.0\n",
       "328778     914000      10000.0    61.321      82.0\n",
       "328779     914000      10000.0    61.321      82.0\n",
       "328780     914000      10000.0    61.321      82.0\n",
       "328781     914000      10000.0    61.321      82.0\n",
       "\n",
       "[117783 rows x 4 columns]"
      ]
     },
     "execution_count": 116,
     "metadata": {},
     "output_type": "execute_result"
    }
   ],
   "source": [
    "important_features_arrivals = [\"Conflict Fatalities\", \"Conflict Incidents\", \"Goat Price\", \"Water Price\", \"Rainfall\", \"Arrivals\"]\n",
    "important_features = [\"Conflict Fatalities\", \"Conflict Incidents\", \"Goat Price\", \"Water Price\", \"Rainfall\"]\n",
    "\n",
    "df_new_dropped = df_new[important_features_arrivals].dropna()\n",
    "df_new_dropped"
   ]
  },
  {
   "cell_type": "code",
   "execution_count": 117,
   "metadata": {},
   "outputs": [
    {
     "data": {
      "text/html": [
       "<div>\n",
       "<style scoped>\n",
       "    .dataframe tbody tr th:only-of-type {\n",
       "        vertical-align: middle;\n",
       "    }\n",
       "\n",
       "    .dataframe tbody tr th {\n",
       "        vertical-align: top;\n",
       "    }\n",
       "\n",
       "    .dataframe thead th {\n",
       "        text-align: right;\n",
       "    }\n",
       "</style>\n",
       "<table border=\"1\" class=\"dataframe\">\n",
       "  <thead>\n",
       "    <tr style=\"text-align: right;\">\n",
       "      <th></th>\n",
       "      <th>Goat Price</th>\n",
       "      <th>Water Price</th>\n",
       "      <th>Rainfall</th>\n",
       "    </tr>\n",
       "  </thead>\n",
       "  <tbody>\n",
       "    <tr>\n",
       "      <th>272914</th>\n",
       "      <td>402500</td>\n",
       "      <td>10000.0</td>\n",
       "      <td>12.982</td>\n",
       "    </tr>\n",
       "    <tr>\n",
       "      <th>126632</th>\n",
       "      <td>932500</td>\n",
       "      <td>16000.0</td>\n",
       "      <td>5.634</td>\n",
       "    </tr>\n",
       "    <tr>\n",
       "      <th>29948</th>\n",
       "      <td>1475000</td>\n",
       "      <td>15000.0</td>\n",
       "      <td>6.264</td>\n",
       "    </tr>\n",
       "    <tr>\n",
       "      <th>53612</th>\n",
       "      <td>825000</td>\n",
       "      <td>50000.0</td>\n",
       "      <td>1.095</td>\n",
       "    </tr>\n",
       "    <tr>\n",
       "      <th>46032</th>\n",
       "      <td>2475000</td>\n",
       "      <td>36500.0</td>\n",
       "      <td>2.141</td>\n",
       "    </tr>\n",
       "  </tbody>\n",
       "</table>\n",
       "</div>"
      ],
      "text/plain": [
       "       Goat Price  Water Price  Rainfall\n",
       "272914     402500      10000.0    12.982\n",
       "126632     932500      16000.0     5.634\n",
       "29948     1475000      15000.0     6.264\n",
       "53612      825000      50000.0     1.095\n",
       "46032     2475000      36500.0     2.141"
      ]
     },
     "execution_count": 117,
     "metadata": {},
     "output_type": "execute_result"
    }
   ],
   "source": [
    "# split data into training and testing data\n",
    "columns = ['CDI','Month','Year','NDVI','Rainfall','Water Price',\n",
    "            'Conflict Fatalities','Conflict Incidents','Cholera Deaths',\n",
    "            'Cholera Cases','Malaria','Measles','Cost Min Basket',\n",
    "            'Goat Price','Goat to Cereal','Maize Price','Rice Price',\n",
    "            'Sorghum Price','Wage Price','Wage to Cereal']\n",
    "\n",
    "\n",
    "X_train, X_test, y_train, y_test = train_test_split(df_new_dropped[important_features], df_new_dropped['Arrivals'], test_size=0.15)\n",
    "X_train.head()\n"
   ]
  },
  {
   "cell_type": "markdown",
   "metadata": {},
   "source": [
    "With the data processed, we can now build some models."
   ]
  },
  {
   "cell_type": "code",
   "execution_count": 88,
   "metadata": {},
   "outputs": [
    {
     "data": {
      "text/plain": [
       "(232, 20)"
      ]
     },
     "execution_count": 88,
     "metadata": {},
     "output_type": "execute_result"
    }
   ],
   "source": [
    "def has_negative(values):\n",
    "    for value in values:\n",
    "        if value < 0:\n",
    "            return True\n",
    "    return False\n",
    "\n",
    "\n",
    "X_train.head()\n",
    "X_train.shape\n"
   ]
  },
  {
   "cell_type": "code",
   "execution_count": 119,
   "metadata": {},
   "outputs": [
    {
     "name": "stdout",
     "output_type": "stream",
     "text": [
      "on training data:  4798.782980616257\n"
     ]
    },
    {
     "data": {
      "text/plain": [
       "0.014225411377253194"
      ]
     },
     "execution_count": 119,
     "metadata": {},
     "output_type": "execute_result"
    }
   ],
   "source": [
    "# fitting models\n",
    "LR.fit(X_train, list(y_train))\n",
    "\n",
    "# predicting\n",
    "LR_pred = LR.predict(X_test)\n",
    "# evaluate\n",
    "print(\"on training data: \", mean_squared_error(list(y_test), LR_pred, squared=False))\n",
    "\n",
    "# caluclate R^2\n",
    "r2_score(list(y_test), LR_pred)\n",
    "\n",
    "LR.score(X_test, y_test)\n"
   ]
  },
  {
   "cell_type": "markdown",
   "metadata": {},
   "source": [
    "Studies that try to explain human behavior generally have R^2 values lower than 50%"
   ]
  }
 ],
 "metadata": {
  "kernelspec": {
   "display_name": "Python 3",
   "language": "python",
   "name": "python3"
  },
  "language_info": {
   "codemirror_mode": {
    "name": "ipython",
    "version": 3
   },
   "file_extension": ".py",
   "mimetype": "text/x-python",
   "name": "python",
   "nbconvert_exporter": "python",
   "pygments_lexer": "ipython3",
   "version": "3.9.18"
  }
 },
 "nbformat": 4,
 "nbformat_minor": 2
}
