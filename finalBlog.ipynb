{
 "cells": [
  {
   "cell_type": "markdown",
   "metadata": {},
   "source": [
    "# UNCHR - ML Challenge\n",
    "Jamie Hackney, Mihir Singh, Jake Gilbert\n",
    "\n",
    "## Abstract\n",
    "Our program addresses the humanitarian crisis in Somalia related to refugee movements and forcibly displaced people. The ability to accurately predict patterns in forcibly displaced peoples movements is crucial to the development of public policies that provide aid and resources to refugees. We focused on building a model trained on GIS data covering Somalia’s environment, economy, and stability provided by UNHCR. By looking at a variety of conditions affecting human movement, we predicted the scale of displacement experienced by people in Somalia. Data collected by the UNHCR was collected between 2015 and 2024, and it contained information on people movement, markets, health, conflicts, and climate. We developed a web scraper to scrap this data and combine it all into a single dataframe. We then chose to either impute the data or dropping NaN values before running various models some or all of the features before evaluating how accurately they could predict the severity of refugee arrivals into a specific district in Somalia. We found that our model did poorly when the challenge was tasked as a regression problem, but performed significantly better when we ran a regression and binned the data based on UN refugee magnitude categories before evaluating the accuracy of the model. We then determined that our pure regression model probably performed worse because of the presence of significant outliers in the data that ended up skewing traditional evaluation metrics for regression models like R squared or root mean squared error.\n",
    "\n",
    "## Introduction\n"
   ]
  }
 ],
 "metadata": {
  "language_info": {
   "name": "python"
  }
 },
 "nbformat": 4,
 "nbformat_minor": 2
}
