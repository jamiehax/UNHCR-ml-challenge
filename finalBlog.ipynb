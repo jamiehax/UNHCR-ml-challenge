{
 "cells": [
  {
   "cell_type": "markdown",
   "metadata": {},
   "source": [
    "# UNCHR - ML Challenge\n",
    "Jamie Hackney, Mihir Singh, Jake Gilbert\n",
    "\n",
    "## Abstract\n",
    "This project seeks to develop, implement, and evaluate various machine learning models to accurately predict the severity of refugee displacement in Somalia as part of the United Nation's Commissioner for Refugees's (UNHCR) machine learning challenge. Data used by our models' was collected by the UNHCR between 2015 and 2024 in Somalia. It contained information on people movement, markets, health, conflicts, and climate. We developed a web scraper to collect this data and combine it all into a single dataframe. We then chose to either impute the data or dropping NaN values before running various models trained on some or all of the features before evaluating how accurately they could predict the severity of refugee arrivals into a specific district in Somalia. We found that our model did poorly when the challenge was framed as a regression problem, but performed significantly better when we ran a regression and binned the data based on UN refugee magnitude categories before evaluating the accuracy of the model. We then determined that our pure regression model probably performed worse because of the presence of significant outliers in the data that ended up skewing traditional evaluation metrics for regression models like R squared or root mean squared error. Ultimately, we found that a decision tree classifier trained on all features of the data except the target feature of refugee arrivals was extremely effective at predicting the severity of displacement in specific regions in Somalia, garnering an accuracy of 99.5%.\n",
    "\n",
    "## Introduction\n",
    "Our program addresses the humanitarian crisis in Somalia related to refugee movements and forcibly displaced people. The ability to accurately predict patterns in forcibly displaced peoples movements is crucial to the development of public policies that provide aid and resources to refugees. This is not a novel problem, and in fact has been approached several times before. Suleimenova et al., Gulden et al., and Lin et al., all developed agent based models to predict population movements. Gleick investigated the relationship between water and conflict in Syria, drawing a connection between water scarcity and conflicts, which in turn can drive population movements. Finally, Finnley noted an increase in migration of women and children during the severe drought of 1983-1985. \n",
    "\n",
    "We focused on building models trained on a variety of data, including climate, conflicts, and market prices. By looking at a variety of conditions affecting human movement, we predict the movement patterns of displaced people in Somalia. The goal of this project is to effectively predict these population movements so that agencies supporting refugee populations in this area can better allocate resources to regions that are expected to receive a high number of migrants.\n",
    "\n",
    "## Values Statement\n",
    "The intended users of out project are the Somalian government and other NGO's that support refugees in the area. Howeer, ar\n",
    "\n"
   ]
  },
  {
   "cell_type": "code",
   "execution_count": 2,
   "metadata": {},
   "outputs": [],
   "source": [
    "# imports\n",
    "import pandas as pd\n",
    "import numpy as np\n",
    "from models import dropNA\n",
    "from models import impute\n",
    "from models import evaluate_LR\n",
    "from models import evaluate_DT\n",
    "from models import evaluate_RF\n",
    "from sklearn.model_selection import train_test_split\n",
    "from sklearn.tree import DecisionTreeRegressor"
   ]
  },
  {
   "cell_type": "markdown",
   "metadata": {},
   "source": [
    "We first loaded our combined csv of data into a single dataframe. We then split this into four different dataframes that we will pass to our models. \"df_dropna\" includes all the rows without a single Na or NaN in any of their columns. \"df_dropna_t9\" includes all the rows without a single Na or NaN in any of the top nine features. \"df_impute\" "
   ]
  },
  {
   "cell_type": "markdown",
   "metadata": {},
   "source": [
    "## Materials and Methods\n",
    "\n",
    "### Our Data\n",
    "Most of our data came from the Food Security and Nutrition Analysis Unit Dashboard for somalia. This is an organization within the United Nations that’s tasked with collecting the movement and movement factors for the forcibly displaced refugees in Somalia (FSNAU). Factors like nutrition, health and population movement are broken down into region, district and month. \n",
    "\n",
    "For our data, we have primarily focused on factors that force movement like goat prices, water prices, environmental factors and conflict in various regions—these are the factors that the UNHCR recommends in the official challenge. We have also focused on data between 2015 and 2023.\n",
    "\n",
    "\n",
    "### Our Approach\n",
    "Our models sought to predict the number of refugees arriving in a certain district in Somalia. We used the “Arrivals” column of our data as the target feature that any of our models predicted. For training features, we either trained our models on all other features besides the number of departures or the best nine (region, district, month, year, rainfall, number of conflict fatalities, number of conflict incidents, water price, and goat price). We chose to run models trained on these nine features because the UN found these particularly helpful when building their own machine learning models  (“UNHCR Innovation Science”). We also chose to drop the feature describing the number of departures because such data can only be collected after the fact, that is at the time the UN would seek to run this model, there would be no way of knowing the number of departures in a district for the entire month; a month must first pass for this data to become known. Finally, we had an 80-20 train-test split with 65771 rows.\n",
    "\n",
    "We trained a Linear Regression model and Decision Tree Regressor model from Sci-Kit Learn to make our predictions. These models were chosen because predicting the number of refugees arriving is a regression problem, where we want our model to give us an estimate of the number of arrivals in a district. Each model’s accuracy was then evaluated when trained on imputed data, data with NaNs dropped. We then calculated the R squared and root mean squared error for each model. We also had a classification accuracy metric where we binned the test target data into the three levels of refugee arrival severity the UN uses and determined whether or not our model’s prediction also fell within the same bins as the actual number of arrivals found in the test data.\n",
    "\n",
    "We did this process of training using the same data but with 4 total approaches and data subsets. For each model, we tested on the top 9 features (as recommended by the UNHCR challenge), and with all of the features besides departures. Additionally, for those two combinations of features, we tested with both imputed rows and rows with removed NA values. The reason for choosing both imputed and NA removal is to determine the most accurate approach in accounting for lost values. Many of the values in certain features are missing—a natural side effect of collecting widespread data over multiple years and regions—therefore, there are NA values that can render the entire row obsolete in training or testing. Given this, we can use an imputer to fill in this missing data, or remove the rows with the missing values, which greatly reduces the amount of rows available for training.\n",
    "\n",
    "These models were trained, ran, and evaluated on our own personal MacOS computers with the ML-0451 Python kernel. \n"
   ]
  },
  {
   "cell_type": "markdown",
   "metadata": {},
   "source": [
    "## Results\n",
    "We first loaded our combined csv of data into a single dataframe. We then split this into four different data frames that we will pass to our models. df_dropna includes all the rows without a single Na or NaN in any of their features. df_dropna_t9 includes all the rows without a single Na or NaN in any of the top nine features. df_impute includes all features and deals with missing values by imputing their values using SciKitLearn’s SimpleImputer. df_impute_t9 is the same, just only keeping the best nine features. Once we have created these four data frames, we can build our different models and evaluate their efficacy. \n",
    "\n",
    "We evaluate the models using three different metrics, R^2, root mean squared error (RMSE), and the classification accuracy for arrival severity. The R^2 value measures how well the model explains the observed data values. RMSE measures the average error for a prediction, with the interpretation being that the RMSE value is the average number of people the predictions are off by. Additionally, we include a classification accuracy which shows how accurate the model is at predicting the phased threshold for population movements defined by FSNAU for normal (<1000 arrivals), alert (1000-5000), and alarm (>5000) levels (https://dashboard.fsnau.org/application/cache/images/EWEA_Dashboard_Indictor_Thresholds.pdf). The reason we included this metric is because the dataset contained several large outliers that heavily skewed the RMSE, which we will go into more at the end of this section. Additionally, we figured that in a real world scenario, it is more likely the aid groups would care more about whether the incoming number of migrants is low, medium, or high, rather than an exact number. "
   ]
  },
  {
   "cell_type": "code",
   "execution_count": 4,
   "metadata": {},
   "outputs": [
    {
     "name": "stderr",
     "output_type": "stream",
     "text": [
      "/var/folders/rf/hmt47tp17pl4jqh6zddf3vnh0000gn/T/ipykernel_10030/3228508402.py:2: DtypeWarning: Columns (17,23) have mixed types. Specify dtype option on import or set low_memory=False.\n",
      "  df = pd.read_csv('data/combined_data.csv')\n",
      "/Users/jakegilbert/anaconda3/envs/ml-0451/lib/python3.9/site-packages/sklearn/impute/_iterative.py:796: ConvergenceWarning: [IterativeImputer] Early stopping criterion not reached.\n",
      "  warnings.warn(\n",
      "/Users/jakegilbert/anaconda3/envs/ml-0451/lib/python3.9/site-packages/sklearn/impute/_iterative.py:796: ConvergenceWarning: [IterativeImputer] Early stopping criterion not reached.\n",
      "  warnings.warn(\n"
     ]
    }
   ],
   "source": [
    "# load data\n",
    "df = pd.read_csv('data/combined_data.csv')\n",
    "\n",
    "# create four dataframes of the data\n",
    "df_dropna = dropNA(df)\n",
    "df_dropna_t9 = dropNA(df, top_9=True)\n",
    "df_impute = impute(df)\n",
    "df_impute_t9 = impute(df, top_9=True)"
   ]
  },
  {
   "cell_type": "code",
   "execution_count": 6,
   "metadata": {},
   "outputs": [
    {
     "data": {
      "text/html": [
       "<div>\n",
       "<style scoped>\n",
       "    .dataframe tbody tr th:only-of-type {\n",
       "        vertical-align: middle;\n",
       "    }\n",
       "\n",
       "    .dataframe tbody tr th {\n",
       "        vertical-align: top;\n",
       "    }\n",
       "\n",
       "    .dataframe thead th {\n",
       "        text-align: right;\n",
       "    }\n",
       "</style>\n",
       "<table border=\"1\" class=\"dataframe\">\n",
       "  <thead>\n",
       "    <tr style=\"text-align: right;\">\n",
       "      <th></th>\n",
       "      <th>Arrivals</th>\n",
       "      <th>Region</th>\n",
       "      <th>District</th>\n",
       "      <th>Month</th>\n",
       "      <th>Year</th>\n",
       "      <th>Rainfall</th>\n",
       "      <th>Conflict Fatalities</th>\n",
       "      <th>Conflict Incidents</th>\n",
       "      <th>Water Price</th>\n",
       "      <th>Goat Price</th>\n",
       "    </tr>\n",
       "  </thead>\n",
       "  <tbody>\n",
       "    <tr>\n",
       "      <th>0</th>\n",
       "      <td>199.0</td>\n",
       "      <td>0</td>\n",
       "      <td>10</td>\n",
       "      <td>2</td>\n",
       "      <td>2018</td>\n",
       "      <td>4.342</td>\n",
       "      <td>0.0</td>\n",
       "      <td>1.0</td>\n",
       "      <td>4000.0</td>\n",
       "      <td>297750.0</td>\n",
       "    </tr>\n",
       "    <tr>\n",
       "      <th>3</th>\n",
       "      <td>68.0</td>\n",
       "      <td>0</td>\n",
       "      <td>53</td>\n",
       "      <td>2</td>\n",
       "      <td>2018</td>\n",
       "      <td>8.121</td>\n",
       "      <td>0.0</td>\n",
       "      <td>0.0</td>\n",
       "      <td>6000.0</td>\n",
       "      <td>410000.0</td>\n",
       "    </tr>\n",
       "    <tr>\n",
       "      <th>4</th>\n",
       "      <td>663.0</td>\n",
       "      <td>17</td>\n",
       "      <td>31</td>\n",
       "      <td>2</td>\n",
       "      <td>2018</td>\n",
       "      <td>2.247</td>\n",
       "      <td>0.0</td>\n",
       "      <td>1.0</td>\n",
       "      <td>11000.0</td>\n",
       "      <td>460000.0</td>\n",
       "    </tr>\n",
       "    <tr>\n",
       "      <th>6</th>\n",
       "      <td>110.0</td>\n",
       "      <td>17</td>\n",
       "      <td>30</td>\n",
       "      <td>2</td>\n",
       "      <td>2018</td>\n",
       "      <td>2.106</td>\n",
       "      <td>0.0</td>\n",
       "      <td>0.0</td>\n",
       "      <td>13000.0</td>\n",
       "      <td>378600.0</td>\n",
       "    </tr>\n",
       "    <tr>\n",
       "      <th>7</th>\n",
       "      <td>816.0</td>\n",
       "      <td>16</td>\n",
       "      <td>14</td>\n",
       "      <td>2</td>\n",
       "      <td>2018</td>\n",
       "      <td>2.120</td>\n",
       "      <td>0.0</td>\n",
       "      <td>1.0</td>\n",
       "      <td>10000.0</td>\n",
       "      <td>450000.0</td>\n",
       "    </tr>\n",
       "    <tr>\n",
       "      <th>...</th>\n",
       "      <td>...</td>\n",
       "      <td>...</td>\n",
       "      <td>...</td>\n",
       "      <td>...</td>\n",
       "      <td>...</td>\n",
       "      <td>...</td>\n",
       "      <td>...</td>\n",
       "      <td>...</td>\n",
       "      <td>...</td>\n",
       "      <td>...</td>\n",
       "    </tr>\n",
       "    <tr>\n",
       "      <th>328777</th>\n",
       "      <td>82.0</td>\n",
       "      <td>8</td>\n",
       "      <td>35</td>\n",
       "      <td>3</td>\n",
       "      <td>2015</td>\n",
       "      <td>61.321</td>\n",
       "      <td>0.0</td>\n",
       "      <td>0.0</td>\n",
       "      <td>10000.0</td>\n",
       "      <td>914000.0</td>\n",
       "    </tr>\n",
       "    <tr>\n",
       "      <th>328778</th>\n",
       "      <td>82.0</td>\n",
       "      <td>8</td>\n",
       "      <td>35</td>\n",
       "      <td>3</td>\n",
       "      <td>2015</td>\n",
       "      <td>61.321</td>\n",
       "      <td>0.0</td>\n",
       "      <td>0.0</td>\n",
       "      <td>10000.0</td>\n",
       "      <td>914000.0</td>\n",
       "    </tr>\n",
       "    <tr>\n",
       "      <th>328779</th>\n",
       "      <td>82.0</td>\n",
       "      <td>8</td>\n",
       "      <td>35</td>\n",
       "      <td>3</td>\n",
       "      <td>2015</td>\n",
       "      <td>61.321</td>\n",
       "      <td>0.0</td>\n",
       "      <td>0.0</td>\n",
       "      <td>10000.0</td>\n",
       "      <td>914000.0</td>\n",
       "    </tr>\n",
       "    <tr>\n",
       "      <th>328780</th>\n",
       "      <td>82.0</td>\n",
       "      <td>8</td>\n",
       "      <td>35</td>\n",
       "      <td>3</td>\n",
       "      <td>2015</td>\n",
       "      <td>61.321</td>\n",
       "      <td>0.0</td>\n",
       "      <td>0.0</td>\n",
       "      <td>10000.0</td>\n",
       "      <td>914000.0</td>\n",
       "    </tr>\n",
       "    <tr>\n",
       "      <th>328781</th>\n",
       "      <td>82.0</td>\n",
       "      <td>8</td>\n",
       "      <td>35</td>\n",
       "      <td>3</td>\n",
       "      <td>2015</td>\n",
       "      <td>61.321</td>\n",
       "      <td>0.0</td>\n",
       "      <td>0.0</td>\n",
       "      <td>10000.0</td>\n",
       "      <td>914000.0</td>\n",
       "    </tr>\n",
       "  </tbody>\n",
       "</table>\n",
       "<p>64765 rows × 10 columns</p>\n",
       "</div>"
      ],
      "text/plain": [
       "        Arrivals  Region  District  Month  Year  Rainfall  \\\n",
       "0          199.0       0        10      2  2018     4.342   \n",
       "3           68.0       0        53      2  2018     8.121   \n",
       "4          663.0      17        31      2  2018     2.247   \n",
       "6          110.0      17        30      2  2018     2.106   \n",
       "7          816.0      16        14      2  2018     2.120   \n",
       "...          ...     ...       ...    ...   ...       ...   \n",
       "328777      82.0       8        35      3  2015    61.321   \n",
       "328778      82.0       8        35      3  2015    61.321   \n",
       "328779      82.0       8        35      3  2015    61.321   \n",
       "328780      82.0       8        35      3  2015    61.321   \n",
       "328781      82.0       8        35      3  2015    61.321   \n",
       "\n",
       "        Conflict Fatalities  Conflict Incidents  Water Price  Goat Price  \n",
       "0                       0.0                 1.0       4000.0    297750.0  \n",
       "3                       0.0                 0.0       6000.0    410000.0  \n",
       "4                       0.0                 1.0      11000.0    460000.0  \n",
       "6                       0.0                 0.0      13000.0    378600.0  \n",
       "7                       0.0                 1.0      10000.0    450000.0  \n",
       "...                     ...                 ...          ...         ...  \n",
       "328777                  0.0                 0.0      10000.0    914000.0  \n",
       "328778                  0.0                 0.0      10000.0    914000.0  \n",
       "328779                  0.0                 0.0      10000.0    914000.0  \n",
       "328780                  0.0                 0.0      10000.0    914000.0  \n",
       "328781                  0.0                 0.0      10000.0    914000.0  \n",
       "\n",
       "[64765 rows x 10 columns]"
      ]
     },
     "execution_count": 6,
     "metadata": {},
     "output_type": "execute_result"
    }
   ],
   "source": [
    "df_dropna_t9"
   ]
  },
  {
   "cell_type": "markdown",
   "metadata": {},
   "source": [
    "### Linear Regression Model\n",
    "First, we build a Linear Regression model and evaluate it using the three different metrics. "
   ]
  },
  {
   "cell_type": "code",
   "execution_count": 8,
   "metadata": {},
   "outputs": [
    {
     "name": "stdout",
     "output_type": "stream",
     "text": [
      "dropna\n",
      "score: 0.023967468582459017\n",
      "rmse: 5825.22123739217\n",
      "classification accuracy: 0.4739442600169845\n",
      "\n",
      "\n",
      "dropna top 9\n",
      "score: 0.02210121480170002\n",
      "rmse: 5591.19824844895\n",
      "classification accuracy: 0.4643711881417432\n",
      "\n",
      "\n",
      "impute\n",
      "score: 0.3290560099895188\n",
      "rmse: 3526.4014350422235\n",
      "classification accuracy: 0.683725597518701\n",
      "\n",
      "\n",
      "impute top 9\n",
      "score: 0.1122756906208261\n",
      "rmse: 4076.570678768776\n",
      "classification accuracy: 0.68772425956334\n",
      "\n",
      "\n"
     ]
    }
   ],
   "source": [
    "# linear regression\n",
    "\n",
    "# dropna\n",
    "print(\"dropna\")\n",
    "train, test = train_test_split(df_dropna_t9, test_size=0.2)\n",
    "# create train and test split\n",
    "X_train = train.drop(['Arrivals'], axis=1)\n",
    "y_train = train[['Arrivals']]\n",
    "X_test = test.drop(['Arrivals'], axis=1)\n",
    "y_test = test[['Arrivals']]\n",
    "evaluate_LR(X_train, y_train, X_test, y_test)\n",
    "\n",
    "# dropna top 9\n",
    "print(\"dropna top 9\")\n",
    "train, test = train_test_split(df_dropna_t9, test_size=0.2)\n",
    "# create train and test split\n",
    "X_train = train.drop(['Arrivals'], axis=1)\n",
    "y_train = train[['Arrivals']]\n",
    "X_test = test.drop(['Arrivals'], axis=1)\n",
    "y_test = test[['Arrivals']]\n",
    "evaluate_LR(X_train, y_train, X_test, y_test)\n",
    "\n",
    "# impute\n",
    "print(\"impute\")\n",
    "train, test = train_test_split(df_impute, test_size=0.2)\n",
    "# create train and test split\n",
    "X_train = train.drop(['Arrivals'], axis=1)\n",
    "y_train = train[['Arrivals']]\n",
    "X_test = test.drop(['Arrivals'], axis=1)\n",
    "y_test = test[['Arrivals']]\n",
    "evaluate_LR(X_train, y_train, X_test, y_test)\n",
    "\n",
    "# impute top 9\n",
    "print(\"impute top 9\")\n",
    "train, test = train_test_split(df_impute_t9, test_size=0.2)\n",
    "# create train and test split\n",
    "X_train = train.drop(['Arrivals'], axis=1)\n",
    "y_train = train[['Arrivals']]\n",
    "X_test = test.drop(['Arrivals'], axis=1)\n",
    "y_test = test[['Arrivals']]\n",
    "evaluate_LR(X_train, y_train, X_test, y_test)"
   ]
  },
  {
   "cell_type": "markdown",
   "metadata": {},
   "source": [
    "### Decision Tree Model\n",
    "Next, we build a Decision Tree and evaluate it using the three different metrics. "
   ]
  },
  {
   "cell_type": "code",
   "execution_count": 9,
   "metadata": {},
   "outputs": [
    {
     "name": "stdout",
     "output_type": "stream",
     "text": [
      "dropna\n",
      "score: 0.8393464749643308\n",
      "rmse: 2519.840601872172\n",
      "classification accuracy: 0.9946730487145835\n",
      "dropna top 9\n",
      "score: 0.8672328257348606\n",
      "rmse: 2347.558680131061\n",
      "classification accuracy: 0.9943642399444145\n",
      "impute\n",
      "score: 0.9037202925583028\n",
      "rmse: 1338.1174224771605\n",
      "classification accuracy: 0.8629355956942164\n",
      "impute top 9\n",
      "score: 0.9055178269401049\n",
      "rmse: 1252.465929280185\n",
      "classification accuracy: 0.8635589612601107\n"
     ]
    }
   ],
   "source": [
    "# decision tree\n",
    "\n",
    "# dropna\n",
    "print(\"dropna\")\n",
    "train, test = train_test_split(df_dropna_t9, test_size=0.2)\n",
    "# create train and test split\n",
    "X_train = train.drop(['Arrivals'], axis=1)\n",
    "y_train = train[['Arrivals']]\n",
    "X_test = test.drop(['Arrivals'], axis=1)\n",
    "y_test = test[['Arrivals']]\n",
    "evaluate_DT(X_train, y_train, X_test, y_test)\n",
    "\n",
    "# dropna top 9\n",
    "print(\"dropna top 9\")\n",
    "train, test = train_test_split(df_dropna_t9, test_size=0.2)\n",
    "# create train and test split\n",
    "X_train = train.drop(['Arrivals'], axis=1)\n",
    "y_train = train[['Arrivals']]\n",
    "X_test = test.drop(['Arrivals'], axis=1)\n",
    "y_test = test[['Arrivals']]\n",
    "evaluate_DT(X_train, y_train, X_test, y_test)\n",
    "\n",
    "# impute\n",
    "print(\"impute\")\n",
    "train, test = train_test_split(df_impute, test_size=0.2)\n",
    "# create train and test split\n",
    "X_train = train.drop(['Arrivals'], axis=1)\n",
    "y_train = train[['Arrivals']]\n",
    "X_test = test.drop(['Arrivals'], axis=1)\n",
    "y_test = test[['Arrivals']]\n",
    "evaluate_DT(X_train, y_train, X_test, y_test)\n",
    "\n",
    "# impute top 9\n",
    "print(\"impute top 9\")\n",
    "train, test = train_test_split(df_impute_t9, test_size=0.2)\n",
    "# create train and test split\n",
    "X_train = train.drop(['Arrivals'], axis=1)\n",
    "y_train = train[['Arrivals']]\n",
    "X_test = test.drop(['Arrivals'], axis=1)\n",
    "y_test = test[['Arrivals']]\n",
    "evaluate_DT(X_train, y_train, X_test, y_test)"
   ]
  },
  {
   "cell_type": "markdown",
   "metadata": {},
   "source": [
    "### Random Forest Model\n",
    "Finally, we build a Random Forest and evaluate it using the three different metrics. "
   ]
  },
  {
   "cell_type": "code",
   "execution_count": 17,
   "metadata": {},
   "outputs": [
    {
     "name": "stdout",
     "output_type": "stream",
     "text": [
      "dropna\n"
     ]
    },
    {
     "name": "stderr",
     "output_type": "stream",
     "text": [
      "/Users/jakegilbert/anaconda3/envs/ml-0451/lib/python3.9/site-packages/sklearn/base.py:1151: DataConversionWarning: A column-vector y was passed when a 1d array was expected. Please change the shape of y to (n_samples,), for example using ravel().\n",
      "  return fit_method(estimator, *args, **kwargs)\n"
     ]
    },
    {
     "name": "stdout",
     "output_type": "stream",
     "text": [
      "score: 0.9593312483288938\n",
      "rmse: 1198.193613930013\n",
      "classification accuracy: 0.9915077588203505\n",
      "\n",
      "\n",
      "dropna top 9\n"
     ]
    },
    {
     "name": "stderr",
     "output_type": "stream",
     "text": [
      "/Users/jakegilbert/anaconda3/envs/ml-0451/lib/python3.9/site-packages/sklearn/base.py:1151: DataConversionWarning: A column-vector y was passed when a 1d array was expected. Please change the shape of y to (n_samples,), for example using ravel().\n",
      "  return fit_method(estimator, *args, **kwargs)\n"
     ]
    },
    {
     "name": "stdout",
     "output_type": "stream",
     "text": [
      "score: 0.8872696410226754\n",
      "rmse: 1924.943860921974\n",
      "classification accuracy: 0.9921253763606886\n",
      "\n",
      "\n",
      "impute\n"
     ]
    },
    {
     "name": "stderr",
     "output_type": "stream",
     "text": [
      "/Users/jakegilbert/anaconda3/envs/ml-0451/lib/python3.9/site-packages/sklearn/base.py:1151: DataConversionWarning: A column-vector y was passed when a 1d array was expected. Please change the shape of y to (n_samples,), for example using ravel().\n",
      "  return fit_method(estimator, *args, **kwargs)\n"
     ]
    },
    {
     "ename": "KeyboardInterrupt",
     "evalue": "",
     "output_type": "error",
     "traceback": [
      "\u001b[0;31m---------------------------------------------------------------------------\u001b[0m",
      "\u001b[0;31mKeyboardInterrupt\u001b[0m                         Traceback (most recent call last)",
      "Cell \u001b[0;32mIn[17], line 31\u001b[0m\n\u001b[1;32m     29\u001b[0m X_test \u001b[38;5;241m=\u001b[39m test\u001b[38;5;241m.\u001b[39mdrop([\u001b[38;5;124m'\u001b[39m\u001b[38;5;124mArrivals\u001b[39m\u001b[38;5;124m'\u001b[39m], axis\u001b[38;5;241m=\u001b[39m\u001b[38;5;241m1\u001b[39m)\n\u001b[1;32m     30\u001b[0m y_test \u001b[38;5;241m=\u001b[39m test[[\u001b[38;5;124m'\u001b[39m\u001b[38;5;124mArrivals\u001b[39m\u001b[38;5;124m'\u001b[39m]]\n\u001b[0;32m---> 31\u001b[0m \u001b[43mevaluate_RF\u001b[49m\u001b[43m(\u001b[49m\u001b[43mX_train\u001b[49m\u001b[43m,\u001b[49m\u001b[43m \u001b[49m\u001b[43my_train\u001b[49m\u001b[43m,\u001b[49m\u001b[43m \u001b[49m\u001b[43mX_test\u001b[49m\u001b[43m,\u001b[49m\u001b[43m \u001b[49m\u001b[43my_test\u001b[49m\u001b[43m)\u001b[49m\n\u001b[1;32m     33\u001b[0m \u001b[38;5;66;03m# impute top 9\u001b[39;00m\n\u001b[1;32m     34\u001b[0m \u001b[38;5;28mprint\u001b[39m(\u001b[38;5;124m\"\u001b[39m\u001b[38;5;124mimpute top 9\u001b[39m\u001b[38;5;124m\"\u001b[39m)\n",
      "File \u001b[0;32m~/Documents/cs451/UNHCR-ml-challenge/models.py:136\u001b[0m, in \u001b[0;36mevaluate_RF\u001b[0;34m(X_train, y_train, X_test, y_test)\u001b[0m\n\u001b[1;32m    134\u001b[0m \u001b[38;5;28;01mdef\u001b[39;00m \u001b[38;5;21mevaluate_RF\u001b[39m(X_train, y_train, X_test, y_test):\n\u001b[1;32m    135\u001b[0m     RF \u001b[38;5;241m=\u001b[39m RandomForestRegressor()\n\u001b[0;32m--> 136\u001b[0m     \u001b[43mRF\u001b[49m\u001b[38;5;241;43m.\u001b[39;49m\u001b[43mfit\u001b[49m\u001b[43m(\u001b[49m\u001b[43mX_train\u001b[49m\u001b[43m,\u001b[49m\u001b[43m \u001b[49m\u001b[43my_train\u001b[49m\u001b[43m)\u001b[49m\n\u001b[1;32m    138\u001b[0m     \u001b[38;5;66;03m# evaluate model based on bins\u001b[39;00m\n\u001b[1;32m    139\u001b[0m     true_bins \u001b[38;5;241m=\u001b[39m pd\u001b[38;5;241m.\u001b[39mcut(y_test[\u001b[38;5;124m'\u001b[39m\u001b[38;5;124mArrivals\u001b[39m\u001b[38;5;124m'\u001b[39m], bins\u001b[38;5;241m=\u001b[39m[\u001b[38;5;241m0\u001b[39m, \u001b[38;5;241m1000\u001b[39m, \u001b[38;5;241m5000\u001b[39m, \u001b[38;5;28mfloat\u001b[39m(\u001b[38;5;124m'\u001b[39m\u001b[38;5;124minf\u001b[39m\u001b[38;5;124m'\u001b[39m)], labels\u001b[38;5;241m=\u001b[39m[\u001b[38;5;241m1\u001b[39m, \u001b[38;5;241m2\u001b[39m, \u001b[38;5;241m3\u001b[39m], right\u001b[38;5;241m=\u001b[39m\u001b[38;5;28;01mFalse\u001b[39;00m)\n",
      "File \u001b[0;32m~/anaconda3/envs/ml-0451/lib/python3.9/site-packages/sklearn/base.py:1151\u001b[0m, in \u001b[0;36m_fit_context.<locals>.decorator.<locals>.wrapper\u001b[0;34m(estimator, *args, **kwargs)\u001b[0m\n\u001b[1;32m   1144\u001b[0m     estimator\u001b[38;5;241m.\u001b[39m_validate_params()\n\u001b[1;32m   1146\u001b[0m \u001b[38;5;28;01mwith\u001b[39;00m config_context(\n\u001b[1;32m   1147\u001b[0m     skip_parameter_validation\u001b[38;5;241m=\u001b[39m(\n\u001b[1;32m   1148\u001b[0m         prefer_skip_nested_validation \u001b[38;5;129;01mor\u001b[39;00m global_skip_validation\n\u001b[1;32m   1149\u001b[0m     )\n\u001b[1;32m   1150\u001b[0m ):\n\u001b[0;32m-> 1151\u001b[0m     \u001b[38;5;28;01mreturn\u001b[39;00m \u001b[43mfit_method\u001b[49m\u001b[43m(\u001b[49m\u001b[43mestimator\u001b[49m\u001b[43m,\u001b[49m\u001b[43m \u001b[49m\u001b[38;5;241;43m*\u001b[39;49m\u001b[43margs\u001b[49m\u001b[43m,\u001b[49m\u001b[43m \u001b[49m\u001b[38;5;241;43m*\u001b[39;49m\u001b[38;5;241;43m*\u001b[39;49m\u001b[43mkwargs\u001b[49m\u001b[43m)\u001b[49m\n",
      "File \u001b[0;32m~/anaconda3/envs/ml-0451/lib/python3.9/site-packages/sklearn/ensemble/_forest.py:456\u001b[0m, in \u001b[0;36mBaseForest.fit\u001b[0;34m(self, X, y, sample_weight)\u001b[0m\n\u001b[1;32m    445\u001b[0m trees \u001b[38;5;241m=\u001b[39m [\n\u001b[1;32m    446\u001b[0m     \u001b[38;5;28mself\u001b[39m\u001b[38;5;241m.\u001b[39m_make_estimator(append\u001b[38;5;241m=\u001b[39m\u001b[38;5;28;01mFalse\u001b[39;00m, random_state\u001b[38;5;241m=\u001b[39mrandom_state)\n\u001b[1;32m    447\u001b[0m     \u001b[38;5;28;01mfor\u001b[39;00m i \u001b[38;5;129;01min\u001b[39;00m \u001b[38;5;28mrange\u001b[39m(n_more_estimators)\n\u001b[1;32m    448\u001b[0m ]\n\u001b[1;32m    450\u001b[0m \u001b[38;5;66;03m# Parallel loop: we prefer the threading backend as the Cython code\u001b[39;00m\n\u001b[1;32m    451\u001b[0m \u001b[38;5;66;03m# for fitting the trees is internally releasing the Python GIL\u001b[39;00m\n\u001b[1;32m    452\u001b[0m \u001b[38;5;66;03m# making threading more efficient than multiprocessing in\u001b[39;00m\n\u001b[1;32m    453\u001b[0m \u001b[38;5;66;03m# that case. However, for joblib 0.12+ we respect any\u001b[39;00m\n\u001b[1;32m    454\u001b[0m \u001b[38;5;66;03m# parallel_backend contexts set at a higher level,\u001b[39;00m\n\u001b[1;32m    455\u001b[0m \u001b[38;5;66;03m# since correctness does not rely on using threads.\u001b[39;00m\n\u001b[0;32m--> 456\u001b[0m trees \u001b[38;5;241m=\u001b[39m \u001b[43mParallel\u001b[49m\u001b[43m(\u001b[49m\n\u001b[1;32m    457\u001b[0m \u001b[43m    \u001b[49m\u001b[43mn_jobs\u001b[49m\u001b[38;5;241;43m=\u001b[39;49m\u001b[38;5;28;43mself\u001b[39;49m\u001b[38;5;241;43m.\u001b[39;49m\u001b[43mn_jobs\u001b[49m\u001b[43m,\u001b[49m\n\u001b[1;32m    458\u001b[0m \u001b[43m    \u001b[49m\u001b[43mverbose\u001b[49m\u001b[38;5;241;43m=\u001b[39;49m\u001b[38;5;28;43mself\u001b[39;49m\u001b[38;5;241;43m.\u001b[39;49m\u001b[43mverbose\u001b[49m\u001b[43m,\u001b[49m\n\u001b[1;32m    459\u001b[0m \u001b[43m    \u001b[49m\u001b[43mprefer\u001b[49m\u001b[38;5;241;43m=\u001b[39;49m\u001b[38;5;124;43m\"\u001b[39;49m\u001b[38;5;124;43mthreads\u001b[39;49m\u001b[38;5;124;43m\"\u001b[39;49m\u001b[43m,\u001b[49m\n\u001b[1;32m    460\u001b[0m \u001b[43m\u001b[49m\u001b[43m)\u001b[49m\u001b[43m(\u001b[49m\n\u001b[1;32m    461\u001b[0m \u001b[43m    \u001b[49m\u001b[43mdelayed\u001b[49m\u001b[43m(\u001b[49m\u001b[43m_parallel_build_trees\u001b[49m\u001b[43m)\u001b[49m\u001b[43m(\u001b[49m\n\u001b[1;32m    462\u001b[0m \u001b[43m        \u001b[49m\u001b[43mt\u001b[49m\u001b[43m,\u001b[49m\n\u001b[1;32m    463\u001b[0m \u001b[43m        \u001b[49m\u001b[38;5;28;43mself\u001b[39;49m\u001b[38;5;241;43m.\u001b[39;49m\u001b[43mbootstrap\u001b[49m\u001b[43m,\u001b[49m\n\u001b[1;32m    464\u001b[0m \u001b[43m        \u001b[49m\u001b[43mX\u001b[49m\u001b[43m,\u001b[49m\n\u001b[1;32m    465\u001b[0m \u001b[43m        \u001b[49m\u001b[43my\u001b[49m\u001b[43m,\u001b[49m\n\u001b[1;32m    466\u001b[0m \u001b[43m        \u001b[49m\u001b[43msample_weight\u001b[49m\u001b[43m,\u001b[49m\n\u001b[1;32m    467\u001b[0m \u001b[43m        \u001b[49m\u001b[43mi\u001b[49m\u001b[43m,\u001b[49m\n\u001b[1;32m    468\u001b[0m \u001b[43m        \u001b[49m\u001b[38;5;28;43mlen\u001b[39;49m\u001b[43m(\u001b[49m\u001b[43mtrees\u001b[49m\u001b[43m)\u001b[49m\u001b[43m,\u001b[49m\n\u001b[1;32m    469\u001b[0m \u001b[43m        \u001b[49m\u001b[43mverbose\u001b[49m\u001b[38;5;241;43m=\u001b[39;49m\u001b[38;5;28;43mself\u001b[39;49m\u001b[38;5;241;43m.\u001b[39;49m\u001b[43mverbose\u001b[49m\u001b[43m,\u001b[49m\n\u001b[1;32m    470\u001b[0m \u001b[43m        \u001b[49m\u001b[43mclass_weight\u001b[49m\u001b[38;5;241;43m=\u001b[39;49m\u001b[38;5;28;43mself\u001b[39;49m\u001b[38;5;241;43m.\u001b[39;49m\u001b[43mclass_weight\u001b[49m\u001b[43m,\u001b[49m\n\u001b[1;32m    471\u001b[0m \u001b[43m        \u001b[49m\u001b[43mn_samples_bootstrap\u001b[49m\u001b[38;5;241;43m=\u001b[39;49m\u001b[43mn_samples_bootstrap\u001b[49m\u001b[43m,\u001b[49m\n\u001b[1;32m    472\u001b[0m \u001b[43m    \u001b[49m\u001b[43m)\u001b[49m\n\u001b[1;32m    473\u001b[0m \u001b[43m    \u001b[49m\u001b[38;5;28;43;01mfor\u001b[39;49;00m\u001b[43m \u001b[49m\u001b[43mi\u001b[49m\u001b[43m,\u001b[49m\u001b[43m \u001b[49m\u001b[43mt\u001b[49m\u001b[43m \u001b[49m\u001b[38;5;129;43;01min\u001b[39;49;00m\u001b[43m \u001b[49m\u001b[38;5;28;43menumerate\u001b[39;49m\u001b[43m(\u001b[49m\u001b[43mtrees\u001b[49m\u001b[43m)\u001b[49m\n\u001b[1;32m    474\u001b[0m \u001b[43m\u001b[49m\u001b[43m)\u001b[49m\n\u001b[1;32m    476\u001b[0m \u001b[38;5;66;03m# Collect newly grown trees\u001b[39;00m\n\u001b[1;32m    477\u001b[0m \u001b[38;5;28mself\u001b[39m\u001b[38;5;241m.\u001b[39mestimators_\u001b[38;5;241m.\u001b[39mextend(trees)\n",
      "File \u001b[0;32m~/anaconda3/envs/ml-0451/lib/python3.9/site-packages/sklearn/utils/parallel.py:65\u001b[0m, in \u001b[0;36mParallel.__call__\u001b[0;34m(self, iterable)\u001b[0m\n\u001b[1;32m     60\u001b[0m config \u001b[38;5;241m=\u001b[39m get_config()\n\u001b[1;32m     61\u001b[0m iterable_with_config \u001b[38;5;241m=\u001b[39m (\n\u001b[1;32m     62\u001b[0m     (_with_config(delayed_func, config), args, kwargs)\n\u001b[1;32m     63\u001b[0m     \u001b[38;5;28;01mfor\u001b[39;00m delayed_func, args, kwargs \u001b[38;5;129;01min\u001b[39;00m iterable\n\u001b[1;32m     64\u001b[0m )\n\u001b[0;32m---> 65\u001b[0m \u001b[38;5;28;01mreturn\u001b[39;00m \u001b[38;5;28;43msuper\u001b[39;49m\u001b[43m(\u001b[49m\u001b[43m)\u001b[49m\u001b[38;5;241;43m.\u001b[39;49m\u001b[38;5;21;43m__call__\u001b[39;49m\u001b[43m(\u001b[49m\u001b[43miterable_with_config\u001b[49m\u001b[43m)\u001b[49m\n",
      "File \u001b[0;32m~/anaconda3/envs/ml-0451/lib/python3.9/site-packages/joblib/parallel.py:1088\u001b[0m, in \u001b[0;36mParallel.__call__\u001b[0;34m(self, iterable)\u001b[0m\n\u001b[1;32m   1085\u001b[0m \u001b[38;5;28;01mif\u001b[39;00m \u001b[38;5;28mself\u001b[39m\u001b[38;5;241m.\u001b[39mdispatch_one_batch(iterator):\n\u001b[1;32m   1086\u001b[0m     \u001b[38;5;28mself\u001b[39m\u001b[38;5;241m.\u001b[39m_iterating \u001b[38;5;241m=\u001b[39m \u001b[38;5;28mself\u001b[39m\u001b[38;5;241m.\u001b[39m_original_iterator \u001b[38;5;129;01mis\u001b[39;00m \u001b[38;5;129;01mnot\u001b[39;00m \u001b[38;5;28;01mNone\u001b[39;00m\n\u001b[0;32m-> 1088\u001b[0m \u001b[38;5;28;01mwhile\u001b[39;00m \u001b[38;5;28;43mself\u001b[39;49m\u001b[38;5;241;43m.\u001b[39;49m\u001b[43mdispatch_one_batch\u001b[49m\u001b[43m(\u001b[49m\u001b[43miterator\u001b[49m\u001b[43m)\u001b[49m:\n\u001b[1;32m   1089\u001b[0m     \u001b[38;5;28;01mpass\u001b[39;00m\n\u001b[1;32m   1091\u001b[0m \u001b[38;5;28;01mif\u001b[39;00m pre_dispatch \u001b[38;5;241m==\u001b[39m \u001b[38;5;124m\"\u001b[39m\u001b[38;5;124mall\u001b[39m\u001b[38;5;124m\"\u001b[39m \u001b[38;5;129;01mor\u001b[39;00m n_jobs \u001b[38;5;241m==\u001b[39m \u001b[38;5;241m1\u001b[39m:\n\u001b[1;32m   1092\u001b[0m     \u001b[38;5;66;03m# The iterable was consumed all at once by the above for loop.\u001b[39;00m\n\u001b[1;32m   1093\u001b[0m     \u001b[38;5;66;03m# No need to wait for async callbacks to trigger to\u001b[39;00m\n\u001b[1;32m   1094\u001b[0m     \u001b[38;5;66;03m# consumption.\u001b[39;00m\n",
      "File \u001b[0;32m~/anaconda3/envs/ml-0451/lib/python3.9/site-packages/joblib/parallel.py:901\u001b[0m, in \u001b[0;36mParallel.dispatch_one_batch\u001b[0;34m(self, iterator)\u001b[0m\n\u001b[1;32m    899\u001b[0m     \u001b[38;5;28;01mreturn\u001b[39;00m \u001b[38;5;28;01mFalse\u001b[39;00m\n\u001b[1;32m    900\u001b[0m \u001b[38;5;28;01melse\u001b[39;00m:\n\u001b[0;32m--> 901\u001b[0m     \u001b[38;5;28;43mself\u001b[39;49m\u001b[38;5;241;43m.\u001b[39;49m\u001b[43m_dispatch\u001b[49m\u001b[43m(\u001b[49m\u001b[43mtasks\u001b[49m\u001b[43m)\u001b[49m\n\u001b[1;32m    902\u001b[0m     \u001b[38;5;28;01mreturn\u001b[39;00m \u001b[38;5;28;01mTrue\u001b[39;00m\n",
      "File \u001b[0;32m~/anaconda3/envs/ml-0451/lib/python3.9/site-packages/joblib/parallel.py:819\u001b[0m, in \u001b[0;36mParallel._dispatch\u001b[0;34m(self, batch)\u001b[0m\n\u001b[1;32m    817\u001b[0m \u001b[38;5;28;01mwith\u001b[39;00m \u001b[38;5;28mself\u001b[39m\u001b[38;5;241m.\u001b[39m_lock:\n\u001b[1;32m    818\u001b[0m     job_idx \u001b[38;5;241m=\u001b[39m \u001b[38;5;28mlen\u001b[39m(\u001b[38;5;28mself\u001b[39m\u001b[38;5;241m.\u001b[39m_jobs)\n\u001b[0;32m--> 819\u001b[0m     job \u001b[38;5;241m=\u001b[39m \u001b[38;5;28;43mself\u001b[39;49m\u001b[38;5;241;43m.\u001b[39;49m\u001b[43m_backend\u001b[49m\u001b[38;5;241;43m.\u001b[39;49m\u001b[43mapply_async\u001b[49m\u001b[43m(\u001b[49m\u001b[43mbatch\u001b[49m\u001b[43m,\u001b[49m\u001b[43m \u001b[49m\u001b[43mcallback\u001b[49m\u001b[38;5;241;43m=\u001b[39;49m\u001b[43mcb\u001b[49m\u001b[43m)\u001b[49m\n\u001b[1;32m    820\u001b[0m     \u001b[38;5;66;03m# A job can complete so quickly than its callback is\u001b[39;00m\n\u001b[1;32m    821\u001b[0m     \u001b[38;5;66;03m# called before we get here, causing self._jobs to\u001b[39;00m\n\u001b[1;32m    822\u001b[0m     \u001b[38;5;66;03m# grow. To ensure correct results ordering, .insert is\u001b[39;00m\n\u001b[1;32m    823\u001b[0m     \u001b[38;5;66;03m# used (rather than .append) in the following line\u001b[39;00m\n\u001b[1;32m    824\u001b[0m     \u001b[38;5;28mself\u001b[39m\u001b[38;5;241m.\u001b[39m_jobs\u001b[38;5;241m.\u001b[39minsert(job_idx, job)\n",
      "File \u001b[0;32m~/anaconda3/envs/ml-0451/lib/python3.9/site-packages/joblib/_parallel_backends.py:208\u001b[0m, in \u001b[0;36mSequentialBackend.apply_async\u001b[0;34m(self, func, callback)\u001b[0m\n\u001b[1;32m    206\u001b[0m \u001b[38;5;28;01mdef\u001b[39;00m \u001b[38;5;21mapply_async\u001b[39m(\u001b[38;5;28mself\u001b[39m, func, callback\u001b[38;5;241m=\u001b[39m\u001b[38;5;28;01mNone\u001b[39;00m):\n\u001b[1;32m    207\u001b[0m \u001b[38;5;250m    \u001b[39m\u001b[38;5;124;03m\"\"\"Schedule a func to be run\"\"\"\u001b[39;00m\n\u001b[0;32m--> 208\u001b[0m     result \u001b[38;5;241m=\u001b[39m \u001b[43mImmediateResult\u001b[49m\u001b[43m(\u001b[49m\u001b[43mfunc\u001b[49m\u001b[43m)\u001b[49m\n\u001b[1;32m    209\u001b[0m     \u001b[38;5;28;01mif\u001b[39;00m callback:\n\u001b[1;32m    210\u001b[0m         callback(result)\n",
      "File \u001b[0;32m~/anaconda3/envs/ml-0451/lib/python3.9/site-packages/joblib/_parallel_backends.py:597\u001b[0m, in \u001b[0;36mImmediateResult.__init__\u001b[0;34m(self, batch)\u001b[0m\n\u001b[1;32m    594\u001b[0m \u001b[38;5;28;01mdef\u001b[39;00m \u001b[38;5;21m__init__\u001b[39m(\u001b[38;5;28mself\u001b[39m, batch):\n\u001b[1;32m    595\u001b[0m     \u001b[38;5;66;03m# Don't delay the application, to avoid keeping the input\u001b[39;00m\n\u001b[1;32m    596\u001b[0m     \u001b[38;5;66;03m# arguments in memory\u001b[39;00m\n\u001b[0;32m--> 597\u001b[0m     \u001b[38;5;28mself\u001b[39m\u001b[38;5;241m.\u001b[39mresults \u001b[38;5;241m=\u001b[39m \u001b[43mbatch\u001b[49m\u001b[43m(\u001b[49m\u001b[43m)\u001b[49m\n",
      "File \u001b[0;32m~/anaconda3/envs/ml-0451/lib/python3.9/site-packages/joblib/parallel.py:288\u001b[0m, in \u001b[0;36mBatchedCalls.__call__\u001b[0;34m(self)\u001b[0m\n\u001b[1;32m    284\u001b[0m \u001b[38;5;28;01mdef\u001b[39;00m \u001b[38;5;21m__call__\u001b[39m(\u001b[38;5;28mself\u001b[39m):\n\u001b[1;32m    285\u001b[0m     \u001b[38;5;66;03m# Set the default nested backend to self._backend but do not set the\u001b[39;00m\n\u001b[1;32m    286\u001b[0m     \u001b[38;5;66;03m# change the default number of processes to -1\u001b[39;00m\n\u001b[1;32m    287\u001b[0m     \u001b[38;5;28;01mwith\u001b[39;00m parallel_backend(\u001b[38;5;28mself\u001b[39m\u001b[38;5;241m.\u001b[39m_backend, n_jobs\u001b[38;5;241m=\u001b[39m\u001b[38;5;28mself\u001b[39m\u001b[38;5;241m.\u001b[39m_n_jobs):\n\u001b[0;32m--> 288\u001b[0m         \u001b[38;5;28;01mreturn\u001b[39;00m [func(\u001b[38;5;241m*\u001b[39margs, \u001b[38;5;241m*\u001b[39m\u001b[38;5;241m*\u001b[39mkwargs)\n\u001b[1;32m    289\u001b[0m                 \u001b[38;5;28;01mfor\u001b[39;00m func, args, kwargs \u001b[38;5;129;01min\u001b[39;00m \u001b[38;5;28mself\u001b[39m\u001b[38;5;241m.\u001b[39mitems]\n",
      "File \u001b[0;32m~/anaconda3/envs/ml-0451/lib/python3.9/site-packages/joblib/parallel.py:288\u001b[0m, in \u001b[0;36m<listcomp>\u001b[0;34m(.0)\u001b[0m\n\u001b[1;32m    284\u001b[0m \u001b[38;5;28;01mdef\u001b[39;00m \u001b[38;5;21m__call__\u001b[39m(\u001b[38;5;28mself\u001b[39m):\n\u001b[1;32m    285\u001b[0m     \u001b[38;5;66;03m# Set the default nested backend to self._backend but do not set the\u001b[39;00m\n\u001b[1;32m    286\u001b[0m     \u001b[38;5;66;03m# change the default number of processes to -1\u001b[39;00m\n\u001b[1;32m    287\u001b[0m     \u001b[38;5;28;01mwith\u001b[39;00m parallel_backend(\u001b[38;5;28mself\u001b[39m\u001b[38;5;241m.\u001b[39m_backend, n_jobs\u001b[38;5;241m=\u001b[39m\u001b[38;5;28mself\u001b[39m\u001b[38;5;241m.\u001b[39m_n_jobs):\n\u001b[0;32m--> 288\u001b[0m         \u001b[38;5;28;01mreturn\u001b[39;00m [\u001b[43mfunc\u001b[49m\u001b[43m(\u001b[49m\u001b[38;5;241;43m*\u001b[39;49m\u001b[43margs\u001b[49m\u001b[43m,\u001b[49m\u001b[43m \u001b[49m\u001b[38;5;241;43m*\u001b[39;49m\u001b[38;5;241;43m*\u001b[39;49m\u001b[43mkwargs\u001b[49m\u001b[43m)\u001b[49m\n\u001b[1;32m    289\u001b[0m                 \u001b[38;5;28;01mfor\u001b[39;00m func, args, kwargs \u001b[38;5;129;01min\u001b[39;00m \u001b[38;5;28mself\u001b[39m\u001b[38;5;241m.\u001b[39mitems]\n",
      "File \u001b[0;32m~/anaconda3/envs/ml-0451/lib/python3.9/site-packages/sklearn/utils/parallel.py:127\u001b[0m, in \u001b[0;36m_FuncWrapper.__call__\u001b[0;34m(self, *args, **kwargs)\u001b[0m\n\u001b[1;32m    125\u001b[0m     config \u001b[38;5;241m=\u001b[39m {}\n\u001b[1;32m    126\u001b[0m \u001b[38;5;28;01mwith\u001b[39;00m config_context(\u001b[38;5;241m*\u001b[39m\u001b[38;5;241m*\u001b[39mconfig):\n\u001b[0;32m--> 127\u001b[0m     \u001b[38;5;28;01mreturn\u001b[39;00m \u001b[38;5;28;43mself\u001b[39;49m\u001b[38;5;241;43m.\u001b[39;49m\u001b[43mfunction\u001b[49m\u001b[43m(\u001b[49m\u001b[38;5;241;43m*\u001b[39;49m\u001b[43margs\u001b[49m\u001b[43m,\u001b[49m\u001b[43m \u001b[49m\u001b[38;5;241;43m*\u001b[39;49m\u001b[38;5;241;43m*\u001b[39;49m\u001b[43mkwargs\u001b[49m\u001b[43m)\u001b[49m\n",
      "File \u001b[0;32m~/anaconda3/envs/ml-0451/lib/python3.9/site-packages/sklearn/ensemble/_forest.py:188\u001b[0m, in \u001b[0;36m_parallel_build_trees\u001b[0;34m(tree, bootstrap, X, y, sample_weight, tree_idx, n_trees, verbose, class_weight, n_samples_bootstrap)\u001b[0m\n\u001b[1;32m    185\u001b[0m     \u001b[38;5;28;01melif\u001b[39;00m class_weight \u001b[38;5;241m==\u001b[39m \u001b[38;5;124m\"\u001b[39m\u001b[38;5;124mbalanced_subsample\u001b[39m\u001b[38;5;124m\"\u001b[39m:\n\u001b[1;32m    186\u001b[0m         curr_sample_weight \u001b[38;5;241m*\u001b[39m\u001b[38;5;241m=\u001b[39m compute_sample_weight(\u001b[38;5;124m\"\u001b[39m\u001b[38;5;124mbalanced\u001b[39m\u001b[38;5;124m\"\u001b[39m, y, indices\u001b[38;5;241m=\u001b[39mindices)\n\u001b[0;32m--> 188\u001b[0m     \u001b[43mtree\u001b[49m\u001b[38;5;241;43m.\u001b[39;49m\u001b[43mfit\u001b[49m\u001b[43m(\u001b[49m\u001b[43mX\u001b[49m\u001b[43m,\u001b[49m\u001b[43m \u001b[49m\u001b[43my\u001b[49m\u001b[43m,\u001b[49m\u001b[43m \u001b[49m\u001b[43msample_weight\u001b[49m\u001b[38;5;241;43m=\u001b[39;49m\u001b[43mcurr_sample_weight\u001b[49m\u001b[43m,\u001b[49m\u001b[43m \u001b[49m\u001b[43mcheck_input\u001b[49m\u001b[38;5;241;43m=\u001b[39;49m\u001b[38;5;28;43;01mFalse\u001b[39;49;00m\u001b[43m)\u001b[49m\n\u001b[1;32m    189\u001b[0m \u001b[38;5;28;01melse\u001b[39;00m:\n\u001b[1;32m    190\u001b[0m     tree\u001b[38;5;241m.\u001b[39mfit(X, y, sample_weight\u001b[38;5;241m=\u001b[39msample_weight, check_input\u001b[38;5;241m=\u001b[39m\u001b[38;5;28;01mFalse\u001b[39;00m)\n",
      "File \u001b[0;32m~/anaconda3/envs/ml-0451/lib/python3.9/site-packages/sklearn/base.py:1151\u001b[0m, in \u001b[0;36m_fit_context.<locals>.decorator.<locals>.wrapper\u001b[0;34m(estimator, *args, **kwargs)\u001b[0m\n\u001b[1;32m   1144\u001b[0m     estimator\u001b[38;5;241m.\u001b[39m_validate_params()\n\u001b[1;32m   1146\u001b[0m \u001b[38;5;28;01mwith\u001b[39;00m config_context(\n\u001b[1;32m   1147\u001b[0m     skip_parameter_validation\u001b[38;5;241m=\u001b[39m(\n\u001b[1;32m   1148\u001b[0m         prefer_skip_nested_validation \u001b[38;5;129;01mor\u001b[39;00m global_skip_validation\n\u001b[1;32m   1149\u001b[0m     )\n\u001b[1;32m   1150\u001b[0m ):\n\u001b[0;32m-> 1151\u001b[0m     \u001b[38;5;28;01mreturn\u001b[39;00m \u001b[43mfit_method\u001b[49m\u001b[43m(\u001b[49m\u001b[43mestimator\u001b[49m\u001b[43m,\u001b[49m\u001b[43m \u001b[49m\u001b[38;5;241;43m*\u001b[39;49m\u001b[43margs\u001b[49m\u001b[43m,\u001b[49m\u001b[43m \u001b[49m\u001b[38;5;241;43m*\u001b[39;49m\u001b[38;5;241;43m*\u001b[39;49m\u001b[43mkwargs\u001b[49m\u001b[43m)\u001b[49m\n",
      "File \u001b[0;32m~/anaconda3/envs/ml-0451/lib/python3.9/site-packages/sklearn/tree/_classes.py:1320\u001b[0m, in \u001b[0;36mDecisionTreeRegressor.fit\u001b[0;34m(self, X, y, sample_weight, check_input)\u001b[0m\n\u001b[1;32m   1290\u001b[0m \u001b[38;5;129m@_fit_context\u001b[39m(prefer_skip_nested_validation\u001b[38;5;241m=\u001b[39m\u001b[38;5;28;01mTrue\u001b[39;00m)\n\u001b[1;32m   1291\u001b[0m \u001b[38;5;28;01mdef\u001b[39;00m \u001b[38;5;21mfit\u001b[39m(\u001b[38;5;28mself\u001b[39m, X, y, sample_weight\u001b[38;5;241m=\u001b[39m\u001b[38;5;28;01mNone\u001b[39;00m, check_input\u001b[38;5;241m=\u001b[39m\u001b[38;5;28;01mTrue\u001b[39;00m):\n\u001b[1;32m   1292\u001b[0m \u001b[38;5;250m    \u001b[39m\u001b[38;5;124;03m\"\"\"Build a decision tree regressor from the training set (X, y).\u001b[39;00m\n\u001b[1;32m   1293\u001b[0m \n\u001b[1;32m   1294\u001b[0m \u001b[38;5;124;03m    Parameters\u001b[39;00m\n\u001b[0;32m   (...)\u001b[0m\n\u001b[1;32m   1317\u001b[0m \u001b[38;5;124;03m        Fitted estimator.\u001b[39;00m\n\u001b[1;32m   1318\u001b[0m \u001b[38;5;124;03m    \"\"\"\u001b[39;00m\n\u001b[0;32m-> 1320\u001b[0m     \u001b[38;5;28;43msuper\u001b[39;49m\u001b[43m(\u001b[49m\u001b[43m)\u001b[49m\u001b[38;5;241;43m.\u001b[39;49m\u001b[43m_fit\u001b[49m\u001b[43m(\u001b[49m\n\u001b[1;32m   1321\u001b[0m \u001b[43m        \u001b[49m\u001b[43mX\u001b[49m\u001b[43m,\u001b[49m\n\u001b[1;32m   1322\u001b[0m \u001b[43m        \u001b[49m\u001b[43my\u001b[49m\u001b[43m,\u001b[49m\n\u001b[1;32m   1323\u001b[0m \u001b[43m        \u001b[49m\u001b[43msample_weight\u001b[49m\u001b[38;5;241;43m=\u001b[39;49m\u001b[43msample_weight\u001b[49m\u001b[43m,\u001b[49m\n\u001b[1;32m   1324\u001b[0m \u001b[43m        \u001b[49m\u001b[43mcheck_input\u001b[49m\u001b[38;5;241;43m=\u001b[39;49m\u001b[43mcheck_input\u001b[49m\u001b[43m,\u001b[49m\n\u001b[1;32m   1325\u001b[0m \u001b[43m    \u001b[49m\u001b[43m)\u001b[49m\n\u001b[1;32m   1326\u001b[0m     \u001b[38;5;28;01mreturn\u001b[39;00m \u001b[38;5;28mself\u001b[39m\n",
      "File \u001b[0;32m~/anaconda3/envs/ml-0451/lib/python3.9/site-packages/sklearn/tree/_classes.py:443\u001b[0m, in \u001b[0;36mBaseDecisionTree._fit\u001b[0;34m(self, X, y, sample_weight, check_input, missing_values_in_feature_mask)\u001b[0m\n\u001b[1;32m    432\u001b[0m \u001b[38;5;28;01melse\u001b[39;00m:\n\u001b[1;32m    433\u001b[0m     builder \u001b[38;5;241m=\u001b[39m BestFirstTreeBuilder(\n\u001b[1;32m    434\u001b[0m         splitter,\n\u001b[1;32m    435\u001b[0m         min_samples_split,\n\u001b[0;32m   (...)\u001b[0m\n\u001b[1;32m    440\u001b[0m         \u001b[38;5;28mself\u001b[39m\u001b[38;5;241m.\u001b[39mmin_impurity_decrease,\n\u001b[1;32m    441\u001b[0m     )\n\u001b[0;32m--> 443\u001b[0m \u001b[43mbuilder\u001b[49m\u001b[38;5;241;43m.\u001b[39;49m\u001b[43mbuild\u001b[49m\u001b[43m(\u001b[49m\u001b[38;5;28;43mself\u001b[39;49m\u001b[38;5;241;43m.\u001b[39;49m\u001b[43mtree_\u001b[49m\u001b[43m,\u001b[49m\u001b[43m \u001b[49m\u001b[43mX\u001b[49m\u001b[43m,\u001b[49m\u001b[43m \u001b[49m\u001b[43my\u001b[49m\u001b[43m,\u001b[49m\u001b[43m \u001b[49m\u001b[43msample_weight\u001b[49m\u001b[43m,\u001b[49m\u001b[43m \u001b[49m\u001b[43mmissing_values_in_feature_mask\u001b[49m\u001b[43m)\u001b[49m\n\u001b[1;32m    445\u001b[0m \u001b[38;5;28;01mif\u001b[39;00m \u001b[38;5;28mself\u001b[39m\u001b[38;5;241m.\u001b[39mn_outputs_ \u001b[38;5;241m==\u001b[39m \u001b[38;5;241m1\u001b[39m \u001b[38;5;129;01mand\u001b[39;00m is_classifier(\u001b[38;5;28mself\u001b[39m):\n\u001b[1;32m    446\u001b[0m     \u001b[38;5;28mself\u001b[39m\u001b[38;5;241m.\u001b[39mn_classes_ \u001b[38;5;241m=\u001b[39m \u001b[38;5;28mself\u001b[39m\u001b[38;5;241m.\u001b[39mn_classes_[\u001b[38;5;241m0\u001b[39m]\n",
      "\u001b[0;31mKeyboardInterrupt\u001b[0m: "
     ]
    }
   ],
   "source": [
    "# random forest\n",
    "\n",
    "# dropna\n",
    "print(\"dropna\")\n",
    "train, test = train_test_split(df_dropna_t9, test_size=0.2)\n",
    "# create train and test split\n",
    "X_train = train.drop(['Arrivals'], axis=1)\n",
    "y_train = train[['Arrivals']]\n",
    "X_test = test.drop(['Arrivals'], axis=1)\n",
    "y_test = test[['Arrivals']]\n",
    "evaluate_RF(X_train, y_train, X_test, y_test)\n",
    "\n",
    "# dropna top 9\n",
    "print(\"dropna top 9\")\n",
    "train, test = train_test_split(df_dropna_t9, test_size=0.2)\n",
    "# create train and test split\n",
    "X_train = train.drop(['Arrivals'], axis=1)\n",
    "y_train = train[['Arrivals']]\n",
    "X_test = test.drop(['Arrivals'], axis=1)\n",
    "y_test = test[['Arrivals']]\n",
    "evaluate_RF(X_train, y_train, X_test, y_test)\n",
    "\n",
    "# impute\n",
    "print(\"impute\")\n",
    "train, test = train_test_split(df_impute, test_size=0.2)\n",
    "# create train and test split\n",
    "X_train = train.drop(['Arrivals'], axis=1)\n",
    "y_train = train[['Arrivals']]\n",
    "X_test = test.drop(['Arrivals'], axis=1)\n",
    "y_test = test[['Arrivals']]\n",
    "evaluate_RF(X_train, y_train, X_test, y_test)\n",
    "\n",
    "# impute top 9\n",
    "print(\"impute top 9\")\n",
    "train, test = train_test_split(df_impute_t9, test_size=0.2)\n",
    "# create train and test split\n",
    "X_train = train.drop(['Arrivals'], axis=1)\n",
    "y_train = train[['Arrivals']]\n",
    "X_test = test.drop(['Arrivals'], axis=1)\n",
    "y_test = test[['Arrivals']]\n",
    "evaluate_RF(X_train, y_train, X_test, y_test)"
   ]
  },
  {
   "cell_type": "markdown",
   "metadata": {},
   "source": [
    "### Impute Disadvantages\n",
    "When we impute the data, we are filling in the missing values with an estimate based on the other present features. This can be problematic because it skews the data with negative values. \n",
    "\n",
    "We can see this with our arrival data for the imputed dataframe. If we look at the y_train for each model, we will find that there exists some negative values for the number of arrivals which does not reflect a number that can occur in reality."
   ]
  },
  {
   "cell_type": "code",
   "execution_count": 19,
   "metadata": {},
   "outputs": [
    {
     "name": "stdout",
     "output_type": "stream",
     "text": [
      "percent of imputed arrival data that is negative: 16.29023429779082\n"
     ]
    }
   ],
   "source": [
    "# show y_trains\n",
    "def count_negative(values):\n",
    "    count = 0\n",
    "    for value in values:\n",
    "        if value < 0:\n",
    "            count += 1\n",
    "    return count\n",
    "\n",
    "print(f\"percent of imputed arrival data that is negative: {count_negative(df_impute['Arrivals'])/ len(y_train['Arrivals']) * 100}\")"
   ]
  },
  {
   "cell_type": "markdown",
   "metadata": {},
   "source": [
    "So we see that 16% of all the values described for the arrivals column in the imputed dataset are somehow negative. This is a clear indication that imputing the data is not the best approach for this dataset."
   ]
  },
  {
   "cell_type": "markdown",
   "metadata": {},
   "source": [
    "### Dataset Outliers\n",
    "The dataset contained several large outliers for Arrivals that were throwing off the RMSE calculations. As can be seen, the 90th percentile of arrivals was 1,677. In other words, 90% of migrations had 1,677 or fewer people. However, the maximum number of arrivals for a single observation was 259,678. This implies the existence of some large outliers in the dataset that skew the RMSE calculation, making the models seem worse than they are. To show that the models can predict the majority of points accurately, we created the following visualization"
   ]
  },
  {
   "cell_type": "code",
   "execution_count": 21,
   "metadata": {},
   "outputs": [
    {
     "name": "stdout",
     "output_type": "stream",
     "text": [
      "90th percentile: 1677.0\n",
      "count    191416.000000\n",
      "mean       1226.451807\n",
      "std        5534.244627\n",
      "min           1.000000\n",
      "25%          49.000000\n",
      "50%         194.000000\n",
      "75%         614.000000\n",
      "max      259678.000000\n",
      "Name: Arrivals, dtype: float64\n"
     ]
    },
    {
     "name": "stderr",
     "output_type": "stream",
     "text": [
      "/var/folders/fv/_v7myjl904983sbb39qbkzw40000gn/T/ipykernel_63605/790206726.py:1: DtypeWarning: Columns (17,23) have mixed types. Specify dtype option on import or set low_memory=False.\n",
      "  df = pd.read_csv('data/combined_data.csv')\n"
     ]
    }
   ],
   "source": [
    "df = pd.read_csv('data/combined_data.csv')\n",
    "print(f'90th percentile: {df[\"Arrivals\"].quantile(q=0.90)}')\n",
    "print(df[\"Arrivals\"].describe())"
   ]
  },
  {
   "cell_type": "markdown",
   "metadata": {},
   "source": [
    "### Data Visualizations\n",
    "We created a few visualizations of our data and our decision tree model's performance to understand how they interact. "
   ]
  },
  {
   "cell_type": "code",
   "execution_count": 47,
   "metadata": {},
   "outputs": [
    {
     "data": {
      "text/plain": [
       "<matplotlib.legend.Legend at 0x28bfb5ee0>"
      ]
     },
     "execution_count": 47,
     "metadata": {},
     "output_type": "execute_result"
    },
    {
     "data": {
      "image/png": "[encoded data removed]",
      "text/plain": [
       "<Figure size 1800x600 with 1 Axes>"
      ]
     },
     "metadata": {},
     "output_type": "display_data"
    }
   ],
   "source": [
    "import matplotlib.pyplot as plt\n",
    "counts = df.groupby(['Year', 'Month'])['Arrivals'].sum().reset_index()\n",
    "# Set figure size\n",
    "plt.figure(figsize=(18, 6))\n",
    "\n",
    "# Combine year and month to create a new column for x-axis\n",
    "counts['Year-Month'] = counts['Year'].astype(str) + '/' + counts['Month'].astype(str)\n",
    "\n",
    "# Set x-axis ticks and labels\n",
    "x_ticks = counts['Year-Month'].unique()\n",
    "x_labels = counts['Month'].unique()\n",
    "\n",
    "# Loop through each year and plot the number of orders as bars\n",
    "for year in counts['Year'].unique():\n",
    "    year_data = counts[counts['Year'] == year]\n",
    "    plt.bar(year_data['Year-Month'], year_data['Arrivals'], label=str(year), alpha=0.7)\n",
    "\n",
    "# Set x-axis ticks and labels\n",
    "plt.xticks(ticks=range(len(x_ticks)))\n",
    "\n",
    "# Rotate x-axis labels for better readability\n",
    "plt.xticks(rotation=90, ha='right')\n",
    "\n",
    "# Add labels and title\n",
    "plt.xlabel('Month')\n",
    "plt.ylabel('Number of Arrivals')\n",
    "plt.title('Number of Arrivals by Month Over Time')\n",
    "plt.legend(title='Year')"
   ]
  },
  {
   "cell_type": "markdown",
   "metadata": {},
   "source": [
    "Here, we see that a lot of people move in June and that throughout each year we see ths cyclical nature."
   ]
  },
  {
   "cell_type": "code",
   "execution_count": 66,
   "metadata": {},
   "outputs": [
    {
     "name": "stdout",
     "output_type": "stream",
     "text": [
      "0     2014-12-01\n",
      "1     2015-04-01\n",
      "2     2015-08-01\n",
      "3     2015-12-01\n",
      "4     2015-02-01\n",
      "         ...    \n",
      "104   2023-03-01\n",
      "105   2023-05-01\n",
      "106   2023-11-01\n",
      "107   2023-10-01\n",
      "108   2023-09-01\n",
      "Name: Year-Month, Length: 109, dtype: datetime64[ns] 0            0.0\n",
      "1         4651.0\n",
      "2         5448.0\n",
      "3       471040.0\n",
      "4         2940.0\n",
      "         ...    \n",
      "104     404640.0\n",
      "105     450615.0\n",
      "106    1177460.0\n",
      "107     124390.0\n",
      "108      60965.0\n",
      "Name: Arrivals, Length: 109, dtype: float64\n"
     ]
    },
    {
     "data": {
      "text/plain": [
       "[<matplotlib.lines.Line2D at 0x28c934eb0>]"
      ]
     },
     "execution_count": 66,
     "metadata": {},
     "output_type": "execute_result"
    },
    {
     "data": {
      "image/png": "[encoded data removed]",
      "text/plain": [
       "<Figure size 1200x600 with 1 Axes>"
      ]
     },
     "metadata": {},
     "output_type": "display_data"
    }
   ],
   "source": [
    "print(counts['Year-Month'], counts['Arrivals'])\n",
    "\n",
    "# Convert the \"Year-Month\" column to datetime format\n",
    "counts['Year-Month'] = pd.to_datetime(counts['Year-Month'], format='%Y-%B')\n",
    "\n",
    "# Sort the DataFrame by the \"Year-Month\" column\n",
    "order_counts_sorted = counts.sort_values('Year-Month')\n",
    "# Set figure size\n",
    "plt.figure(figsize=(12, 6))\n",
    "\n",
    "# Plot the bar plot\n",
    "plt.plot(order_counts_sorted['Year-Month'], order_counts_sorted['Arrivals'])\n"
   ]
  },
  {
   "cell_type": "code",
   "execution_count": 71,
   "metadata": {},
   "outputs": [
    {
     "name": "stdout",
     "output_type": "stream",
     "text": [
      "percent of perfect predictions: 0.9790010036285031\n"
     ]
    }
   ],
   "source": [
    "# build our best model\n",
    "train, test = train_test_split(df_dropna_t9, test_size=0.2)\n",
    "X_train = train.drop(['Arrivals'], axis=1)\n",
    "y_train = train[['Arrivals']]\n",
    "X_test = test.drop(['Arrivals'], axis=1)\n",
    "y_test = test[['Arrivals']]\n",
    "\n",
    "DT = DecisionTreeRegressor()\n",
    "DT.fit(X_train, y_train)\n",
    "\n",
    "preds = DT.predict((X_test))\n",
    "y_true = y_test.values.flatten()\n",
    "diffs = preds - y_true\n",
    "\n",
    "print(f'percent of perfect predictions: {(np.count_nonzero(diffs == 0) / len(diffs))}')"
   ]
  },
  {
   "cell_type": "code",
   "execution_count": 72,
   "metadata": {},
   "outputs": [
    {
     "data": {
      "text/plain": [
       "[<matplotlib.lines.Line2D at 0x28ca38160>]"
      ]
     },
     "execution_count": 72,
     "metadata": {},
     "output_type": "execute_result"
    },
    {
     "data": {
      "image/png": "[encoded data removed]",
      "text/plain": [
       "<Figure size 640x480 with 1 Axes>"
      ]
     },
     "metadata": {},
     "output_type": "display_data"
    }
   ],
   "source": [
    "# plot of differences\n",
    "plt.plot(np.sort(diffs))"
   ]
  },
  {
   "cell_type": "code",
   "execution_count": null,
   "metadata": {},
   "outputs": [],
   "source": [
    "# plot only the differences greater than 1000\n",
    "preds = RF.predict((X_test))\n",
    "\n",
    "bins = np.arange(0, max(diffs), 10000)\n",
    "plt.hist(diffs[diffs > 1000], bins=bins, edgecolor='black')\n",
    "\n",
    "# Add labels and title\n",
    "plt.xlabel('Difference')\n",
    "plt.ylabel('Frequency')\n",
    "plt.title('Histogram of Differences')"
   ]
  },
  {
   "cell_type": "markdown",
   "metadata": {},
   "source": [
    "# Conclusion\n",
    "\n",
    "In conclusion, we found that the sub dataset that dropped NA values as opposed to imputing was the most accurate. The most likely cause for this is that the data is overfit, due to only have 275 rows left after removing rows with NA values with all of the features: "
   ]
  },
  {
   "cell_type": "code",
   "execution_count": 16,
   "metadata": {},
   "outputs": [
    {
     "name": "stdout",
     "output_type": "stream",
     "text": [
      "# rows after dropping NA values (all features): 275\n",
      "# rows after imputing (all features): 328856\n"
     ]
    }
   ],
   "source": [
    "print(\"# rows after dropping NA values (all features):\",df_dropna.shape[0])\n",
    "print(\"# rows after imputing (all features):\",df_impute.shape[0])\n"
   ]
  },
  {
   "cell_type": "markdown",
   "metadata": {},
   "source": [
    "This is a dramatic decrease from the 328,856 rows in our original dataset and after imputing with all features. While removing NA values may ensure all of the data is from the original source, the decrease in rows also runs the risk of overfitting.\n",
    "\n",
    "The imputed data also proved to be fairly accurate for the three models. Linear Regression, like with other datasets was fairly low with 68% accuracy, but this proved to be higher than any other dataset.\n",
    "\n",
    "The imputed data did have a side-effect of producing negative values, which is impossible given our target (Arrivals) cannot be negative: "
   ]
  },
  {
   "cell_type": "code",
   "execution_count": 20,
   "metadata": {},
   "outputs": [
    {
     "name": "stdout",
     "output_type": "stream",
     "text": [
      "percent of imputed arrival data that is negative: 16.29023429779082\n"
     ]
    }
   ],
   "source": [
    "print(f\"percent of imputed arrival data that is negative: {count_negative(df_impute['Arrivals'])/ len(y_train['Arrivals']) * 100}\")"
   ]
  },
  {
   "cell_type": "markdown",
   "metadata": {},
   "source": [
    "We think the dropNA top 9 is the best, since it performs the best and is unlikely to be overfit and also doesn't have the weird negative values. The best model on this dataset was a decision tree -> reiterate this models scores\n",
    "\n",
    "With this understanding of imputing and overfitting in mind, overall, the most accurate dataset is when we dropped the NA values after only maintaining the \"top 9\" features recommended by the UNCHR in their challenge: Region, District, Month, Year, rainfall, Conflict Fatalities, Conflict Incidents, Water Price, Goat Price. According to the UN, these features are most supported throughout our time frame and provide the best ability to predict the amount of arrivals. By reducing the amount of features, we were able to prevent overfitting by maintaining more rows. This dataset also has the advantage of having no negative values as a side effect of imputing:"
   ]
  },
  {
   "cell_type": "code",
   "execution_count": 21,
   "metadata": {},
   "outputs": [
    {
     "name": "stdout",
     "output_type": "stream",
     "text": [
      "# rows after dropping NA values (top 9 features): 64765\n"
     ]
    }
   ],
   "source": [
    "print(\"# rows after dropping NA values (top 9 features):\",df_dropna_t9.shape[0])\n",
    "\n"
   ]
  },
  {
   "cell_type": "markdown",
   "metadata": {},
   "source": [
    "#### The accuracies for dropping NA values with 9 features:\n",
    "\n",
    "##### Linear Regression:\n",
    "Accuracy: 46%\n",
    "Score (r^2): 0.02\n",
    "##### Decision Tree Regressor: \n",
    "Accuracy: 99%\n",
    "Score (r^2): 0.87\n",
    "##### Random Forest:\n",
    "Accuracy: 99%\n",
    "Score (r^2): 89"
   ]
  },
  {
   "cell_type": "markdown",
   "metadata": {},
   "source": [
    "The Random Forest Regressor with the dataset that drops NA values with the top 9 features has the highest score and accuracy for any model.\n",
    "\n",
    "Overall, by exploring these different datasets, methods of data cleaning and models, we were able to understand how accuracy measurements can be misleading due to overfitting and how outstanding factors in data collection can ultimately sway models. \n",
    "\n",
    "\n",
    "\n",
    "OTHER STUFF:\n",
    "\n",
    "e do very well on almost all predictions (perfectly predict 98(check this)% of the time) but we fuck up bad on the few large predictions. \n",
    "If these were anomolies that we dont expect to get right (i.e. there was some external factor not present in our data that caused them), then no problem\n",
    "If we want to get these right (i.e. they were caused by the factors we have in our dataset alone - rain, market prices, etc.), then we should try to to tell our model the make bolder predictions in some way"
   ]
  }
 ],
 "metadata": {
  "kernelspec": {
   "display_name": "Python 3",
   "language": "python",
   "name": "python3"
  },
  "language_info": {
   "codemirror_mode": {
    "name": "ipython",
    "version": 3
   },
   "file_extension": ".py",
   "mimetype": "text/x-python",
   "name": "python",
   "nbconvert_exporter": "python",
   "pygments_lexer": "ipython3",
   "version": "3.9.18"
  }
 },
 "nbformat": 4,
 "nbformat_minor": 2
}
