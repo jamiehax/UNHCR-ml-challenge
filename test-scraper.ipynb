{
 "cells": [
  {
   "cell_type": "code",
   "execution_count": 3,
   "metadata": {},
   "outputs": [],
   "source": [
    "from scraper import Scraper\n",
    "import pandas as pd\n",
    "\n",
    "# initialize scraper\n",
    "scraper = Scraper()\n",
    "\n",
    "# example test URLs\n",
    "urls = [\n",
    "    'https://dashboard.fsnau.org/population/arrivals',\n",
    "    'https://dashboard.fsnau.org/population/departures',\n",
    "    'https://dashboard.fsnau.org/climate/rainfall',\n",
    "]\n",
    "\n",
    "# scrape and save URLs to dataframe\n",
    "dfs = scraper.scrape(urls, to_csv=True)\n",
    "\n",
    "# read in dataframes\n",
    "arrivals_df = pd.read_csv('data/population-arrivals.csv')\n",
    "arrivals_df = pd.read_csv('data/population-departures.csv')\n",
    "rainfall_df = pd.read_csv('data/climate-rainfall.csv')"
   ]
  },
  {
   "cell_type": "code",
   "execution_count": 5,
   "metadata": {},
   "outputs": [
    {
     "data": {
      "text/html": [
       "<div>\n",
       "<style scoped>\n",
       "    .dataframe tbody tr th:only-of-type {\n",
       "        vertical-align: middle;\n",
       "    }\n",
       "\n",
       "    .dataframe tbody tr th {\n",
       "        vertical-align: top;\n",
       "    }\n",
       "\n",
       "    .dataframe thead th {\n",
       "        text-align: right;\n",
       "    }\n",
       "</style>\n",
       "<table border=\"1\" class=\"dataframe\">\n",
       "  <thead>\n",
       "    <tr style=\"text-align: right;\">\n",
       "      <th>