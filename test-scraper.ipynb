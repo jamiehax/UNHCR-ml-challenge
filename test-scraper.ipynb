{
 "cells": [
  {
   "cell_type": "code",
   "execution_count": 1,
   "metadata": {},
   "outputs": [
    {
     "name": "stdout",
     "output_type": "stream",
     "text": [
      "Scraped CDI (drought) data with 0 errors.\n",
      "Scraped NDVI (vegetation) data with 0 errors.\n",
      "Scraped Flood data with 0 errors.\n",
      "Scraped Rainfall data with 0 errors.\n",
      "Scraped Water Price data with 0 errors.\n"
     ]
    }
   ],
   "source": [
    "import scraper\n",
    "import pandas as pd\n",
    "\n",
    "# initialize scraper\n",
    "scraper = scraper.Scraper()"
   ]
  },
  {
   "cell_type": "code",
   "execution_count": null,
   "metadata": {},
   "outputs": [],
   "source": [
    "# scrape climate data\n",
    "climate_errs = scraper.scrape_climate(to_csv=True, return_dfs=False)"
   ]
  }
 ],
 "metadata": {
  "kernelspec": {
   "display_name": "ml-0451",
   "language": "python",
   "name": "python3"
  },
  "language_info": {
   "codemirror_mode": {
    "name": "ipython",
    "version": 3
   },
   "file_extension": ".py",
   "mimetype": "text/x-python",
   "name": "python",
   "nbconvert_exporter": "python",
   "pygments_lexer": "ipython3",
   "version": "3.9.18"
  }
 },
 "nbformat": 4,
 "nbformat_minor": 2
}
